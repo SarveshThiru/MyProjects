{
  "nbformat": 4,
  "nbformat_minor": 0,
  "metadata": {
    "colab": {
      "provenance": []
    },
    "kernelspec": {
      "name": "python3",
      "display_name": "Python 3"
    },
    "language_info": {
      "name": "python"
    }
  },
  "cells": [
    {
      "cell_type": "markdown",
      "source": [
        "# Movie_Recommendation"
      ],
      "metadata": {
        "id": "fvCg-SI0Z5Fq"
      }
    },
    {
      "cell_type": "markdown",
      "source": [
        "**Import Library**\n",
        "\n"
      ],
      "metadata": {
        "id": "Eo_2Zj3gGXff"
      }
    },
    {
      "cell_type": "code",
      "execution_count": 2,
      "metadata": {
        "id": "yAzoEmI_jBFA"
      },
      "outputs": [],
      "source": [
        "import pandas as pd"
      ]
    },
    {
      "cell_type": "code",
      "source": [
        "import numpy as np"
      ],
      "metadata": {
        "id": "yuZMQe5cFV6k"
      },
      "execution_count": 3,
      "outputs": []
    },
    {
      "cell_type": "markdown",
      "source": [
        "**Import Dataset**"
      ],
      "metadata": {
        "id": "ULZhQtJZGk15"
      }
    },
    {
      "cell_type": "code",
      "source": [
        "df = pd.read_csv('https://raw.githubusercontent.com/Lorddhaval/Dataset/main/Movies%20Recommendation.csv')"
      ],
      "metadata": {
        "id": "uDMelIktFbdb"
      },
      "execution_count": 4,
      "outputs": []
    },
    {
      "cell_type": "code",
      "source": [
        "df.head()"
      ],
      "metadata": {
        "colab": {
          "base_uri": "https://localhost:8080/",
          "height": 672
        },
        "id": "xv0r7aVpFqPP",
        "outputId": "b0645570-501b-4deb-81d0-f610ef5c8194"
      },
      "execution_count": 5,
      "outputs": [
        {
          "output_type": "execute_result",
          "data": {
            "text/plain": [
              "   Movie_ID      Movie_Title                       Movie_Genre Movie_Language  \\\n",
              "0         1       Four Rooms                      Crime Comedy             en   \n",
              "1         2        Star Wars  Adventure Action Science Fiction             en   \n",
              "2         3     Finding Nemo                  Animation Family             en   \n",
              "3         4     Forrest Gump              Comedy Drama Romance             en   \n",
              "4         5  American Beauty                             Drama             en   \n",
              "\n",
              "   Movie_Budget  Movie_Popularity Movie_Release_Date  Movie_Revenue  \\\n",
              "0       4000000         22.876230         09-12-1995        4300000   \n",
              "1      11000000        126.393695         25-05-1977      775398007   \n",
              "2      94000000         85.688789         30-05-2003      940335536   \n",
              "3      55000000        138.133331         06-07-1994      677945399   \n",
              "4      15000000         80.878605         15-09-1999      356296601   \n",
              "\n",
              "   Movie_Runtime  Movie_Vote  ...  \\\n",
              "0           98.0         6.5  ...   \n",
              "1          121.0         8.1  ...   \n",
              "2          100.0         7.6  ...   \n",
              "3          142.0         8.2  ...   \n",
              "4          122.0         7.9  ...   \n",
              "\n",
              "                                      Movie_Homepage  \\\n",
              "0                                                NaN   \n",
              "1  http://www.starwars.com/films/star-wars-episod...   \n",
              "2              http://movies.disney.com/finding-nemo   \n",
              "3                                                NaN   \n",
              "4                      http://www.dreamworks.com/ab/   \n",
              "\n",
              "                                      Movie_Keywords  \\\n",
              "0          hotel new year's eve witch bet hotel room   \n",
              "1        android galaxy hermit death star lightsaber   \n",
              "2  father son relationship harbor underwater fish...   \n",
              "3  vietnam veteran hippie mentally disabled runni...   \n",
              "4  male nudity female nudity adultery midlife cri...   \n",
              "\n",
              "                                      Movie_Overview  \\\n",
              "0  It's Ted the Bellhop's first night on the job....   \n",
              "1  Princess Leia is captured and held hostage by ...   \n",
              "2  Nemo, an adventurous young clownfish, is unexp...   \n",
              "3  A man with a low IQ has accomplished great thi...   \n",
              "4  Lester Burnham, a depressed suburban father in...   \n",
              "\n",
              "                              Movie_Production_House  \\\n",
              "0  [{\"name\": \"Miramax Films\", \"id\": 14}, {\"name\":...   \n",
              "1  [{\"name\": \"Lucasfilm\", \"id\": 1}, {\"name\": \"Twe...   \n",
              "2     [{\"name\": \"Pixar Animation Studios\", \"id\": 3}]   \n",
              "3          [{\"name\": \"Paramount Pictures\", \"id\": 4}]   \n",
              "4  [{\"name\": \"DreamWorks SKG\", \"id\": 27}, {\"name\"...   \n",
              "\n",
              "                            Movie_Production_Country  \\\n",
              "0  [{\"iso_3166_1\": \"US\", \"name\": \"United States o...   \n",
              "1  [{\"iso_3166_1\": \"US\", \"name\": \"United States o...   \n",
              "2  [{\"iso_3166_1\": \"US\", \"name\": \"United States o...   \n",
              "3  [{\"iso_3166_1\": \"US\", \"name\": \"United States o...   \n",
              "4  [{\"iso_3166_1\": \"US\", \"name\": \"United States o...   \n",
              "\n",
              "                      Movie_Spoken_Language  \\\n",
              "0  [{\"iso_639_1\": \"en\", \"name\": \"English\"}]   \n",
              "1  [{\"iso_639_1\": \"en\", \"name\": \"English\"}]   \n",
              "2  [{\"iso_639_1\": \"en\", \"name\": \"English\"}]   \n",
              "3  [{\"iso_639_1\": \"en\", \"name\": \"English\"}]   \n",
              "4  [{\"iso_639_1\": \"en\", \"name\": \"English\"}]   \n",
              "\n",
              "                                       Movie_Tagline  \\\n",
              "0  Twelve outrageous guests. Four scandalous requ...   \n",
              "1       A long time ago in a galaxy far, far away...   \n",
              "2  There are 3.7 trillion fish in the ocean, they...   \n",
              "3  The world will never be the same, once you've ...   \n",
              "4                                       Look closer.   \n",
              "\n",
              "                                          Movie_Cast  \\\n",
              "0  Tim Roth Antonio Banderas Jennifer Beals Madon...   \n",
              "1  Mark Hamill Harrison Ford Carrie Fisher Peter ...   \n",
              "2  Albert Brooks Ellen DeGeneres Alexander Gould ...   \n",
              "3  Tom Hanks Robin Wright Gary Sinise Mykelti Wil...   \n",
              "4  Kevin Spacey Annette Bening Thora Birch Wes Be...   \n",
              "\n",
              "                                          Movie_Crew   Movie_Director  \n",
              "0  [{'name': 'Allison Anders', 'gender': 1, 'depa...   Allison Anders  \n",
              "1  [{'name': 'George Lucas', 'gender': 2, 'depart...     George Lucas  \n",
              "2  [{'name': 'Andrew Stanton', 'gender': 2, 'depa...   Andrew Stanton  \n",
              "3  [{'name': 'Alan Silvestri', 'gender': 2, 'depa...  Robert Zemeckis  \n",
              "4  [{'name': 'Thomas Newman', 'gender': 2, 'depar...       Sam Mendes  \n",
              "\n",
              "[5 rows x 21 columns]"
            ],
            "text/html": [
              "\n",
              "  <div id=\"df-995f128b-691d-482b-9778-c85d2d923eb6\" class=\"colab-df-container\">\n",
              "    <div>\n",
              "<style scoped>\n",
              "    .dataframe tbody tr th:only-of-type {\n",
              "        vertical-align: middle;\n",
              "    }\n",
              "\n",
              "    .dataframe tbody tr th {\n",
              "        vertical-align: top;\n",
              "    }\n",
              "\n",
              "    .dataframe thead th {\n",
              "        text-align: right;\n",
              "    }\n",
              "</style>\n",
              "<table border=\"1\" class=\"dataframe\">\n",
              "  <thead>\n",
              "    <tr style=\"text-align: right;\">\n",
              "      <th></th>\n",
              "      <th>Movie_ID</th>\n",
              "      <th>Movie_Title</th>\n",
              "      <th>Movie_Genre</th>\n",
              "      <th>Movie_Language</th>\n",
              "      <th>Movie_Budget</th>\n",
              "      <th>Movie_Popularity</th>\n",
              "      <th>Movie_Release_Date</th>\n",
              "      <th>Movie_Revenue</th>\n",
              "      <th>Movie_Runtime</th>\n",
              "      <th>Movie_Vote</th>\n",
              "      <th>...</th>\n",
              "      <th>Movie_Homepage</th>\n",
              "      <th>Movie_Keywords</th>\n",
              "      <th>Movie_Overview</th>\n",
              "      <th>Movie_Production_House</th>\n",
              "      <th>Movie_Production_Country</th>\n",
              "      <th>Movie_Spoken_Language</th>\n",
              "      <th>Movie_Tagline</th>\n",
              "      <th>Movie_Cast</th>\n",
              "      <th>Movie_Crew</th>\n",
              "      <th>Movie_Director</th>\n",
              "    </tr>\n",
              "  </thead>\n",
              "  <tbody>\n",
              "    <tr>\n",
              "      <th>0</th>\n",
              "      <td>1</td>\n",
              "      <td>Four Rooms</td>\n",
              "      <td>Crime Comedy</td>\n",
              "      <td>en</td>\n",
              "      <td>4000000</td>\n",
              "      <td>22.876230</td>\n",
              "      <td>09-12-1995</td>\n",
              "      <td>4300000</td>\n",
              "      <td>98.0</td>\n",
              "      <td>6.5</td>\n",
              "      <td>...</td>\n",
              "      <td>NaN</td>\n",
              "      <td>hotel new year's eve witch bet hotel room</td>\n",
              "      <td>It's Ted the Bellhop's first night on the job....</td>\n",
              "      <td>[{\"name\": \"Miramax Films\", \"id\": 14}, {\"name\":...</td>\n",
              "      <td>[{\"iso_3166_1\": \"US\", \"name\": \"United States o...</td>\n",
              "      <td>[{\"iso_639_1\": \"en\", \"name\": \"English\"}]</td>\n",
              "      <td>Twelve outrageous guests. Four scandalous requ...</td>\n",
              "      <td>Tim Roth Antonio Banderas Jennifer Beals Madon...</td>\n",
              "      <td>[{'name': 'Allison Anders', 'gender': 1, 'depa...</td>\n",
              "      <td>Allison Anders</td>\n",
              "    </tr>\n",
              "    <tr>\n",
              "      <th>1</th>\n",
              "      <td>2</td>\n",
              "      <td>Star Wars</td>\n",
              "      <td>Adventure Action Science Fiction</td>\n",
              "      <td>en</td>\n",
              "      <td>11000000</td>\n",
              "      <td>126.393695</td>\n",
              "      <td>25-05-1977</td>\n",
              "      <td>775398007</td>\n",
              "      <td>121.0</td>\n",
              "      <td>8.1</td>\n",
              "      <td>...</td>\n",
              "      <td>http://www.starwars.com/films/star-wars-episod...</td>\n",
              "      <td>android galaxy hermit death star lightsaber</td>\n",
              "      <td>Princess Leia is captured and held hostage by ...</td>\n",
              "      <td>[{\"name\": \"Lucasfilm\", \"id\": 1}, {\"name\": \"Twe...</td>\n",
              "      <td>[{\"iso_3166_1\": \"US\", \"name\": \"United States o...</td>\n",
              "      <td>[{\"iso_639_1\": \"en\", \"name\": \"English\"}]</td>\n",
              "      <td>A long time ago in a galaxy far, far away...</td>\n",
              "      <td>Mark Hamill Harrison Ford Carrie Fisher Peter ...</td>\n",
              "      <td>[{'name': 'George Lucas', 'gender': 2, 'depart...</td>\n",
              "      <td>George Lucas</td>\n",
              "    </tr>\n",
              "    <tr>\n",
              "      <th>2</th>\n",
              "      <td>3</td>\n",
              "      <td>Finding Nemo</td>\n",
              "      <td>Animation Family</td>\n",
              "      <td>en</td>\n",
              "      <td>94000000</td>\n",
              "      <td>85.688789</td>\n",
              "      <td>30-05-2003</td>\n",
              "      <td>940335536</td>\n",
              "      <td>100.0</td>\n",
              "      <td>7.6</td>\n",
              "      <td>...</td>\n",
              "      <td>http://movies.disney.com/finding-nemo</td>\n",
              "      <td>father son relationship harbor underwater fish...</td>\n",
              "      <td>Nemo, an adventurous young clownfish, is unexp...</td>\n",
              "      <td>[{\"name\": \"Pixar Animation Studios\", \"id\": 3}]</td>\n",
              "      <td>[{\"iso_3166_1\": \"US\", \"name\": \"United States o...</td>\n",
              "      <td>[{\"iso_639_1\": \"en\", \"name\": \"English\"}]</td>\n",
              "      <td>There are 3.7 trillion fish in the ocean, they...</td>\n",
              "      <td>Albert Brooks Ellen DeGeneres Alexander Gould ...</td>\n",
              "      <td>[{'name': 'Andrew Stanton', 'gender': 2, 'depa...</td>\n",
              "      <td>Andrew Stanton</td>\n",
              "    </tr>\n",
              "    <tr>\n",
              "      <th>3</th>\n",
              "      <td>4</td>\n",
              "      <td>Forrest Gump</td>\n",
              "      <td>Comedy Drama Romance</td>\n",
              "      <td>en</td>\n",
              "      <td>55000000</td>\n",
              "      <td>138.133331</td>\n",
              "      <td>06-07-1994</td>\n",
              "      <td>677945399</td>\n",
              "      <td>142.0</td>\n",
              "      <td>8.2</td>\n",
              "      <td>...</td>\n",
              "      <td>NaN</td>\n",
              "      <td>vietnam veteran hippie mentally disabled runni...</td>\n",
              "      <td>A man with a low IQ has accomplished great thi...</td>\n",
              "      <td>[{\"name\": \"Paramount Pictures\", \"id\": 4}]</td>\n",
              "      <td>[{\"iso_3166_1\": \"US\", \"name\": \"United States o...</td>\n",
              "      <td>[{\"iso_639_1\": \"en\", \"name\": \"English\"}]</td>\n",
              "      <td>The world will never be the same, once you've ...</td>\n",
              "      <td>Tom Hanks Robin Wright Gary Sinise Mykelti Wil...</td>\n",
              "      <td>[{'name': 'Alan Silvestri', 'gender': 2, 'depa...</td>\n",
              "      <td>Robert Zemeckis</td>\n",
              "    </tr>\n",
              "    <tr>\n",
              "      <th>4</th>\n",
              "      <td>5</td>\n",
              "      <td>American Beauty</td>\n",
              "      <td>Drama</td>\n",
              "      <td>en</td>\n",
              "      <td>15000000</td>\n",
              "      <td>80.878605</td>\n",
              "      <td>15-09-1999</td>\n",
              "      <td>356296601</td>\n",
              "      <td>122.0</td>\n",
              "      <td>7.9</td>\n",
              "      <td>...</td>\n",
              "      <td>http://www.dreamworks.com/ab/</td>\n",
              "      <td>male nudity female nudity adultery midlife cri...</td>\n",
              "      <td>Lester Burnham, a depressed suburban father in...</td>\n",
              "      <td>[{\"name\": \"DreamWorks SKG\", \"id\": 27}, {\"name\"...</td>\n",
              "      <td>[{\"iso_3166_1\": \"US\", \"name\": \"United States o...</td>\n",
              "      <td>[{\"iso_639_1\": \"en\", \"name\": \"English\"}]</td>\n",
              "      <td>Look closer.</td>\n",
              "      <td>Kevin Spacey Annette Bening Thora Birch Wes Be...</td>\n",
              "      <td>[{'name': 'Thomas Newman', 'gender': 2, 'depar...</td>\n",
              "      <td>Sam Mendes</td>\n",
              "    </tr>\n",
              "  </tbody>\n",
              "</table>\n",
              "<p>5 rows × 21 columns</p>\n",
              "</div>\n",
              "    <div class=\"colab-df-buttons\">\n",
              "\n",
              "  <div class=\"colab-df-container\">\n",
              "    <button class=\"colab-df-convert\" onclick=\"convertToInteractive('df-995f128b-691d-482b-9778-c85d2d923eb6')\"\n",
              "            title=\"Convert this dataframe to an interactive table.\"\n",
              "            style=\"display:none;\">\n",
              "\n",
              "  <svg xmlns=\"http://www.w3.org/2000/svg\" height=\"24px\" viewBox=\"0 -960 960 960\">\n",
              "    <path d=\"M120-120v-720h720v720H120Zm60-500h600v-160H180v160Zm220 220h160v-160H400v160Zm0 220h160v-160H400v160ZM180-400h160v-160H180v160Zm440 0h160v-160H620v160ZM180-180h160v-160H180v160Zm440 0h160v-160H620v160Z\"/>\n",
              "  </svg>\n",
              "    </button>\n",
              "\n",
              "  <style>\n",
              "    .colab-df-container {\n",
              "      display:flex;\n",
              "      gap: 12px;\n",
              "    }\n",
              "\n",
              "    .colab-df-convert {\n",
              "      background-color: #E8F0FE;\n",
              "      border: none;\n",
              "      border-radius: 50%;\n",
              "      cursor: pointer;\n",
              "      display: none;\n",
              "      fill: #1967D2;\n",
              "      height: 32px;\n",
              "      padding: 0 0 0 0;\n",
              "      width: 32px;\n",
              "    }\n",
              "\n",
              "    .colab-df-convert:hover {\n",
              "      background-color: #E2EBFA;\n",
              "      box-shadow: 0px 1px 2px rgba(60, 64, 67, 0.3), 0px 1px 3px 1px rgba(60, 64, 67, 0.15);\n",
              "      fill: #174EA6;\n",
              "    }\n",
              "\n",
              "    .colab-df-buttons div {\n",
              "      margin-bottom: 4px;\n",
              "    }\n",
              "\n",
              "    [theme=dark] .colab-df-convert {\n",
              "      background-color: #3B4455;\n",
              "      fill: #D2E3FC;\n",
              "    }\n",
              "\n",
              "    [theme=dark] .colab-df-convert:hover {\n",
              "      background-color: #434B5C;\n",
              "      box-shadow: 0px 1px 3px 1px rgba(0, 0, 0, 0.15);\n",
              "      filter: drop-shadow(0px 1px 2px rgba(0, 0, 0, 0.3));\n",
              "      fill: #FFFFFF;\n",
              "    }\n",
              "  </style>\n",
              "\n",
              "    <script>\n",
              "      const buttonEl =\n",
              "        document.querySelector('#df-995f128b-691d-482b-9778-c85d2d923eb6 button.colab-df-convert');\n",
              "      buttonEl.style.display =\n",
              "        google.colab.kernel.accessAllowed ? 'block' : 'none';\n",
              "\n",
              "      async function convertToInteractive(key) {\n",
              "        const element = document.querySelector('#df-995f128b-691d-482b-9778-c85d2d923eb6');\n",
              "        const dataTable =\n",
              "          await google.colab.kernel.invokeFunction('convertToInteractive',\n",
              "                                                    [key], {});\n",
              "        if (!dataTable) return;\n",
              "\n",
              "        const docLinkHtml = 'Like what you see? Visit the ' +\n",
              "          '<a target=\"_blank\" href=https://colab.research.google.com/notebooks/data_table.ipynb>data table notebook</a>'\n",
              "          + ' to learn more about interactive tables.';\n",
              "        element.innerHTML = '';\n",
              "        dataTable['output_type'] = 'display_data';\n",
              "        await google.colab.output.renderOutput(dataTable, element);\n",
              "        const docLink = document.createElement('div');\n",
              "        docLink.innerHTML = docLinkHtml;\n",
              "        element.appendChild(docLink);\n",
              "      }\n",
              "    </script>\n",
              "  </div>\n",
              "\n",
              "\n",
              "<div id=\"df-f9a41b66-565e-42fa-a1f1-163e8a0123dd\">\n",
              "  <button class=\"colab-df-quickchart\" onclick=\"quickchart('df-f9a41b66-565e-42fa-a1f1-163e8a0123dd')\"\n",
              "            title=\"Suggest charts\"\n",
              "            style=\"display:none;\">\n",
              "\n",
              "<svg xmlns=\"http://www.w3.org/2000/svg\" height=\"24px\"viewBox=\"0 0 24 24\"\n",
              "     width=\"24px\">\n",
              "    <g>\n",
              "        <path d=\"M19 3H5c-1.1 0-2 .9-2 2v14c0 1.1.9 2 2 2h14c1.1 0 2-.9 2-2V5c0-1.1-.9-2-2-2zM9 17H7v-7h2v7zm4 0h-2V7h2v10zm4 0h-2v-4h2v4z\"/>\n",
              "    </g>\n",
              "</svg>\n",
              "  </button>\n",
              "\n",
              "<style>\n",
              "  .colab-df-quickchart {\n",
              "      --bg-color: #E8F0FE;\n",
              "      --fill-color: #1967D2;\n",
              "      --hover-bg-color: #E2EBFA;\n",
              "      --hover-fill-color: #174EA6;\n",
              "      --disabled-fill-color: #AAA;\n",
              "      --disabled-bg-color: #DDD;\n",
              "  }\n",
              "\n",
              "  [theme=dark] .colab-df-quickchart {\n",
              "      --bg-color: #3B4455;\n",
              "      --fill-color: #D2E3FC;\n",
              "      --hover-bg-color: #434B5C;\n",
              "      --hover-fill-color: #FFFFFF;\n",
              "      --disabled-bg-color: #3B4455;\n",
              "      --disabled-fill-color: #666;\n",
              "  }\n",
              "\n",
              "  .colab-df-quickchart {\n",
              "    background-color: var(--bg-color);\n",
              "    border: none;\n",
              "    border-radius: 50%;\n",
              "    cursor: pointer;\n",
              "    display: none;\n",
              "    fill: var(--fill-color);\n",
              "    height: 32px;\n",
              "    padding: 0;\n",
              "    width: 32px;\n",
              "  }\n",
              "\n",
              "  .colab-df-quickchart:hover {\n",
              "    background-color: var(--hover-bg-color);\n",
              "    box-shadow: 0 1px 2px rgba(60, 64, 67, 0.3), 0 1px 3px 1px rgba(60, 64, 67, 0.15);\n",
              "    fill: var(--button-hover-fill-color);\n",
              "  }\n",
              "\n",
              "  .colab-df-quickchart-complete:disabled,\n",
              "  .colab-df-quickchart-complete:disabled:hover {\n",
              "    background-color: var(--disabled-bg-color);\n",
              "    fill: var(--disabled-fill-color);\n",
              "    box-shadow: none;\n",
              "  }\n",
              "\n",
              "  .colab-df-spinner {\n",
              "    border: 2px solid var(--fill-color);\n",
              "    border-color: transparent;\n",
              "    border-bottom-color: var(--fill-color);\n",
              "    animation:\n",
              "      spin 1s steps(1) infinite;\n",
              "  }\n",
              "\n",
              "  @keyframes spin {\n",
              "    0% {\n",
              "      border-color: transparent;\n",
              "      border-bottom-color: var(--fill-color);\n",
              "      border-left-color: var(--fill-color);\n",
              "    }\n",
              "    20% {\n",
              "      border-color: transparent;\n",
              "      border-left-color: var(--fill-color);\n",
              "      border-top-color: var(--fill-color);\n",
              "    }\n",
              "    30% {\n",
              "      border-color: transparent;\n",
              "      border-left-color: var(--fill-color);\n",
              "      border-top-color: var(--fill-color);\n",
              "      border-right-color: var(--fill-color);\n",
              "    }\n",
              "    40% {\n",
              "      border-color: transparent;\n",
              "      border-right-color: var(--fill-color);\n",
              "      border-top-color: var(--fill-color);\n",
              "    }\n",
              "    60% {\n",
              "      border-color: transparent;\n",
              "      border-right-color: var(--fill-color);\n",
              "    }\n",
              "    80% {\n",
              "      border-color: transparent;\n",
              "      border-right-color: var(--fill-color);\n",
              "      border-bottom-color: var(--fill-color);\n",
              "    }\n",
              "    90% {\n",
              "      border-color: transparent;\n",
              "      border-bottom-color: var(--fill-color);\n",
              "    }\n",
              "  }\n",
              "</style>\n",
              "\n",
              "  <script>\n",
              "    async function quickchart(key) {\n",
              "      const quickchartButtonEl =\n",
              "        document.querySelector('#' + key + ' button');\n",
              "      quickchartButtonEl.disabled = true;  // To prevent multiple clicks.\n",
              "      quickchartButtonEl.classList.add('colab-df-spinner');\n",
              "      try {\n",
              "        const charts = await google.colab.kernel.invokeFunction(\n",
              "            'suggestCharts', [key], {});\n",
              "      } catch (error) {\n",
              "        console.error('Error during call to suggestCharts:', error);\n",
              "      }\n",
              "      quickchartButtonEl.classList.remove('colab-df-spinner');\n",
              "      quickchartButtonEl.classList.add('colab-df-quickchart-complete');\n",
              "    }\n",
              "    (() => {\n",
              "      let quickchartButtonEl =\n",
              "        document.querySelector('#df-f9a41b66-565e-42fa-a1f1-163e8a0123dd button');\n",
              "      quickchartButtonEl.style.display =\n",
              "        google.colab.kernel.accessAllowed ? 'block' : 'none';\n",
              "    })();\n",
              "  </script>\n",
              "</div>\n",
              "\n",
              "    </div>\n",
              "  </div>\n"
            ]
          },
          "metadata": {},
          "execution_count": 5
        }
      ]
    },
    {
      "cell_type": "code",
      "source": [
        "df.info()"
      ],
      "metadata": {
        "colab": {
          "base_uri": "https://localhost:8080/"
        },
        "id": "F2EC2DJkFwLN",
        "outputId": "66083d9e-d296-46f3-dab9-813e4db50739"
      },
      "execution_count": 6,
      "outputs": [
        {
          "output_type": "stream",
          "name": "stdout",
          "text": [
            "<class 'pandas.core.frame.DataFrame'>\n",
            "RangeIndex: 4760 entries, 0 to 4759\n",
            "Data columns (total 21 columns):\n",
            " #   Column                    Non-Null Count  Dtype  \n",
            "---  ------                    --------------  -----  \n",
            " 0   Movie_ID                  4760 non-null   int64  \n",
            " 1   Movie_Title               4760 non-null   object \n",
            " 2   Movie_Genre               4760 non-null   object \n",
            " 3   Movie_Language            4760 non-null   object \n",
            " 4   Movie_Budget              4760 non-null   int64  \n",
            " 5   Movie_Popularity          4760 non-null   float64\n",
            " 6   Movie_Release_Date        4760 non-null   object \n",
            " 7   Movie_Revenue             4760 non-null   int64  \n",
            " 8   Movie_Runtime             4758 non-null   float64\n",
            " 9   Movie_Vote                4760 non-null   float64\n",
            " 10  Movie_Vote_Count          4760 non-null   int64  \n",
            " 11  Movie_Homepage            1699 non-null   object \n",
            " 12  Movie_Keywords            4373 non-null   object \n",
            " 13  Movie_Overview            4757 non-null   object \n",
            " 14  Movie_Production_House    4760 non-null   object \n",
            " 15  Movie_Production_Country  4760 non-null   object \n",
            " 16  Movie_Spoken_Language     4760 non-null   object \n",
            " 17  Movie_Tagline             3942 non-null   object \n",
            " 18  Movie_Cast                4733 non-null   object \n",
            " 19  Movie_Crew                4760 non-null   object \n",
            " 20  Movie_Director            4738 non-null   object \n",
            "dtypes: float64(3), int64(4), object(14)\n",
            "memory usage: 781.1+ KB\n"
          ]
        }
      ]
    },
    {
      "cell_type": "code",
      "source": [
        "df.shape"
      ],
      "metadata": {
        "colab": {
          "base_uri": "https://localhost:8080/"
        },
        "id": "s4vuGChJF5rQ",
        "outputId": "f64dfe7b-5095-4eef-a815-b2c565d913c3"
      },
      "execution_count": 7,
      "outputs": [
        {
          "output_type": "execute_result",
          "data": {
            "text/plain": [
              "(4760, 21)"
            ]
          },
          "metadata": {},
          "execution_count": 7
        }
      ]
    },
    {
      "cell_type": "code",
      "source": [
        "df.columns"
      ],
      "metadata": {
        "colab": {
          "base_uri": "https://localhost:8080/"
        },
        "id": "z4JfQdFTGEiM",
        "outputId": "9e96aba9-5157-4115-bac3-8aad7df9facb"
      },
      "execution_count": 8,
      "outputs": [
        {
          "output_type": "execute_result",
          "data": {
            "text/plain": [
              "Index(['Movie_ID', 'Movie_Title', 'Movie_Genre', 'Movie_Language',\n",
              "       'Movie_Budget', 'Movie_Popularity', 'Movie_Release_Date',\n",
              "       'Movie_Revenue', 'Movie_Runtime', 'Movie_Vote', 'Movie_Vote_Count',\n",
              "       'Movie_Homepage', 'Movie_Keywords', 'Movie_Overview',\n",
              "       'Movie_Production_House', 'Movie_Production_Country',\n",
              "       'Movie_Spoken_Language', 'Movie_Tagline', 'Movie_Cast', 'Movie_Crew',\n",
              "       'Movie_Director'],\n",
              "      dtype='object')"
            ]
          },
          "metadata": {},
          "execution_count": 8
        }
      ]
    },
    {
      "cell_type": "markdown",
      "source": [
        "**Get Feature Selection**"
      ],
      "metadata": {
        "id": "n5CNXSlqGJI4"
      }
    },
    {
      "cell_type": "code",
      "source": [
        "df_features = df[['Movie_Genre','Movie_Keywords','Movie_Tagline','Movie_Cast','Movie_Director']].fillna('')"
      ],
      "metadata": {
        "id": "wL55Nqy_G19G"
      },
      "execution_count": 9,
      "outputs": []
    },
    {
      "cell_type": "code",
      "source": [
        "df_features.shape"
      ],
      "metadata": {
        "colab": {
          "base_uri": "https://localhost:8080/"
        },
        "id": "yKk7ouFxJ9hh",
        "outputId": "cbde1633-68dd-4a39-9bc6-73ef3dab14c9"
      },
      "execution_count": 10,
      "outputs": [
        {
          "output_type": "execute_result",
          "data": {
            "text/plain": [
              "(4760, 5)"
            ]
          },
          "metadata": {},
          "execution_count": 10
        }
      ]
    },
    {
      "cell_type": "code",
      "source": [
        "df_features"
      ],
      "metadata": {
        "colab": {
          "base_uri": "https://localhost:8080/",
          "height": 493
        },
        "id": "xlvJdNwkKIcR",
        "outputId": "4d8df608-ea98-455b-e2e7-ad01817d12e0"
      },
      "execution_count": 11,
      "outputs": [
        {
          "output_type": "execute_result",
          "data": {
            "text/plain": [
              "                           Movie_Genre  \\\n",
              "0                         Crime Comedy   \n",
              "1     Adventure Action Science Fiction   \n",
              "2                     Animation Family   \n",
              "3                 Comedy Drama Romance   \n",
              "4                                Drama   \n",
              "...                                ...   \n",
              "4755                            Horror   \n",
              "4756               Comedy Family Drama   \n",
              "4757                    Thriller Drama   \n",
              "4758                            Family   \n",
              "4759                       Documentary   \n",
              "\n",
              "                                         Movie_Keywords  \\\n",
              "0             hotel new year's eve witch bet hotel room   \n",
              "1           android galaxy hermit death star lightsaber   \n",
              "2     father son relationship harbor underwater fish...   \n",
              "3     vietnam veteran hippie mentally disabled runni...   \n",
              "4     male nudity female nudity adultery midlife cri...   \n",
              "...                                                 ...   \n",
              "4755                                                      \n",
              "4756                                                      \n",
              "4757                     christian film sex trafficking   \n",
              "4758                                                      \n",
              "4759  music actors legendary perfomer classic hollyw...   \n",
              "\n",
              "                                          Movie_Tagline  \\\n",
              "0     Twelve outrageous guests. Four scandalous requ...   \n",
              "1          A long time ago in a galaxy far, far away...   \n",
              "2     There are 3.7 trillion fish in the ocean, they...   \n",
              "3     The world will never be the same, once you've ...   \n",
              "4                                          Look closer.   \n",
              "...                                                 ...   \n",
              "4755                The hot spot where Satan's waitin'.   \n",
              "4756           It’s better to stand out than to fit in.   \n",
              "4757           She never knew it could happen to her...   \n",
              "4758                                                      \n",
              "4759                                                      \n",
              "\n",
              "                                             Movie_Cast     Movie_Director  \n",
              "0     Tim Roth Antonio Banderas Jennifer Beals Madon...     Allison Anders  \n",
              "1     Mark Hamill Harrison Ford Carrie Fisher Peter ...       George Lucas  \n",
              "2     Albert Brooks Ellen DeGeneres Alexander Gould ...     Andrew Stanton  \n",
              "3     Tom Hanks Robin Wright Gary Sinise Mykelti Wil...    Robert Zemeckis  \n",
              "4     Kevin Spacey Annette Bening Thora Birch Wes Be...         Sam Mendes  \n",
              "...                                                 ...                ...  \n",
              "4755  Lisa Hart Carroll Michael Des Barres Paul Drak...         Pece Dingo  \n",
              "4756  Roni Akurati Brighton Sharbino Jason Lee Anjul...       Frank Lotito  \n",
              "4757  Nicole Smolen Kim Baldwin Ariana Stephens Brys...       Jaco Booyens  \n",
              "4758                                                                        \n",
              "4759                                    Tony Oppedisano  Simon Napier-Bell  \n",
              "\n",
              "[4760 rows x 5 columns]"
            ],
            "text/html": [
              "\n",
              "  <div id=\"df-bb2f865d-c5aa-4ae3-a6bc-f896a44e2e4f\" class=\"colab-df-container\">\n",
              "    <div>\n",
              "<style scoped>\n",
              "    .dataframe tbody tr th:only-of-type {\n",
              "        vertical-align: middle;\n",
              "    }\n",
              "\n",
              "    .dataframe tbody tr th {\n",
              "        vertical-align: top;\n",
              "    }\n",
              "\n",
              "    .dataframe thead th {\n",
              "        text-align: right;\n",
              "    }\n",
              "</style>\n",
              "<table border=\"1\" class=\"dataframe\">\n",
              "  <thead>\n",
              "    <tr style=\"text-align: right;\">\n",
              "      <th></th>\n",
              "      <th>Movie_Genre</th>\n",
              "      <th>Movie_Keywords</th>\n",
              "      <th>Movie_Tagline</th>\n",
              "      <th>Movie_Cast</th>\n",
              "      <th>Movie_Director</th>\n",
              "    </tr>\n",
              "  </thead>\n",
              "  <tbody>\n",
              "    <tr>\n",
              "      <th>0</th>\n",
              "      <td>Crime Comedy</td>\n",
              "      <td>hotel new year's eve witch bet hotel room</td>\n",
              "      <td>Twelve outrageous guests. Four scandalous requ...</td>\n",
              "      <td>Tim Roth Antonio Banderas Jennifer Beals Madon...</td>\n",
              "      <td>Allison Anders</td>\n",
              "    </tr>\n",
              "    <tr>\n",
              "      <th>1</th>\n",
              "      <td>Adventure Action Science Fiction</td>\n",
              "      <td>android galaxy hermit death star lightsaber</td>\n",
              "      <td>A long time ago in a galaxy far, far away...</td>\n",
              "      <td>Mark Hamill Harrison Ford Carrie Fisher Peter ...</td>\n",
              "      <td>George Lucas</td>\n",
              "    </tr>\n",
              "    <tr>\n",
              "      <th>2</th>\n",
              "      <td>Animation Family</td>\n",
              "      <td>father son relationship harbor underwater fish...</td>\n",
              "      <td>There are 3.7 trillion fish in the ocean, they...</td>\n",
              "      <td>Albert Brooks Ellen DeGeneres Alexander Gould ...</td>\n",
              "      <td>Andrew Stanton</td>\n",
              "    </tr>\n",
              "    <tr>\n",
              "      <th>3</th>\n",
              "      <td>Comedy Drama Romance</td>\n",
              "      <td>vietnam veteran hippie mentally disabled runni...</td>\n",
              "      <td>The world will never be the same, once you've ...</td>\n",
              "      <td>Tom Hanks Robin Wright Gary Sinise Mykelti Wil...</td>\n",
              "      <td>Robert Zemeckis</td>\n",
              "    </tr>\n",
              "    <tr>\n",
              "      <th>4</th>\n",
              "      <td>Drama</td>\n",
              "      <td>male nudity female nudity adultery midlife cri...</td>\n",
              "      <td>Look closer.</td>\n",
              "      <td>Kevin Spacey Annette Bening Thora Birch Wes Be...</td>\n",
              "      <td>Sam Mendes</td>\n",
              "    </tr>\n",
              "    <tr>\n",
              "      <th>...</th>\n",
              "      <td>...</td>\n",
              "      <td>...</td>\n",
              "      <td>...</td>\n",
              "      <td>...</td>\n",
              "      <td>...</td>\n",
              "    </tr>\n",
              "    <tr>\n",
              "      <th>4755</th>\n",
              "      <td>Horror</td>\n",
              "      <td></td>\n",
              "      <td>The hot spot where Satan's waitin'.</td>\n",
              "      <td>Lisa Hart Carroll Michael Des Barres Paul Drak...</td>\n",
              "      <td>Pece Dingo</td>\n",
              "    </tr>\n",
              "    <tr>\n",
              "      <th>4756</th>\n",
              "      <td>Comedy Family Drama</td>\n",
              "      <td></td>\n",
              "      <td>It’s better to stand out than to fit in.</td>\n",
              "      <td>Roni Akurati Brighton Sharbino Jason Lee Anjul...</td>\n",
              "      <td>Frank Lotito</td>\n",
              "    </tr>\n",
              "    <tr>\n",
              "      <th>4757</th>\n",
              "      <td>Thriller Drama</td>\n",
              "      <td>christian film sex trafficking</td>\n",
              "      <td>She never knew it could happen to her...</td>\n",
              "      <td>Nicole Smolen Kim Baldwin Ariana Stephens Brys...</td>\n",
              "      <td>Jaco Booyens</td>\n",
              "    </tr>\n",
              "    <tr>\n",
              "      <th>4758</th>\n",
              "      <td>Family</td>\n",
              "      <td></td>\n",
              "      <td></td>\n",
              "      <td></td>\n",
              "      <td></td>\n",
              "    </tr>\n",
              "    <tr>\n",
              "      <th>4759</th>\n",
              "      <td>Documentary</td>\n",
              "      <td>music actors legendary perfomer classic hollyw...</td>\n",
              "      <td></td>\n",
              "      <td>Tony Oppedisano</td>\n",
              "      <td>Simon Napier-Bell</td>\n",
              "    </tr>\n",
              "  </tbody>\n",
              "</table>\n",
              "<p>4760 rows × 5 columns</p>\n",
              "</div>\n",
              "    <div class=\"colab-df-buttons\">\n",
              "\n",
              "  <div class=\"colab-df-container\">\n",
              "    <button class=\"colab-df-convert\" onclick=\"convertToInteractive('df-bb2f865d-c5aa-4ae3-a6bc-f896a44e2e4f')\"\n",
              "            title=\"Convert this dataframe to an interactive table.\"\n",
              "            style=\"display:none;\">\n",
              "\n",
              "  <svg xmlns=\"http://www.w3.org/2000/svg\" height=\"24px\" viewBox=\"0 -960 960 960\">\n",
              "    <path d=\"M120-120v-720h720v720H120Zm60-500h600v-160H180v160Zm220 220h160v-160H400v160Zm0 220h160v-160H400v160ZM180-400h160v-160H180v160Zm440 0h160v-160H620v160ZM180-180h160v-160H180v160Zm440 0h160v-160H620v160Z\"/>\n",
              "  </svg>\n",
              "    </button>\n",
              "\n",
              "  <style>\n",
              "    .colab-df-container {\n",
              "      display:flex;\n",
              "      gap: 12px;\n",
              "    }\n",
              "\n",
              "    .colab-df-convert {\n",
              "      background-color: #E8F0FE;\n",
              "      border: none;\n",
              "      border-radius: 50%;\n",
              "      cursor: pointer;\n",
              "      display: none;\n",
              "      fill: #1967D2;\n",
              "      height: 32px;\n",
              "      padding: 0 0 0 0;\n",
              "      width: 32px;\n",
              "    }\n",
              "\n",
              "    .colab-df-convert:hover {\n",
              "      background-color: #E2EBFA;\n",
              "      box-shadow: 0px 1px 2px rgba(60, 64, 67, 0.3), 0px 1px 3px 1px rgba(60, 64, 67, 0.15);\n",
              "      fill: #174EA6;\n",
              "    }\n",
              "\n",
              "    .colab-df-buttons div {\n",
              "      margin-bottom: 4px;\n",
              "    }\n",
              "\n",
              "    [theme=dark] .colab-df-convert {\n",
              "      background-color: #3B4455;\n",
              "      fill: #D2E3FC;\n",
              "    }\n",
              "\n",
              "    [theme=dark] .colab-df-convert:hover {\n",
              "      background-color: #434B5C;\n",
              "      box-shadow: 0px 1px 3px 1px rgba(0, 0, 0, 0.15);\n",
              "      filter: drop-shadow(0px 1px 2px rgba(0, 0, 0, 0.3));\n",
              "      fill: #FFFFFF;\n",
              "    }\n",
              "  </style>\n",
              "\n",
              "    <script>\n",
              "      const buttonEl =\n",
              "        document.querySelector('#df-bb2f865d-c5aa-4ae3-a6bc-f896a44e2e4f button.colab-df-convert');\n",
              "      buttonEl.style.display =\n",
              "        google.colab.kernel.accessAllowed ? 'block' : 'none';\n",
              "\n",
              "      async function convertToInteractive(key) {\n",
              "        const element = document.querySelector('#df-bb2f865d-c5aa-4ae3-a6bc-f896a44e2e4f');\n",
              "        const dataTable =\n",
              "          await google.colab.kernel.invokeFunction('convertToInteractive',\n",
              "                                                    [key], {});\n",
              "        if (!dataTable) return;\n",
              "\n",
              "        const docLinkHtml = 'Like what you see? Visit the ' +\n",
              "          '<a target=\"_blank\" href=https://colab.research.google.com/notebooks/data_table.ipynb>data table notebook</a>'\n",
              "          + ' to learn more about interactive tables.';\n",
              "        element.innerHTML = '';\n",
              "        dataTable['output_type'] = 'display_data';\n",
              "        await google.colab.output.renderOutput(dataTable, element);\n",
              "        const docLink = document.createElement('div');\n",
              "        docLink.innerHTML = docLinkHtml;\n",
              "        element.appendChild(docLink);\n",
              "      }\n",
              "    </script>\n",
              "  </div>\n",
              "\n",
              "\n",
              "<div id=\"df-f4abc3ce-6ef2-403e-bda4-041379b47afd\">\n",
              "  <button class=\"colab-df-quickchart\" onclick=\"quickchart('df-f4abc3ce-6ef2-403e-bda4-041379b47afd')\"\n",
              "            title=\"Suggest charts\"\n",
              "            style=\"display:none;\">\n",
              "\n",
              "<svg xmlns=\"http://www.w3.org/2000/svg\" height=\"24px\"viewBox=\"0 0 24 24\"\n",
              "     width=\"24px\">\n",
              "    <g>\n",
              "        <path d=\"M19 3H5c-1.1 0-2 .9-2 2v14c0 1.1.9 2 2 2h14c1.1 0 2-.9 2-2V5c0-1.1-.9-2-2-2zM9 17H7v-7h2v7zm4 0h-2V7h2v10zm4 0h-2v-4h2v4z\"/>\n",
              "    </g>\n",
              "</svg>\n",
              "  </button>\n",
              "\n",
              "<style>\n",
              "  .colab-df-quickchart {\n",
              "      --bg-color: #E8F0FE;\n",
              "      --fill-color: #1967D2;\n",
              "      --hover-bg-color: #E2EBFA;\n",
              "      --hover-fill-color: #174EA6;\n",
              "      --disabled-fill-color: #AAA;\n",
              "      --disabled-bg-color: #DDD;\n",
              "  }\n",
              "\n",
              "  [theme=dark] .colab-df-quickchart {\n",
              "      --bg-color: #3B4455;\n",
              "      --fill-color: #D2E3FC;\n",
              "      --hover-bg-color: #434B5C;\n",
              "      --hover-fill-color: #FFFFFF;\n",
              "      --disabled-bg-color: #3B4455;\n",
              "      --disabled-fill-color: #666;\n",
              "  }\n",
              "\n",
              "  .colab-df-quickchart {\n",
              "    background-color: var(--bg-color);\n",
              "    border: none;\n",
              "    border-radius: 50%;\n",
              "    cursor: pointer;\n",
              "    display: none;\n",
              "    fill: var(--fill-color);\n",
              "    height: 32px;\n",
              "    padding: 0;\n",
              "    width: 32px;\n",
              "  }\n",
              "\n",
              "  .colab-df-quickchart:hover {\n",
              "    background-color: var(--hover-bg-color);\n",
              "    box-shadow: 0 1px 2px rgba(60, 64, 67, 0.3), 0 1px 3px 1px rgba(60, 64, 67, 0.15);\n",
              "    fill: var(--button-hover-fill-color);\n",
              "  }\n",
              "\n",
              "  .colab-df-quickchart-complete:disabled,\n",
              "  .colab-df-quickchart-complete:disabled:hover {\n",
              "    background-color: var(--disabled-bg-color);\n",
              "    fill: var(--disabled-fill-color);\n",
              "    box-shadow: none;\n",
              "  }\n",
              "\n",
              "  .colab-df-spinner {\n",
              "    border: 2px solid var(--fill-color);\n",
              "    border-color: transparent;\n",
              "    border-bottom-color: var(--fill-color);\n",
              "    animation:\n",
              "      spin 1s steps(1) infinite;\n",
              "  }\n",
              "\n",
              "  @keyframes spin {\n",
              "    0% {\n",
              "      border-color: transparent;\n",
              "      border-bottom-color: var(--fill-color);\n",
              "      border-left-color: var(--fill-color);\n",
              "    }\n",
              "    20% {\n",
              "      border-color: transparent;\n",
              "      border-left-color: var(--fill-color);\n",
              "      border-top-color: var(--fill-color);\n",
              "    }\n",
              "    30% {\n",
              "      border-color: transparent;\n",
              "      border-left-color: var(--fill-color);\n",
              "      border-top-color: var(--fill-color);\n",
              "      border-right-color: var(--fill-color);\n",
              "    }\n",
              "    40% {\n",
              "      border-color: transparent;\n",
              "      border-right-color: var(--fill-color);\n",
              "      border-top-color: var(--fill-color);\n",
              "    }\n",
              "    60% {\n",
              "      border-color: transparent;\n",
              "      border-right-color: var(--fill-color);\n",
              "    }\n",
              "    80% {\n",
              "      border-color: transparent;\n",
              "      border-right-color: var(--fill-color);\n",
              "      border-bottom-color: var(--fill-color);\n",
              "    }\n",
              "    90% {\n",
              "      border-color: transparent;\n",
              "      border-bottom-color: var(--fill-color);\n",
              "    }\n",
              "  }\n",
              "</style>\n",
              "\n",
              "  <script>\n",
              "    async function quickchart(key) {\n",
              "      const quickchartButtonEl =\n",
              "        document.querySelector('#' + key + ' button');\n",
              "      quickchartButtonEl.disabled = true;  // To prevent multiple clicks.\n",
              "      quickchartButtonEl.classList.add('colab-df-spinner');\n",
              "      try {\n",
              "        const charts = await google.colab.kernel.invokeFunction(\n",
              "            'suggestCharts', [key], {});\n",
              "      } catch (error) {\n",
              "        console.error('Error during call to suggestCharts:', error);\n",
              "      }\n",
              "      quickchartButtonEl.classList.remove('colab-df-spinner');\n",
              "      quickchartButtonEl.classList.add('colab-df-quickchart-complete');\n",
              "    }\n",
              "    (() => {\n",
              "      let quickchartButtonEl =\n",
              "        document.querySelector('#df-f4abc3ce-6ef2-403e-bda4-041379b47afd button');\n",
              "      quickchartButtonEl.style.display =\n",
              "        google.colab.kernel.accessAllowed ? 'block' : 'none';\n",
              "    })();\n",
              "  </script>\n",
              "</div>\n",
              "\n",
              "  <div id=\"id_926c22a3-b694-48ba-9a20-08b3cee61e1f\">\n",
              "    <style>\n",
              "      .colab-df-generate {\n",
              "        background-color: #E8F0FE;\n",
              "        border: none;\n",
              "        border-radius: 50%;\n",
              "        cursor: pointer;\n",
              "        display: none;\n",
              "        fill: #1967D2;\n",
              "        height: 32px;\n",
              "        padding: 0 0 0 0;\n",
              "        width: 32px;\n",
              "      }\n",
              "\n",
              "      .colab-df-generate:hover {\n",
              "        background-color: #E2EBFA;\n",
              "        box-shadow: 0px 1px 2px rgba(60, 64, 67, 0.3), 0px 1px 3px 1px rgba(60, 64, 67, 0.15);\n",
              "        fill: #174EA6;\n",
              "      }\n",
              "\n",
              "      [theme=dark] .colab-df-generate {\n",
              "        background-color: #3B4455;\n",
              "        fill: #D2E3FC;\n",
              "      }\n",
              "\n",
              "      [theme=dark] .colab-df-generate:hover {\n",
              "        background-color: #434B5C;\n",
              "        box-shadow: 0px 1px 3px 1px rgba(0, 0, 0, 0.15);\n",
              "        filter: drop-shadow(0px 1px 2px rgba(0, 0, 0, 0.3));\n",
              "        fill: #FFFFFF;\n",
              "      }\n",
              "    </style>\n",
              "    <button class=\"colab-df-generate\" onclick=\"generateWithVariable('df_features')\"\n",
              "            title=\"Generate code using this dataframe.\"\n",
              "            style=\"display:none;\">\n",
              "\n",
              "  <svg xmlns=\"http://www.w3.org/2000/svg\" height=\"24px\"viewBox=\"0 0 24 24\"\n",
              "       width=\"24px\">\n",
              "    <path d=\"M7,19H8.4L18.45,9,17,7.55,7,17.6ZM5,21V16.75L18.45,3.32a2,2,0,0,1,2.83,0l1.4,1.43a1.91,1.91,0,0,1,.58,1.4,1.91,1.91,0,0,1-.58,1.4L9.25,21ZM18.45,9,17,7.55Zm-12,3A5.31,5.31,0,0,0,4.9,8.1,5.31,5.31,0,0,0,1,6.5,5.31,5.31,0,0,0,4.9,4.9,5.31,5.31,0,0,0,6.5,1,5.31,5.31,0,0,0,8.1,4.9,5.31,5.31,0,0,0,12,6.5,5.46,5.46,0,0,0,6.5,12Z\"/>\n",
              "  </svg>\n",
              "    </button>\n",
              "    <script>\n",
              "      (() => {\n",
              "      const buttonEl =\n",
              "        document.querySelector('#id_926c22a3-b694-48ba-9a20-08b3cee61e1f button.colab-df-generate');\n",
              "      buttonEl.style.display =\n",
              "        google.colab.kernel.accessAllowed ? 'block' : 'none';\n",
              "\n",
              "      buttonEl.onclick = () => {\n",
              "        google.colab.notebook.generateWithVariable('df_features');\n",
              "      }\n",
              "      })();\n",
              "    </script>\n",
              "  </div>\n",
              "\n",
              "    </div>\n",
              "  </div>\n"
            ]
          },
          "metadata": {},
          "execution_count": 11
        }
      ]
    },
    {
      "cell_type": "code",
      "source": [
        "x = df_features['Movie_Genre'] + ' ' + df_features['Movie_Keywords'] + ' ' + df_features['Movie_Tagline'] + ' ' + df_features['Movie_Cast']+ ' ' + df_features['Movie_Director']"
      ],
      "metadata": {
        "id": "7Fjn1yqTKYli"
      },
      "execution_count": 12,
      "outputs": []
    },
    {
      "cell_type": "code",
      "source": [
        "x.shape"
      ],
      "metadata": {
        "colab": {
          "base_uri": "https://localhost:8080/"
        },
        "id": "iiXbOgm_LYHL",
        "outputId": "6a5b2c4e-1502-4341-83ae-90c62296f65c"
      },
      "execution_count": 13,
      "outputs": [
        {
          "output_type": "execute_result",
          "data": {
            "text/plain": [
              "(4760,)"
            ]
          },
          "metadata": {},
          "execution_count": 13
        }
      ]
    },
    {
      "cell_type": "markdown",
      "source": [
        "**Get Features Text Conversion to Tokens**"
      ],
      "metadata": {
        "id": "hQKmJSRfMPL9"
      }
    },
    {
      "cell_type": "code",
      "source": [
        "from sklearn.feature_extraction.text import TfidfVectorizer"
      ],
      "metadata": {
        "id": "P_edtKd-MX4Y"
      },
      "execution_count": 14,
      "outputs": []
    },
    {
      "cell_type": "code",
      "source": [
        "tfidf = TfidfVectorizer()"
      ],
      "metadata": {
        "id": "UaKk8tZtMm5m"
      },
      "execution_count": 15,
      "outputs": []
    },
    {
      "cell_type": "code",
      "source": [
        "x = tfidf.fit_transform(x)"
      ],
      "metadata": {
        "id": "-WAWkI3VMwSt"
      },
      "execution_count": 16,
      "outputs": []
    },
    {
      "cell_type": "code",
      "source": [
        "x.shape"
      ],
      "metadata": {
        "colab": {
          "base_uri": "https://localhost:8080/"
        },
        "id": "7lK5Z7OvM4mm",
        "outputId": "09bef7af-d482-46c6-8ef6-ebea319aa19b"
      },
      "execution_count": 17,
      "outputs": [
        {
          "output_type": "execute_result",
          "data": {
            "text/plain": [
              "(4760, 17258)"
            ]
          },
          "metadata": {},
          "execution_count": 17
        }
      ]
    },
    {
      "cell_type": "code",
      "source": [
        "print(x)"
      ],
      "metadata": {
        "colab": {
          "base_uri": "https://localhost:8080/"
        },
        "id": "aSlE1tePM90-",
        "outputId": "98061c59-f102-44fc-dab9-7481b111e8c0"
      },
      "execution_count": 18,
      "outputs": [
        {
          "output_type": "stream",
          "name": "stdout",
          "text": [
            "  (0, 617)\t0.1633382144407513\n",
            "  (0, 492)\t0.1432591540388685\n",
            "  (0, 15413)\t0.1465525095337543\n",
            "  (0, 9675)\t0.14226057295252661\n",
            "  (0, 9465)\t0.1659841367820977\n",
            "  (0, 1390)\t0.16898383612799558\n",
            "  (0, 7825)\t0.09799561597509843\n",
            "  (0, 1214)\t0.13865857545144072\n",
            "  (0, 729)\t0.13415063359531618\n",
            "  (0, 13093)\t0.1432591540388685\n",
            "  (0, 15355)\t0.10477815972666779\n",
            "  (0, 9048)\t0.0866842116160778\n",
            "  (0, 11161)\t0.06250380151644369\n",
            "  (0, 16773)\t0.17654247479915475\n",
            "  (0, 5612)\t0.08603537588547631\n",
            "  (0, 16735)\t0.10690083751525419\n",
            "  (0, 7904)\t0.13348000542112332\n",
            "  (0, 15219)\t0.09800472886453934\n",
            "  (0, 11242)\t0.07277788238484746\n",
            "  (0, 3878)\t0.11998399582562203\n",
            "  (0, 5499)\t0.11454057510303811\n",
            "  (0, 7071)\t0.19822417598406614\n",
            "  (0, 7454)\t0.14745635785412262\n",
            "  (0, 1495)\t0.19712637387361423\n",
            "  (0, 9206)\t0.15186283580984414\n",
            "  :\t:\n",
            "  (4757, 5455)\t0.12491480594769522\n",
            "  (4757, 2967)\t0.16273475835631626\n",
            "  (4757, 8464)\t0.23522565554066333\n",
            "  (4757, 6938)\t0.17088173678136628\n",
            "  (4757, 8379)\t0.17480603856721913\n",
            "  (4757, 15303)\t0.07654356007668191\n",
            "  (4757, 15384)\t0.09754322497537371\n",
            "  (4757, 7649)\t0.11479421494340192\n",
            "  (4757, 10896)\t0.14546473055066447\n",
            "  (4757, 4494)\t0.05675298448720501\n",
            "  (4758, 5238)\t1.0\n",
            "  (4759, 11264)\t0.33947721804318337\n",
            "  (4759, 11708)\t0.33947721804318337\n",
            "  (4759, 205)\t0.3237911628497312\n",
            "  (4759, 8902)\t0.3040290704566037\n",
            "  (4759, 14062)\t0.3237911628497312\n",
            "  (4759, 3058)\t0.2812896191863103\n",
            "  (4759, 7130)\t0.26419662449963793\n",
            "  (4759, 10761)\t0.3126617295732147\n",
            "  (4759, 4358)\t0.18306542312175342\n",
            "  (4759, 14051)\t0.20084315377640435\n",
            "  (4759, 5690)\t0.19534291014627303\n",
            "  (4759, 15431)\t0.19628653185946862\n",
            "  (4759, 1490)\t0.21197258705292082\n",
            "  (4759, 10666)\t0.15888268987343043\n"
          ]
        }
      ]
    },
    {
      "cell_type": "markdown",
      "source": [
        "**Get Similarity Score Using Cosine Similarity**"
      ],
      "metadata": {
        "id": "-awaRmptNKh_"
      }
    },
    {
      "cell_type": "code",
      "source": [
        "from sklearn.metrics.pairwise import cosine_similarity"
      ],
      "metadata": {
        "id": "VgRv5O2TNYU9"
      },
      "execution_count": 19,
      "outputs": []
    },
    {
      "cell_type": "code",
      "source": [
        "Similarity_Score = cosine_similarity(x)"
      ],
      "metadata": {
        "id": "_5zHIkxvNn31"
      },
      "execution_count": 20,
      "outputs": []
    },
    {
      "cell_type": "code",
      "source": [
        "Similarity_Score"
      ],
      "metadata": {
        "colab": {
          "base_uri": "https://localhost:8080/"
        },
        "id": "iItb2j8XNxio",
        "outputId": "7a27444f-8972-46d1-c5d6-b34eb84a6f40"
      },
      "execution_count": 21,
      "outputs": [
        {
          "output_type": "execute_result",
          "data": {
            "text/plain": [
              "array([[1.        , 0.01351235, 0.03570468, ..., 0.        , 0.        ,\n",
              "        0.        ],\n",
              "       [0.01351235, 1.        , 0.00806674, ..., 0.        , 0.        ,\n",
              "        0.        ],\n",
              "       [0.03570468, 0.00806674, 1.        , ..., 0.        , 0.08014876,\n",
              "        0.        ],\n",
              "       ...,\n",
              "       [0.        , 0.        , 0.        , ..., 1.        , 0.        ,\n",
              "        0.        ],\n",
              "       [0.        , 0.        , 0.08014876, ..., 0.        , 1.        ,\n",
              "        0.        ],\n",
              "       [0.        , 0.        , 0.        , ..., 0.        , 0.        ,\n",
              "        1.        ]])"
            ]
          },
          "metadata": {},
          "execution_count": 21
        }
      ]
    },
    {
      "cell_type": "code",
      "source": [
        "Similarity_Score.shape"
      ],
      "metadata": {
        "colab": {
          "base_uri": "https://localhost:8080/"
        },
        "id": "MgKg6Cs0N2FT",
        "outputId": "d2ef4774-4f39-45f8-9794-ff0eab79290b"
      },
      "execution_count": 22,
      "outputs": [
        {
          "output_type": "execute_result",
          "data": {
            "text/plain": [
              "(4760, 4760)"
            ]
          },
          "metadata": {},
          "execution_count": 22
        }
      ]
    },
    {
      "cell_type": "markdown",
      "source": [
        "**Get Movie Name as Input form User & Validate for Closest Spelling**"
      ],
      "metadata": {
        "id": "hikt4IxgOJSV"
      }
    },
    {
      "cell_type": "code",
      "source": [
        "Favourite_Movie_Name = input(' Enter your favourite movie name :')"
      ],
      "metadata": {
        "colab": {
          "base_uri": "https://localhost:8080/"
        },
        "id": "JwU3UaDuOacT",
        "outputId": "2b24f9a3-5f96-4972-8721-fa7388a30f12"
      },
      "execution_count": 23,
      "outputs": [
        {
          "name": "stdout",
          "output_type": "stream",
          "text": [
            " Enter your favourite movie name :I am Legend\n"
          ]
        }
      ]
    },
    {
      "cell_type": "code",
      "source": [
        "All_Movies_Title_List = df['Movie_Title'].tolist()"
      ],
      "metadata": {
        "id": "FgFKRuW5TjzQ"
      },
      "execution_count": 24,
      "outputs": []
    },
    {
      "cell_type": "code",
      "source": [
        "import difflib"
      ],
      "metadata": {
        "id": "7V4SQa0QUbqu"
      },
      "execution_count": 25,
      "outputs": []
    },
    {
      "cell_type": "code",
      "source": [
        "Movie_Recommendation = difflib.get_close_matches(Favourite_Movie_Name, All_Movies_Title_List)\n",
        "print(Movie_Recommendation)"
      ],
      "metadata": {
        "colab": {
          "base_uri": "https://localhost:8080/"
        },
        "id": "LRWR3xvTUq2j",
        "outputId": "7f18c5aa-3015-47b1-ed1b-c0e62024cce0"
      },
      "execution_count": 26,
      "outputs": [
        {
          "output_type": "stream",
          "name": "stdout",
          "text": [
            "['I Am Legend', 'Legend', 'Urban Legend']\n"
          ]
        }
      ]
    },
    {
      "cell_type": "code",
      "source": [
        "Close_Match = Movie_Recommendation[0]\n",
        "print(Close_Match)"
      ],
      "metadata": {
        "colab": {
          "base_uri": "https://localhost:8080/"
        },
        "id": "9-Qc4dtqVWr_",
        "outputId": "6ffa6b32-9458-4403-ac66-e90f1b922890"
      },
      "execution_count": 27,
      "outputs": [
        {
          "output_type": "stream",
          "name": "stdout",
          "text": [
            "I Am Legend\n"
          ]
        }
      ]
    },
    {
      "cell_type": "code",
      "source": [
        "Index_of_Close_Match_Movie = df[df.Movie_Title == Close_Match]['Movie_ID'].values[0]\n",
        "print(Index_of_Close_Match_Movie)"
      ],
      "metadata": {
        "colab": {
          "base_uri": "https://localhost:8080/"
        },
        "id": "ccPY0fFDVl5T",
        "outputId": "cc7ddc06-03ba-4a17-d7b9-c095e0406364"
      },
      "execution_count": 28,
      "outputs": [
        {
          "output_type": "stream",
          "name": "stdout",
          "text": [
            "964\n"
          ]
        }
      ]
    },
    {
      "cell_type": "code",
      "source": [
        "Recommendation_Score = list(enumerate(Similarity_Score[Index_of_Close_Match_Movie]))\n",
        "print(Recommendation_Score)"
      ],
      "metadata": {
        "colab": {
          "base_uri": "https://localhost:8080/"
        },
        "id": "LVMjDcEQWLfV",
        "outputId": "5d16d65d-8035-45f2-f3a3-3cb3cebb3317"
      },
      "execution_count": 29,
      "outputs": [
        {
          "output_type": "stream",
          "name": "stdout",
          "text": [
            "[(0, 0.00915308814893568), (1, 0.0), (2, 0.0), (3, 0.002908271341206503), (4, 0.0), (5, 0.0), (6, 0.0), (7, 0.006773012397846129), (8, 0.010239402349713229), (9, 0.0), (10, 0.0), (11, 0.0), (12, 0.0), (13, 0.007926403342637067), (14, 0.011654726145148734), (15, 0.0), (16, 0.0), (17, 0.0), (18, 0.04429888537062918), (19, 0.025099856117708097), (20, 0.0), (21, 0.0), (22, 0.0032847841716722075), (23, 0.0), (24, 0.006157947087164666), (25, 0.002736544366808116), (26, 0.0), (27, 0.0), (28, 0.003358848543243635), (29, 0.0), (30, 0.0), (31, 0.0), (32, 0.022813539032087885), (33, 0.0), (34, 0.0), (35, 0.008699843089096979), (36, 0.0), (37, 0.008607044638805251), (38, 0.0037806421021200115), (39, 0.0), (40, 0.003710988272209917), (41, 0.0), (42, 0.0033838462699636706), (43, 0.0), (44, 0.0), (45, 0.003139728869049187), (46, 0.00876320184533534), (47, 0.008368729982747404), (48, 0.0), (49, 0.028127877152592913), (50, 0.02339702012864552), (51, 0.0), (52, 0.0), (53, 0.012069090509346611), (54, 0.0), (55, 0.0), (56, 0.0), (57, 0.02682637951431191), (58, 0.01936830492812711), (59, 0.003408418837048627), (60, 0.010895245839340876), (61, 0.0), (62, 0.0), (63, 0.024275098166626964), (64, 0.0), (65, 0.0), (66, 0.0), (67, 0.0), (68, 0.0), (69, 0.0), (70, 0.0), (71, 0.0473285021085475), (72, 0.0), (73, 0.002864090341354666), (74, 0.021678820898932794), (75, 0.0), (76, 0.018847612593279512), (77, 0.006328236540344152), (78, 0.00792537944812176), (79, 0.0), (80, 0.0), (81, 0.00831926889771411), (82, 0.02513346991437656), (83, 0.0), (84, 0.0), (85, 0.0), (86, 0.0028450825026555457), (87, 0.0), (88, 0.02332942978746944), (89, 0.0), (90, 0.0), (91, 0.0029287434968168842), (92, 0.0), (93, 0.0), (94, 0.0), (95, 0.0), (96, 0.0), (97, 0.0), (98, 0.0), (99, 0.0072617311485721845), (100, 0.009183249168737338), (101, 0.0), (102, 0.0), (103, 0.0028653807939086873), (104, 0.0), (105, 0.04581778922318776), (106, 0.0), (107, 0.0), (108, 0.006708033780382841), (109, 0.01653627234325633), (110, 0.0033810634443604145), (111, 0.0), (112, 0.0), (113, 0.02094736614283394), (114, 0.035869791449362504), (115, 0.02461957006052153), (116, 0.0), (117, 0.0), (118, 0.025619500170226867), (119, 0.0), (120, 0.0), (121, 0.008665503189633168), (122, 0.0), (123, 0.0), (124, 0.007666993231990475), (125, 0.04444120445885904), (126, 0.019595792333081605), (127, 0.0), (128, 0.0), (129, 0.0023101189411628854), (130, 0.0), (131, 0.0), (132, 0.0), (133, 0.020116690186847933), (134, 0.0033794691449688962), (135, 0.0), (136, 0.01741345365496686), (137, 0.0), (138, 0.0), (139, 0.003711731518307791), (140, 0.0), (141, 0.0036336828129739933), (142, 0.015601357945432038), (143, 0.0), (144, 0.0), (145, 0.016908785138059327), (146, 0.0035684602852508983), (147, 0.0), (148, 0.007619563679429105), (149, 0.0), (150, 0.036190095416098134), (151, 0.02105635184057825), (152, 0.0), (153, 0.0038881891337248166), (154, 0.024419158581463755), (155, 0.00703561644935276), (156, 0.0026874438423192424), (157, 0.00315070951948421), (158, 0.00845733062794565), (159, 0.03615701884704192), (160, 0.0076962325769295336), (161, 0.0029735899047127735), (162, 0.0), (163, 0.006815496235848924), (164, 0.008971509555168148), (165, 0.0), (166, 0.0), (167, 0.02483819924365853), (168, 0.0), (169, 0.01251365082702211), (170, 0.008542690952615284), (171, 0.0), (172, 0.0), (173, 0.0), (174, 0.0032676789827428008), (175, 0.010754852271674385), (176, 0.025656371916297337), (177, 0.01413971708059271), (178, 0.0), (179, 0.0), (180, 0.0), (181, 0.009365647301617602), (182, 0.00333458528988388), (183, 0.01904766066561467), (184, 0.0), (185, 0.0031275774169960786), (186, 0.0), (187, 0.027905101784443852), (188, 0.0032866101089767843), (189, 0.0), (190, 0.0), (191, 0.007491599282333993), (192, 0.0809868270308429), (193, 0.0), (194, 0.0), (195, 0.002780653680988693), (196, 0.04672304098252034), (197, 0.003123641327966569), (198, 0.0), (199, 0.008596966931537811), (200, 0.0), (201, 0.0), (202, 0.019241037560262388), (203, 0.0), (204, 0.003456170132476565), (205, 0.0035030356997806256), (206, 0.02203150881484231), (207, 0.0), (208, 0.0), (209, 0.0), (210, 0.0), (211, 0.006915804239856339), (212, 0.003095972133140846), (213, 0.0), (214, 0.0029831226728112776), (215, 0.0032500673149763975), (216, 0.0), (217, 0.003224459419517116), (218, 0.0), (219, 0.0033659512113612313), (220, 0.0), (221, 0.0), (222, 0.00739030525400679), (223, 0.0), (224, 0.0), (225, 0.007609343683337801), (226, 0.016584252411929488), (227, 0.0), (228, 0.024094040718080068), (229, 0.008790041940339147), (230, 0.04899416376533885), (231, 0.0), (232, 0.0), (233, 0.0), (234, 0.0), (235, 0.0), (236, 0.015579984770658183), (237, 0.03239424600010931), (238, 0.0033741361095025813), (239, 0.008906192932063005), (240, 0.007771858376636229), (241, 0.009405245964237122), (242, 0.0), (243, 0.0), (244, 0.0), (245, 0.003393357493426133), (246, 0.01706325266743739), (247, 0.016399928328743003), (248, 0.007767739707627765), (249, 0.0), (250, 0.0), (251, 0.014216343537461592), (252, 0.0), (253, 0.0036169328407960745), (254, 0.018281754033978793), (255, 0.0), (256, 0.0), (257, 0.0), (258, 0.020522792873130438), (259, 0.0), (260, 0.0), (261, 0.01600282115262521), (262, 0.0), (263, 0.003130640228106903), (264, 0.0033127588689914195), (265, 0.017866904050243215), (266, 0.0), (267, 0.0), (268, 0.0), (269, 0.014232361237780242), (270, 0.0), (271, 0.0), (272, 0.020377618857180355), (273, 0.028302607277501786), (274, 0.0), (275, 0.018849766068400966), (276, 0.0), (277, 0.01825641185650128), (278, 0.00284923661978218), (279, 0.0316512172376485), (280, 0.0), (281, 0.0), (282, 0.0), (283, 0.0), (284, 0.0), (285, 0.0), (286, 0.0), (287, 0.0), (288, 0.0), (289, 0.0), (290, 0.0), (291, 0.007653518046934207), (292, 0.0), (293, 0.0), (294, 0.007507106117893111), (295, 0.0), (296, 0.007066390569309456), (297, 0.0), (298, 0.0), (299, 0.0), (300, 0.01796493647546208), (301, 0.0), (302, 0.0), (303, 0.009111414717779848), (304, 0.0), (305, 0.0), (306, 0.0), (307, 0.01555807620238743), (308, 0.0), (309, 0.013192464557693207), (310, 0.009058641355869862), (311, 0.026554477514654416), (312, 0.0033310962323659338), (313, 0.01740352077310361), (314, 0.0), (315, 0.03191130301070767), (316, 0.0), (317, 0.0), (318, 0.0036153147189539898), (319, 0.0027106379373999932), (320, 0.0), (321, 0.0), (322, 0.0), (323, 0.0), (324, 0.015287527659412594), (325, 0.003126144523292364), (326, 0.030577959499468146), (327, 0.0), (328, 0.0), (329, 0.0), (330, 0.0), (331, 0.014910774363333865), (332, 0.0), (333, 0.008386385903598777), (334, 0.016039310098626053), (335, 0.0), (336, 0.00913453503856812), (337, 0.0076208636028278365), (338, 0.010678828390253161), (339, 0.011326832696725788), (340, 0.0), (341, 0.009040846477973898), (342, 0.0), (343, 0.00949990801768012), (344, 0.006958780352175503), (345, 0.0032062798594303422), (346, 0.0032872483176096434), (347, 0.0), (348, 0.0), (349, 0.0), (350, 0.013865847047932107), (351, 0.002523956746816637), (352, 0.04962008802386532), (353, 0.0), (354, 0.007683927319047229), (355, 0.008693889338198901), (356, 0.0), (357, 0.010990902420213026), (358, 0.04493099674816934), (359, 0.007705557230381667), (360, 0.0), (361, 0.0035117147425793045), (362, 0.0036525414319690543), (363, 0.003614956805760167), (364, 0.014269474927376126), (365, 0.026737600216706396), (366, 0.010386784258577215), (367, 0.003169184311497026), (368, 0.003970969563590867), (369, 0.009747646920964935), (370, 0.0), (371, 0.0), (372, 0.04957568092462357), (373, 0.0), (374, 0.0), (375, 0.0), (376, 0.007293797624238098), (377, 0.01312306872048166), (378, 0.0), (379, 0.0), (380, 0.0), (381, 0.007700698368758955), (382, 0.02364798657714558), (383, 0.011351336084147168), (384, 0.0), (385, 0.0036622052960904932), (386, 0.0), (387, 0.0), (388, 0.0), (389, 0.0), (390, 0.0), (391, 0.0042369479176641136), (392, 0.003514103494878337), (393, 0.0029296267919153938), (394, 0.0), (395, 0.017795659939602786), (396, 0.0), (397, 0.0), (398, 0.0033312101468905126), (399, 0.0), (400, 0.0), (401, 0.003352914391897659), (402, 0.0), (403, 0.0), (404, 0.003210450295749692), (405, 0.030314181708792718), (406, 0.0), (407, 0.015130077827956051), (408, 0.0), (409, 0.03299258194206148), (410, 0.0), (411, 0.007706918778617034), (412, 0.0), (413, 0.0070651737335463375), (414, 0.05764256134525171), (415, 0.01236293882880116), (416, 0.006063101361360868), (417, 0.0030728943389683712), (418, 0.0034992657012765977), (419, 0.0), (420, 0.00902882625268484), (421, 0.0025585266679895046), (422, 0.012034013667574082), (423, 0.0), (424, 0.0), (425, 0.0), (426, 0.0), (427, 0.0031731733057164804), (428, 0.0), (429, 0.0), (430, 0.009037431662259838), (431, 0.0039014481793187405), (432, 0.0), (433, 0.013567677516940796), (434, 0.0), (435, 0.007645233144593002), (436, 0.02280587573793529), (437, 0.015738334665442194), (438, 0.0), (439, 0.00834712997382555), (440, 0.0), (441, 0.0), (442, 0.0), (443, 0.010905226132061314), (444, 0.0), (445, 0.0), (446, 0.0), (447, 0.0), (448, 0.0), (449, 0.0), (450, 0.00921343069451104), (451, 0.02737108224937268), (452, 0.007101179450150833), (453, 0.006420562586954229), (454, 0.003070317079957836), (455, 0.0), (456, 0.0070099962877538495), (457, 0.0), (458, 0.0), (459, 0.0032410104753232585), (460, 0.0), (461, 0.003917628720250105), (462, 0.0), (463, 0.0), (464, 0.0), (465, 0.0), (466, 0.0), (467, 0.0), (468, 0.0), (469, 0.0), (470, 0.0), (471, 0.01189415845455448), (472, 0.0), (473, 0.002992960614084239), (474, 0.003476095716407946), (475, 0.0), (476, 0.0), (477, 0.01656697881393502), (478, 0.0), (479, 0.003304299298988751), (480, 0.0), (481, 0.0), (482, 0.0), (483, 0.048777611936357795), (484, 0.0), (485, 0.0), (486, 0.0), (487, 0.0), (488, 0.0), (489, 0.0), (490, 0.0), (491, 0.0), (492, 0.0), (493, 0.0), (494, 0.01998605713313605), (495, 0.0), (496, 0.008049500931315203), (497, 0.00294393697479275), (498, 0.0031538656422434542), (499, 0.0), (500, 0.0), (501, 0.01489427436465189), (502, 0.0), (503, 0.003218108225275595), (504, 0.0033281984082111924), (505, 0.018899610817766352), (506, 0.04692333640971848), (507, 0.003106312523084661), (508, 0.0038038715514893064), (509, 0.018279841492055672), (510, 0.010180866289058699), (511, 0.01529410387174959), (512, 0.0), (513, 0.0), (514, 0.0), (515, 0.02615741624191092), (516, 0.008752247617730696), (517, 0.008725724412367906), (518, 0.02434823458839572), (519, 0.0), (520, 0.019366681475419693), (521, 0.01226281873853937), (522, 0.020160569829134233), (523, 0.0), (524, 0.0), (525, 0.0032904939455969395), (526, 0.0), (527, 0.0074641392386728175), (528, 0.0033684908258539157), (529, 0.003328652679286699), (530, 0.04547647904782941), (531, 0.027858384013257503), (532, 0.01182700120266718), (533, 0.0), (534, 0.0), (535, 0.0032642222469201326), (536, 0.013554678928703377), (537, 0.0), (538, 0.002728919415476863), (539, 0.04928759212219401), (540, 0.0), (541, 0.0), (542, 0.0), (543, 0.0), (544, 0.0), (545, 0.021418062200590175), (546, 0.012288822303967398), (547, 0.013984255522340268), (548, 0.0), (549, 0.0), (550, 0.0), (551, 0.0), (552, 0.008431115758690377), (553, 0.011795555579033796), (554, 0.0), (555, 0.0), (556, 0.008116538412913704), (557, 0.008182223157540249), (558, 0.007742604457329483), (559, 0.00748051391365803), (560, 0.0), (561, 0.015539352987800957), (562, 0.01598707271331275), (563, 0.0), (564, 0.0), (565, 0.0), (566, 0.0), (567, 0.01987738676726128), (568, 0.0), (569, 0.0193085702080977), (570, 0.0), (571, 0.0), (572, 0.0), (573, 0.0), (574, 0.0), (575, 0.0), (576, 0.0), (577, 0.002962891549212993), (578, 0.0), (579, 0.003353528655125854), (580, 0.008774050326952188), (581, 0.0), (582, 0.028723108089341722), (583, 0.00599813952707731), (584, 0.0), (585, 0.0031824556129565274), (586, 0.003446070640331733), (587, 0.0), (588, 0.0), (589, 0.011803925939596196), (590, 0.019422268394465293), (591, 0.0), (592, 0.02611371329286687), (593, 0.0), (594, 0.0029569308072153757), (595, 0.0), (596, 0.0), (597, 0.008475402579749764), (598, 0.00878465937606328), (599, 0.03154466697558008), (600, 0.041471600777957814), (601, 0.0), (602, 0.0), (603, 0.0), (604, 0.0), (605, 0.01950340171678106), (606, 0.009735995580221441), (607, 0.01981186179886696), (608, 0.0), (609, 0.010105673592298284), (610, 0.0), (611, 0.0), (612, 0.0), (613, 0.0), (614, 0.0), (615, 0.0), (616, 0.029372034936652375), (617, 0.007089121044788707), (618, 0.0), (619, 0.008357629517207825), (620, 0.0), (621, 0.0), (622, 0.0), (623, 0.0), (624, 0.0), (625, 0.030331235950031638), (626, 0.014056330099027738), (627, 0.0), (628, 0.0), (629, 0.0028566827740993672), (630, 0.011826625607035983), (631, 0.0), (632, 0.002989920142828796), (633, 0.008225786219950475), (634, 0.00824844336631363), (635, 0.03473322893233328), (636, 0.0), (637, 0.0), (638, 0.0), (639, 0.0), (640, 0.0), (641, 0.02184204104358463), (642, 0.014326841250498965), (643, 0.020420355135948205), (644, 0.0), (645, 0.0), (646, 0.0), (647, 0.03618565625643687), (648, 0.003091706304214618), (649, 0.04691874111886164), (650, 0.0), (651, 0.0), (652, 0.0), (653, 0.0), (654, 0.0), (655, 0.0), (656, 0.0), (657, 0.0), (658, 0.0), (659, 0.02459817795703218), (660, 0.0), (661, 0.0), (662, 0.003207524905877517), (663, 0.0), (664, 0.0029654449557149974), (665, 0.016080634591525884), (666, 0.0), (667, 0.0034780990740943675), (668, 0.01667170371800668), (669, 0.008675196877207194), (670, 0.0), (671, 0.0034160017250029623), (672, 0.0029499304388611817), (673, 0.0), (674, 0.0), (675, 0.0), (676, 0.009140621649439807), (677, 0.0), (678, 0.026248303943272988), (679, 0.0038126308665941233), (680, 0.0), (681, 0.0), (682, 0.0), (683, 0.0), (684, 0.026007833306823547), (685, 0.0), (686, 0.0), (687, 0.003670334467175594), (688, 0.0), (689, 0.0), (690, 0.0030779757286340083), (691, 0.036245815703651735), (692, 0.016297849934241455), (693, 0.0), (694, 0.0), (695, 0.0), (696, 0.0), (697, 0.0033220349598118877), (698, 0.0), (699, 0.0), (700, 0.0), (701, 0.0), (702, 0.018613375595346364), (703, 0.025776954771549294), (704, 0.0), (705, 0.0), (706, 0.0), (707, 0.002782536843563419), (708, 0.024443712295150945), (709, 0.002770195908485287), (710, 0.030768853114684427), (711, 0.027828974971220832), (712, 0.0029227778056000195), (713, 0.0), (714, 0.009539935166434803), (715, 0.010404171784467979), (716, 0.0), (717, 0.0), (718, 0.0), (719, 0.0), (720, 0.00318173873515228), (721, 0.0), (722, 0.0), (723, 0.04063640581551345), (724, 0.0), (725, 0.0392112267285202), (726, 0.002766172365832981), (727, 0.0), (728, 0.0), (729, 0.0), (730, 0.003406368954216167), (731, 0.0), (732, 0.0), (733, 0.0), (734, 0.008829979681892254), (735, 0.004517360128461946), (736, 0.003330387583479328), (737, 0.007462607940959725), (738, 0.0), (739, 0.062297529706518785), (740, 0.008544239952507787), (741, 0.009423783837059442), (742, 0.0), (743, 0.0), (744, 0.007765004352785457), (745, 0.0030586967669964556), (746, 0.03747989666390208), (747, 0.0), (748, 0.008909769975689676), (749, 0.0), (750, 0.0), (751, 0.02400721079765305), (752, 0.006923797133840557), (753, 0.0), (754, 0.003544241619593597), (755, 0.003215006545274153), (756, 0.008279219139626013), (757, 0.002642545405875087), (758, 0.0033338678316564736), (759, 0.00301202320012127), (760, 0.0037951080698293248), (761, 0.0), (762, 0.0), (763, 0.008901038660772175), (764, 0.004828136263401388), (765, 0.0), (766, 0.0), (767, 0.0), (768, 0.006749720841374026), (769, 0.0), (770, 0.010810946695510823), (771, 0.003564097263582331), (772, 0.023098329553419474), (773, 0.003200285640809723), (774, 0.032963404760453424), (775, 0.04655245717294843), (776, 0.022307851379085766), (777, 0.011331893052135666), (778, 0.00680908866214309), (779, 0.008059483483560212), (780, 0.003147508455151579), (781, 0.0034839752366171498), (782, 0.0), (783, 0.0), (784, 0.03451993710937643), (785, 0.024091577232683258), (786, 0.002770800559725727), (787, 0.0077906159843319596), (788, 0.03942055758318664), (789, 0.0), (790, 0.051570307659112635), (791, 0.0), (792, 0.0), (793, 0.025320811610778288), (794, 0.0), (795, 0.028817149387853843), (796, 0.025070623827210637), (797, 0.003452583380885346), (798, 0.04806617345216045), (799, 0.0), (800, 0.0), (801, 0.0), (802, 0.0), (803, 0.0), (804, 0.0), (805, 0.0), (806, 0.0), (807, 0.012739135483540841), (808, 0.0), (809, 0.0), (810, 0.007844808197217302), (811, 0.008512635859792474), (812, 0.0), (813, 0.0), (814, 0.0033983245687338333), (815, 0.008423287146213982), (816, 0.0), (817, 0.0), (818, 0.008907078293878852), (819, 0.021893784950542516), (820, 0.0029222658260619097), (821, 0.0030297771089309515), (822, 0.003322203112041699), (823, 0.0), (824, 0.020419675480027953), (825, 0.0), (826, 0.0), (827, 0.0), (828, 0.0), (829, 0.0), (830, 0.0), (831, 0.0), (832, 0.0), (833, 0.007858121046007143), (834, 0.00832818233509706), (835, 0.007938923375066874), (836, 0.0029164356241869736), (837, 0.0025430393380562358), (838, 0.0), (839, 0.013224199093619743), (840, 0.0032028860027542177), (841, 0.0036325179203360253), (842, 0.0040451083301036705), (843, 0.0), (844, 0.0), (845, 0.017364559341209045), (846, 0.028954313744602535), (847, 0.0037936269926488976), (848, 0.016727548406836386), (849, 0.0033060234970299727), (850, 0.020751352122757676), (851, 0.002898108072461166), (852, 0.0), (853, 0.01629320196749921), (854, 0.0), (855, 0.00958732026482467), (856, 0.0), (857, 0.0), (858, 0.0), (859, 0.0031271178385452745), (860, 0.0), (861, 0.0), (862, 0.0028820418744497124), (863, 0.0), (864, 0.0), (865, 0.03531889957631838), (866, 0.0), (867, 0.028599597161018557), (868, 0.0), (869, 0.050758631577804816), (870, 0.04517344411307051), (871, 0.0), (872, 0.0035416244287950547), (873, 0.08054574657317606), (874, 0.0), (875, 0.018204491612716242), (876, 0.0), (877, 0.0), (878, 0.0), (879, 0.0034513983392353803), (880, 0.0), (881, 0.04228231206903865), (882, 0.018679891079373474), (883, 0.003160165946342776), (884, 0.003441878644229572), (885, 0.002967305784806523), (886, 0.0031014634719660067), (887, 0.0), (888, 0.0), (889, 0.0), (890, 0.013283453968641865), (891, 0.0), (892, 0.002865965629623065), (893, 0.00757137853139035), (894, 0.020875096847292673), (895, 0.03204637380042827), (896, 0.0), (897, 0.0), (898, 0.010544106001099916), (899, 0.015289706852945086), (900, 0.0), (901, 0.0), (902, 0.0), (903, 0.0031010062063381474), (904, 0.0038942569790094326), (905, 0.0038268822951778945), (906, 0.0), (907, 0.003042262805772609), (908, 0.0033796298499477917), (909, 0.0), (910, 0.052235062888930095), (911, 0.0), (912, 0.002909020373975395), (913, 0.0), (914, 0.0), (915, 0.01596047623255635), (916, 0.0030653738678246127), (917, 0.0), (918, 0.0), (919, 0.0), (920, 0.003036986616914001), (921, 0.027905853503105104), (922, 0.0), (923, 0.00318587575960552), (924, 0.008212584700882892), (925, 0.013458500985060837), (926, 0.02464141840277634), (927, 0.0), (928, 0.0), (929, 0.0), (930, 0.0), (931, 0.003305921691358763), (932, 0.048392127828512294), (933, 0.0033785927676853885), (934, 0.008592855131509534), (935, 0.0), (936, 0.008483387737972024), (937, 0.0), (938, 0.003316048149355339), (939, 0.0031203433290091513), (940, 0.002315269685943822), (941, 0.003098463366553836), (942, 0.0), (943, 0.0033161361189359044), (944, 0.008784259433292836), (945, 0.003349763722047949), (946, 0.003292084845534709), (947, 0.0), (948, 0.00416543445731642), (949, 0.0), (950, 0.05516477994664111), (951, 0.0027927475134080005), (952, 0.04625943750662343), (953, 0.006760526481117393), (954, 0.0), (955, 0.0039006160016936235), (956, 0.0036245439728645455), (957, 0.022262983794889744), (958, 0.0030237602593423335), (959, 0.0), (960, 0.008911249426124649), (961, 0.02925631755729658), (962, 0.0), (963, 0.016661985494229762), (964, 1.0000000000000004), (965, 0.0033009712776861846), (966, 0.0), (967, 0.022504757881578685), (968, 0.015212048210521379), (969, 0.003376627589056622), (970, 0.017855159964485973), (971, 0.0034051634128990736), (972, 0.009755786686882387), (973, 0.012548298490965941), (974, 0.0), (975, 0.0), (976, 0.0), (977, 0.0), (978, 0.00611985679298825), (979, 0.015761866295615733), (980, 0.0), (981, 0.008488178786298328), (982, 0.003639162899203855), (983, 0.0032491727206291478), (984, 0.0031467845739039362), (985, 0.0037843420827749336), (986, 0.0), (987, 0.0), (988, 0.0), (989, 0.0), (990, 0.0036341255053140217), (991, 0.009013074006517163), (992, 0.0), (993, 0.0), (994, 0.025374224621063722), (995, 0.003240839390009412), (996, 0.004668190332465131), (997, 0.0), (998, 0.0037502882237175823), (999, 0.003747218874187129), (1000, 0.0), (1001, 0.044298974998649696), (1002, 0.031091004315642615), (1003, 0.008582490062850357), (1004, 0.0), (1005, 0.0), (1006, 0.0034562302614814726), (1007, 0.0034827176336458907), (1008, 0.0242301285789102), (1009, 0.01869446052048705), (1010, 0.0027980490282133166), (1011, 0.0), (1012, 0.0), (1013, 0.0034955641024391284), (1014, 0.0), (1015, 0.0), (1016, 0.0), (1017, 0.0), (1018, 0.0), (1019, 0.0), (1020, 0.0), (1021, 0.019816810580734683), (1022, 0.0032930748892709737), (1023, 0.0), (1024, 0.003445602443080383), (1025, 0.011349999391126103), (1026, 0.0), (1027, 0.009015748570712285), (1028, 0.0032650231681270784), (1029, 0.0031305703825608216), (1030, 0.0), (1031, 0.00892739489435486), (1032, 0.019252552326926842), (1033, 0.009037371319223346), (1034, 0.0), (1035, 0.0), (1036, 0.0), (1037, 0.0), (1038, 0.0030213764028036677), (1039, 0.0), (1040, 0.0025838506290344074), (1041, 0.007881624824171667), (1042, 0.0), (1043, 0.01030330238519729), (1044, 0.009133499029082778), (1045, 0.0), (1046, 0.00800813587542066), (1047, 0.0034467697459515728), (1048, 0.0), (1049, 0.003922772198183346), (1050, 0.0), (1051, 0.0), (1052, 0.0), (1053, 0.0), (1054, 0.0), (1055, 0.02279903090051334), (1056, 0.009135543787349744), (1057, 0.009009545655486555), (1058, 0.0), (1059, 0.0), (1060, 0.0), (1061, 0.0029782710053342233), (1062, 0.0027661314134467285), (1063, 0.0), (1064, 0.0), (1065, 0.0), (1066, 0.0), (1067, 0.0), (1068, 0.0), (1069, 0.0), (1070, 0.0028275202023764264), (1071, 0.0), (1072, 0.0), (1073, 0.0031451666646368642), (1074, 0.024151266664301695), (1075, 0.0), (1076, 0.009088437075288273), (1077, 0.0), (1078, 0.021991545431979908), (1079, 0.003042204581907881), (1080, 0.0), (1081, 0.01639940688313074), (1082, 0.017506320762113177), (1083, 0.00980986626879395), (1084, 0.0032416102175767507), (1085, 0.003372566832735709), (1086, 0.0), (1087, 0.0), (1088, 0.0028279854436529853), (1089, 0.03223877482519493), (1090, 0.008271614634877366), (1091, 0.0), (1092, 0.0), (1093, 0.0029900419710100815), (1094, 0.003237528540726032), (1095, 0.015007517149811111), (1096, 0.0), (1097, 0.00823456043957945), (1098, 0.007688313084400077), (1099, 0.050665007942455605), (1100, 0.01956547375961258), (1101, 0.0), (1102, 0.020230427535262416), (1103, 0.0035648582278291186), (1104, 0.00883775565936173), (1105, 0.0544731623207716), (1106, 0.0062505531167627686), (1107, 0.008772263801462692), (1108, 0.003375488563300037), (1109, 0.007336631172777382), (1110, 0.009267520470795347), (1111, 0.0), (1112, 0.02816384055756108), (1113, 0.0031936158371855313), (1114, 0.0), (1115, 0.0026582090651977816), (1116, 0.008895248417942425), (1117, 0.019111970875112932), (1118, 0.0), (1119, 0.008964709107887355), (1120, 0.0), (1121, 0.0), (1122, 0.009598967727998054), (1123, 0.0), (1124, 0.0034297731274951166), (1125, 0.003179014704560492), (1126, 0.003266714141559177), (1127, 0.0), (1128, 0.0), (1129, 0.038834330183618294), (1130, 0.003241687056091918), (1131, 0.0), (1132, 0.0), (1133, 0.012709225171044468), (1134, 0.0), (1135, 0.035616211530610155), (1136, 0.0), (1137, 0.0), (1138, 0.0), (1139, 0.003111638242934208), (1140, 0.0), (1141, 0.0), (1142, 0.020842143294662413), (1143, 0.0), (1144, 0.007516957109213175), (1145, 0.0), (1146, 0.008118630207342398), (1147, 0.0), (1148, 0.0), (1149, 0.026067780787047728), (1150, 0.0), (1151, 0.0), (1152, 0.0030670390330212486), (1153, 0.00820665828727896), (1154, 0.0), (1155, 0.0034311345563512938), (1156, 0.0027157620703449083), (1157, 0.01168625223616108), (1158, 0.00938097725134681), (1159, 0.009330804592248849), (1160, 0.0), (1161, 0.0), (1162, 0.0), (1163, 0.00838174571907965), (1164, 0.020302668236466998), (1165, 0.0034268093156036793), (1166, 0.003372211450896068), (1167, 0.009198921855772929), (1168, 0.0), (1169, 0.00387179591143411), (1170, 0.049562017512186855), (1171, 0.0), (1172, 0.04452612595324701), (1173, 0.002993807011033259), (1174, 0.0), (1175, 0.0), (1176, 0.0), (1177, 0.007909569351164113), (1178, 0.010819705059579259), (1179, 0.0), (1180, 0.006162875253656648), (1181, 0.008876728908650645), (1182, 0.023567337665556565), (1183, 0.0), (1184, 0.0), (1185, 0.0), (1186, 0.0), (1187, 0.003886825539667278), (1188, 0.0), (1189, 0.008826467338557938), (1190, 0.0031452296920377546), (1191, 0.021156164287091987), (1192, 0.008797279695167822), (1193, 0.024826104605471102), (1194, 0.0028903859771033154), (1195, 0.0), (1196, 0.0032866113234171403), (1197, 0.007720131512290795), (1198, 0.023451838422895246), (1199, 0.00291831675430904), (1200, 0.0030069519096059365), (1201, 0.007493259180488323), (1202, 0.0231169166051801), (1203, 0.0031061260074585683), (1204, 0.00335650159191492), (1205, 0.07054378718014573), (1206, 0.05226393120913498), (1207, 0.008021598383925643), (1208, 0.004217664001648617), (1209, 0.03512141332430187), (1210, 0.00685595100565365), (1211, 0.011090886970171451), (1212, 0.01098773902988111), (1213, 0.0434883207667827), (1214, 0.010679888300088362), (1215, 0.0), (1216, 0.0029998777081079045), (1217, 0.0028720608891245657), (1218, 0.008010135028588111), (1219, 0.0), (1220, 0.024597953095276757), (1221, 0.0), (1222, 0.030582406569353685), (1223, 0.008429021209688794), (1224, 0.003453332570859364), (1225, 0.0), (1226, 0.0), (1227, 0.0033048487839807796), (1228, 0.0), (1229, 0.0), (1230, 0.0), (1231, 0.003170094936251187), (1232, 0.020048200442761576), (1233, 0.008797638440941367), (1234, 0.003503165461727288), (1235, 0.02367909474705425), (1236, 0.0), (1237, 0.020968402603967307), (1238, 0.003285654005036039), (1239, 0.017663029260828963), (1240, 0.0), (1241, 0.0), (1242, 0.0030263767973297355), (1243, 0.003608338979092263), (1244, 0.0034123527120862103), (1245, 0.0), (1246, 0.0035738603535260976), (1247, 0.0), (1248, 0.0), (1249, 0.0028680899921367992), (1250, 0.008557996261177545), (1251, 0.0029274154511203278), (1252, 0.0), (1253, 0.0), (1254, 0.009663030702150589), (1255, 0.0), (1256, 0.003123554323731127), (1257, 0.0), (1258, 0.0), (1259, 0.0), (1260, 0.022192429511940823), (1261, 0.03244021671373396), (1262, 0.0), (1263, 0.0), (1264, 0.0), (1265, 0.009125787304138655), (1266, 0.0), (1267, 0.022902965929491113), (1268, 0.002648443895273738), (1269, 0.021039071919910685), (1270, 0.03518607741661695), (1271, 0.00880966365829831), (1272, 0.008273102952954739), (1273, 0.008973186644126548), (1274, 0.05184774201704613), (1275, 0.0), (1276, 0.03968631608260363), (1277, 0.00952450413910292), (1278, 0.03204957101479843), (1279, 0.007069368846477152), (1280, 0.0), (1281, 0.0), (1282, 0.0035367339827718385), (1283, 0.008291475980566811), (1284, 0.003220377424574369), (1285, 0.0), (1286, 0.0032431982273350307), (1287, 0.03286099707882868), (1288, 0.0030100119138986), (1289, 0.002717925925741569), (1290, 0.0), (1291, 0.02194579413143592), (1292, 0.0032532025204578363), (1293, 0.003179757529925307), (1294, 0.009678922670337643), (1295, 0.008314236988042208), (1296, 0.007749221513322437), (1297, 0.00662195222549364), (1298, 0.0032898778391562324), (1299, 0.003472772211363128), (1300, 0.002797331335811477), (1301, 0.0), (1302, 0.0033553134605301626), (1303, 0.0), (1304, 0.0033093048737686905), (1305, 0.0), (1306, 0.015361945859018048), (1307, 0.0), (1308, 0.00303514830875376), (1309, 0.005662670477414879), (1310, 0.002985823423383728), (1311, 0.0037113232499933115), (1312, 0.002791787108592257), (1313, 0.0032599281746085234), (1314, 0.0319978682815068), (1315, 0.008167210037732412), (1316, 0.00848389613773173), (1317, 0.0026803944048832346), (1318, 0.002950392708120643), (1319, 0.009250206072613985), (1320, 0.0025969469029586334), (1321, 0.003807396971813227), (1322, 0.02954057071639031), (1323, 0.0028423799387746777), (1324, 0.0), (1325, 0.0), (1326, 0.0027005969238352774), (1327, 0.018918418191376973), (1328, 0.0), (1329, 0.006529168265369993), (1330, 0.003247503408403916), (1331, 0.0030322298218833747), (1332, 0.0), (1333, 0.003527841261167799), (1334, 0.0), (1335, 0.00952228808631005), (1336, 0.0034736130768644267), (1337, 0.012997791511900135), (1338, 0.0), (1339, 0.0), (1340, 0.002809471689206414), (1341, 0.0027151922379989664), (1342, 0.007011540281513067), (1343, 0.009981513106135492), (1344, 0.0026750845404646547), (1345, 0.003300871972139444), (1346, 0.0), (1347, 0.008110217969720952), (1348, 0.011094209120021547), (1349, 0.0), (1350, 0.0), (1351, 0.02009859195268753), (1352, 0.0), (1353, 0.0030759672796104665), (1354, 0.0), (1355, 0.0), (1356, 0.0), (1357, 0.0), (1358, 0.0), (1359, 0.0071096724078978345), (1360, 0.04584087481025803), (1361, 0.0033604593278807717), (1362, 0.0024584034455097515), (1363, 0.0031396262028785212), (1364, 0.003435099602507103), (1365, 0.0), (1366, 0.008504837878553148), (1367, 0.0027626538613138353), (1368, 0.023230740926055524), (1369, 0.017247669415829364), (1370, 0.0028524888534949074), (1371, 0.014148182068070551), (1372, 0.0031032980759075567), (1373, 0.0032049845283270238), (1374, 0.0), (1375, 0.008961185941184908), (1376, 0.0031413239764847708), (1377, 0.0), (1378, 0.008389413457810503), (1379, 0.021132570841317973), (1380, 0.04872213453787299), (1381, 0.0), (1382, 0.0034146782471884273), (1383, 0.0), (1384, 0.008391387888264365), (1385, 0.021099557954725977), (1386, 0.009585473251855554), (1387, 0.0), (1388, 0.003322610486499803), (1389, 0.0034836413711776034), (1390, 0.003559178184119412), (1391, 0.009367537962481368), (1392, 0.014265438654489478), (1393, 0.0), (1394, 0.0029309991500024897), (1395, 0.006758747417085146), (1396, 0.0), (1397, 0.0028608197285818985), (1398, 0.0), (1399, 0.0), (1400, 0.0), (1401, 0.0034933024707338137), (1402, 0.0), (1403, 0.0025417416384844586), (1404, 0.0), (1405, 0.002908405898508227), (1406, 0.0), (1407, 0.008923041497167918), (1408, 0.01937606495678958), (1409, 0.025346150239915967), (1410, 0.0033435603089792903), (1411, 0.012585912382952013), (1412, 0.0), (1413, 0.0), (1414, 0.049532851152663815), (1415, 0.0), (1416, 0.0), (1417, 0.012947357100914086), (1418, 0.012749443431309083), (1419, 0.0), (1420, 0.011657105835347997), (1421, 0.015989977826492224), (1422, 0.02628878125875074), (1423, 0.0), (1424, 0.0037768978568915074), (1425, 0.00336540763340698), (1426, 0.01779169304361188), (1427, 0.0027118644873907116), (1428, 0.007959405357781082), (1429, 0.0), (1430, 0.016574361518564576), (1431, 0.008597928140401391), (1432, 0.0034459957378199586), (1433, 0.0), (1434, 0.0), (1435, 0.0), (1436, 0.0), (1437, 0.0037486461345452994), (1438, 0.0), (1439, 0.0), (1440, 0.0), (1441, 0.0035663038546848527), (1442, 0.0), (1443, 0.0), (1444, 0.0032918952369044574), (1445, 0.003456522482928092), (1446, 0.0031702495380738147), (1447, 0.0032630232066786866), (1448, 0.0), (1449, 0.008839527068195723), (1450, 0.0), (1451, 0.00788698658132756), (1452, 0.030420379889794173), (1453, 0.0026617834122009626), (1454, 0.0), (1455, 0.0), (1456, 0.0), (1457, 0.0030808508084106167), (1458, 0.01783567682024349), (1459, 0.0), (1460, 0.0), (1461, 0.003345221695202508), (1462, 0.0), (1463, 0.0), (1464, 0.007723208868807657), (1465, 0.033425710363017745), (1466, 0.03032732062178179), (1467, 0.007417256850375864), (1468, 0.0029323534160469247), (1469, 0.012117253297919484), (1470, 0.0), (1471, 0.0), (1472, 0.0), (1473, 0.003350828801187746), (1474, 0.0), (1475, 0.0), (1476, 0.0033516570955488077), (1477, 0.04950870036565695), (1478, 0.009028609815356846), (1479, 0.0036283985015450365), (1480, 0.007804417820212497), (1481, 0.0), (1482, 0.02536509357819918), (1483, 0.0), (1484, 0.0), (1485, 0.002984699776253766), (1486, 0.026516031152017373), (1487, 0.026809762178013268), (1488, 0.006633046608039041), (1489, 0.026621766026295048), (1490, 0.003160850365304232), (1491, 0.0036051462053692906), (1492, 0.0028628895488131403), (1493, 0.017184866335878103), (1494, 0.003408083065724509), (1495, 0.003365703948096403), (1496, 0.0031086985849803146), (1497, 0.0), (1498, 0.009334858862570076), (1499, 0.0), (1500, 0.009315750303828224), (1501, 0.003304017791096918), (1502, 0.0), (1503, 0.008548432202563114), (1504, 0.0), (1505, 0.0033177816716726686), (1506, 0.008722199056061192), (1507, 0.003788396191440805), (1508, 0.015801134543675002), (1509, 0.025727103273608852), (1510, 0.00847661756552482), (1511, 0.009117666783799714), (1512, 0.0), (1513, 0.02508140016792453), (1514, 0.023794569186644035), (1515, 0.008451255580175902), (1516, 0.003406995507975611), (1517, 0.012680617385723486), (1518, 0.0035629420489017875), (1519, 0.03813759734584533), (1520, 0.0035512955648799743), (1521, 0.002857183953463083), (1522, 0.0), (1523, 0.0028262887560383775), (1524, 0.06888802388681282), (1525, 0.05497459915838119), (1526, 0.0031613453137191174), (1527, 0.0), (1528, 0.0030047839279512337), (1529, 0.0), (1530, 0.0), (1531, 0.008871741864478928), (1532, 0.04795911612101844), (1533, 0.0033557854485686696), (1534, 0.008738488847947113), (1535, 0.007060497362839257), (1536, 0.008731387373143417), (1537, 0.00354186718482231), (1538, 0.008558072649270708), (1539, 0.020689782252842896), (1540, 0.0), (1541, 0.0), (1542, 0.0034251501402163087), (1543, 0.0030478979921859514), (1544, 0.0031756907653649035), (1545, 0.0031723551061418115), (1546, 0.0), (1547, 0.0), (1548, 0.0), (1549, 0.012563616919884222), (1550, 0.009297036391100447), (1551, 0.008252456550423948), (1552, 0.0031629757824703), (1553, 0.0), (1554, 0.0), (1555, 0.007816568720676672), (1556, 0.007864374175601884), (1557, 0.0033993803183631865), (1558, 0.0), (1559, 0.007266871629880151), (1560, 0.013189826525542351), (1561, 0.012242290739917621), (1562, 0.007777330725634406), (1563, 0.02520838131083595), (1564, 0.003388156677435273), (1565, 0.014354101255364569), (1566, 0.009435978433141904), (1567, 0.002996738433398575), (1568, 0.05529533813819266), (1569, 0.0029703306184925625), (1570, 0.0), (1571, 0.019587605281964012), (1572, 0.003520077786773687), (1573, 0.008271909209971928), (1574, 0.0), (1575, 0.0), (1576, 0.02814563318872904), (1577, 0.0033370851033444676), (1578, 0.0034842831126076224), (1579, 0.0), (1580, 0.0), (1581, 0.0), (1582, 0.0031760151777314952), (1583, 0.003624367253995322), (1584, 0.0), (1585, 0.006770600330054383), (1586, 0.010175483978088753), (1587, 0.003367470625727269), (1588, 0.03079176567343507), (1589, 0.0032405951391376734), (1590, 0.025092780506801325), (1591, 0.0), (1592, 0.006416935941739243), (1593, 0.0), (1594, 0.0037039446633554086), (1595, 0.007598622257562734), (1596, 0.0035141153319192655), (1597, 0.003186760476617031), (1598, 0.0032656777889932516), (1599, 0.012895549526866754), (1600, 0.022738973633202278), (1601, 0.0029364565701237295), (1602, 0.003432375514233177), (1603, 0.02211455433291633), (1604, 0.0), (1605, 0.023227847581950005), (1606, 0.0), (1607, 0.022494664943266292), (1608, 0.0), (1609, 0.0035302797046606266), (1610, 0.0030629254587232323), (1611, 0.024332368501690096), (1612, 0.009388725946612364), (1613, 0.02504416048332173), (1614, 0.012521521473264843), (1615, 0.003917627897971189), (1616, 0.021426024452822493), (1617, 0.0), (1618, 0.0032032934357424368), (1619, 0.0), (1620, 0.0), (1621, 0.0), (1622, 0.008253809657213538), (1623, 0.007775214683885456), (1624, 0.007672344556958168), (1625, 0.016956283227291726), (1626, 0.01802667893684165), (1627, 0.007177432514246237), (1628, 0.0), (1629, 0.0), (1630, 0.00796705833990773), (1631, 0.007966260253739641), (1632, 0.008050497570697661), (1633, 0.008023050784377607), (1634, 0.014879655333486962), (1635, 0.01748117130373961), (1636, 0.008651204899750542), (1637, 0.0035485843429892867), (1638, 0.023600028659009616), (1639, 0.020640299722332462), (1640, 0.0035730788202315614), (1641, 0.0), (1642, 0.0030617903147763833), (1643, 0.008815169680219916), (1644, 0.0033044658606036846), (1645, 0.04490240075423459), (1646, 0.010247982902406885), (1647, 0.007937081728022601), (1648, 0.007041024748203119), (1649, 0.007825266087496245), (1650, 0.008742787723028767), (1651, 0.015051291546049566), (1652, 0.002934389248571289), (1653, 0.0), (1654, 0.003157800225242534), (1655, 0.0), (1656, 0.003792826657721042), (1657, 0.0), (1658, 0.0036626297993772694), (1659, 0.0), (1660, 0.01330761571989787), (1661, 0.009041922928374321), (1662, 0.00782572359300043), (1663, 0.0031165705094273514), (1664, 0.0), (1665, 0.0), (1666, 0.009297738800401321), (1667, 0.00773831774195225), (1668, 0.0031852200915956103), (1669, 0.047764493425526806), (1670, 0.0), (1671, 0.0), (1672, 0.0), (1673, 0.003079801124548875), (1674, 0.010285057296197374), (1675, 0.01511027593480191), (1676, 0.0026414471475281797), (1677, 0.01565195514495515), (1678, 0.0), (1679, 0.0035844632291473777), (1680, 0.008562846733798691), (1681, 0.0), (1682, 0.015565053454246441), (1683, 0.04125649402441581), (1684, 0.04950515151887698), (1685, 0.03365912918944619), (1686, 0.0), (1687, 0.0), (1688, 0.003373413043610517), (1689, 0.0034708770699093494), (1690, 0.005961156830829339), (1691, 0.030073939254050202), (1692, 0.0), (1693, 0.0228919277837044), (1694, 0.0029372331123549587), (1695, 0.01973418790445362), (1696, 0.00924548457732834), (1697, 0.003405244949864658), (1698, 0.011001497455069708), (1699, 0.007264635005093389), (1700, 0.0031528242461216676), (1701, 0.0), (1702, 0.0034384176055543), (1703, 0.0), (1704, 0.0), (1705, 0.0), (1706, 0.016737592722204608), (1707, 0.008055475356354948), (1708, 0.02189311964714499), (1709, 0.003101320076144498), (1710, 0.028604862789198084), (1711, 0.0), (1712, 0.0), (1713, 0.0), (1714, 0.003024615249774954), (1715, 0.014370018055264406), (1716, 0.0), (1717, 0.0), (1718, 0.003467614333021391), (1719, 0.011494727713868329), (1720, 0.0), (1721, 0.039421054186930066), (1722, 0.0033407032755235384), (1723, 0.04432456231467999), (1724, 0.009040787643426959), (1725, 0.0), (1726, 0.0033947642738384578), (1727, 0.0034396288619950306), (1728, 0.0), (1729, 0.003013102680663987), (1730, 0.0), (1731, 0.00354677957006369), (1732, 0.0835657696406053), (1733, 0.003627312996251509), (1734, 0.0034663815820801065), (1735, 0.003411640929884443), (1736, 0.0), (1737, 0.003528879166482301), (1738, 0.012091203648288886), (1739, 0.0), (1740, 0.0), (1741, 0.012839664562043237), (1742, 0.0), (1743, 0.008025363957054932), (1744, 0.012150476867386356), (1745, 0.007186788516049997), (1746, 0.0030875044206857888), (1747, 0.0), (1748, 0.058970524545541116), (1749, 0.01555673789909068), (1750, 0.002956516224964566), (1751, 0.00334708554027421), (1752, 0.01990674609826115), (1753, 0.015321765021468606), (1754, 0.0), (1755, 0.0), (1756, 0.01680903407386058), (1757, 0.003258929703518469), (1758, 0.04657621509469959), (1759, 0.029843488730798083), (1760, 0.0), (1761, 0.0), (1762, 0.0), (1763, 0.0), (1764, 0.0), (1765, 0.05551530968372977), (1766, 0.02614416645231992), (1767, 0.0031779425081252355), (1768, 0.0), (1769, 0.0033430667132564604), (1770, 0.0), (1771, 0.0032252911373166554), (1772, 0.0), (1773, 0.05348977172999144), (1774, 0.0), (1775, 0.0), (1776, 0.008303426172119169), (1777, 0.0033987019520198727), (1778, 0.003081381807759697), (1779, 0.0), (1780, 0.01845149802707308), (1781, 0.002814833834757554), (1782, 0.0), (1783, 0.0031127390207020046), (1784, 0.0030040060412911463), (1785, 0.0031303734799183686), (1786, 0.003638468813685908), (1787, 0.0031333132579554127), (1788, 0.003110850372692027), (1789, 0.0), (1790, 0.003943688000415034), (1791, 0.003521900076987775), (1792, 0.0038877171847665265), (1793, 0.0), (1794, 0.029714608715461832), (1795, 0.007592219601201881), (1796, 0.0), (1797, 0.002900288443464082), (1798, 0.0), (1799, 0.0), (1800, 0.0), (1801, 0.0), (1802, 0.0), (1803, 0.058318224956714806), (1804, 0.0033182466079372057), (1805, 0.0), (1806, 0.01390495896154777), (1807, 0.045314773697520204), (1808, 0.0), (1809, 0.008520907704823139), (1810, 0.0), (1811, 0.0), (1812, 0.0), (1813, 0.03240649289899386), (1814, 0.0), (1815, 0.0), (1816, 0.005964234229982509), (1817, 0.00753525388051008), (1818, 0.012069521176697256), (1819, 0.007822553103384656), (1820, 0.0), (1821, 0.003471522919294731), (1822, 0.0034922122057097476), (1823, 0.0), (1824, 0.019864822529392857), (1825, 0.0080318971804549), (1826, 0.0), (1827, 0.002991550090737116), (1828, 0.0), (1829, 0.027178522189765044), (1830, 0.017628000383319076), (1831, 0.0), (1832, 0.0), (1833, 0.0028327764169166093), (1834, 0.0032796480598943916), (1835, 0.00881000719673443), (1836, 0.0036731257438971736), (1837, 0.012611605144888793), (1838, 0.0072360148884497025), (1839, 0.0031592367518962126), (1840, 0.007639630590321467), (1841, 0.0), (1842, 0.0231807293659373), (1843, 0.0), (1844, 0.0036320406719674825), (1845, 0.03514101251601901), (1846, 0.0), (1847, 0.0034156122838635227), (1848, 0.0035612520463527454), (1849, 0.003256770259371021), (1850, 0.017159771489306162), (1851, 0.0034441220481720445), (1852, 0.008280089639024593), (1853, 0.0), (1854, 0.0), (1855, 0.0030943006935176026), (1856, 0.0035181735312807463), (1857, 0.0478512573228491), (1858, 0.0), (1859, 0.008853778273346652), (1860, 0.0), (1861, 0.019308478235655697), (1862, 0.0), (1863, 0.007251615263837774), (1864, 0.008075957802285469), (1865, 0.008553383826924667), (1866, 0.0), (1867, 0.0032671577829083095), (1868, 0.021730576545999202), (1869, 0.01880434381561705), (1870, 0.017781499562095175), (1871, 0.03629820496945189), (1872, 0.0), (1873, 0.00840485506440143), (1874, 0.0), (1875, 0.0), (1876, 0.0), (1877, 0.003156828506472787), (1878, 0.027553347408171325), (1879, 0.003346841814277646), (1880, 0.0032254307987059547), (1881, 0.0034601798851484388), (1882, 0.008226820306091133), (1883, 0.002727431571219624), (1884, 0.0), (1885, 0.0), (1886, 0.02043554561582773), (1887, 0.0), (1888, 0.006499506613438709), (1889, 0.06022777246900804), (1890, 0.0), (1891, 0.008323690469633913), (1892, 0.0), (1893, 0.0069785112954783785), (1894, 0.0), (1895, 0.003116392470097714), (1896, 0.0), (1897, 0.0), (1898, 0.0030933619350785773), (1899, 0.010911696289087058), (1900, 0.04766303053665049), (1901, 0.0), (1902, 0.003477267312601824), (1903, 0.0030946598503740026), (1904, 0.008879721662064056), (1905, 0.003606707397705631), (1906, 0.0033194286321253205), (1907, 0.012598992572800213), (1908, 0.0), (1909, 0.09569195799717886), (1910, 0.007965119281938418), (1911, 0.0034354754849855976), (1912, 0.0031673099983707455), (1913, 0.012569042591242667), (1914, 0.011000397092811628), (1915, 0.02759740489284962), (1916, 0.00884823678220098), (1917, 0.003395885589995579), (1918, 0.0), (1919, 0.022081896436788186), (1920, 0.0), (1921, 0.022314541174156474), (1922, 0.0), (1923, 0.0036740748348633345), (1924, 0.0), (1925, 0.007329861820463627), (1926, 0.09200346459321043), (1927, 0.008271820350615808), (1928, 0.027220315880623104), (1929, 0.0031537869288096), (1930, 0.016976123335722796), (1931, 0.0), (1932, 0.021566207041664853), (1933, 0.017375045193165725), (1934, 0.0), (1935, 0.033691995110377806), (1936, 0.0), (1937, 0.02040061859310279), (1938, 0.0027582166305745574), (1939, 0.004390367378088501), (1940, 0.009813535171094661), (1941, 0.003959521900568958), (1942, 0.0), (1943, 0.002879480065734717), (1944, 0.0027476300897344465), (1945, 0.0), (1946, 0.0), (1947, 0.0038403856886183485), (1948, 0.00646052353667669), (1949, 0.003429684571646226), (1950, 0.016964548019635223), (1951, 0.007019856005100945), (1952, 0.0), (1953, 0.008158379166367963), (1954, 0.002930497613276117), (1955, 0.003474939607387561), (1956, 0.0033462020733428157), (1957, 0.002779271893302943), (1958, 0.0), (1959, 0.0), (1960, 0.0), (1961, 0.003408058179227687), (1962, 0.00935392117101382), (1963, 0.0026765886094231865), (1964, 0.0), (1965, 0.0034554833339682247), (1966, 0.033437270265428184), (1967, 0.0), (1968, 0.009860631192623733), (1969, 0.020043246482399454), (1970, 0.008554959167255422), (1971, 0.017861482566570858), (1972, 0.0), (1973, 0.003112077726027928), (1974, 0.0030232981603320196), (1975, 0.01768811696680425), (1976, 0.0), (1977, 0.008394598839512235), (1978, 0.017731816904505125), (1979, 0.0), (1980, 0.002967225708777242), (1981, 0.0027627176169584752), (1982, 0.032823586971646106), (1983, 0.0), (1984, 0.003040600967247768), (1985, 0.008484468234785476), (1986, 0.0032717297212606147), (1987, 0.0030367068409775733), (1988, 0.0), (1989, 0.0), (1990, 0.007649730594722439), (1991, 0.0), (1992, 0.01093497643207312), (1993, 0.0281368640938083), (1994, 0.002943505830728787), (1995, 0.0), (1996, 0.00806785043306972), (1997, 0.0), (1998, 0.008497858558894669), (1999, 0.0037369506305953), (2000, 0.0075133880188960655), (2001, 0.002848679047882027), (2002, 0.003462486862765928), (2003, 0.0031960439473381974), (2004, 0.0), (2005, 0.002974701130792712), (2006, 0.0028213016375489967), (2007, 0.003019630683602066), (2008, 0.0), (2009, 0.003918196760840806), (2010, 0.0), (2011, 0.0), (2012, 0.014647380424624476), (2013, 0.0), (2014, 0.0032903312522934436), (2015, 0.0), (2016, 0.0), (2017, 0.008569094851431569), (2018, 0.0026983654267545712), (2019, 0.012649254087266923), (2020, 0.014148200471902486), (2021, 0.0035809174486582645), (2022, 0.0), (2023, 0.0), (2024, 0.0), (2025, 0.0027289857975686463), (2026, 0.003305575815426206), (2027, 0.00909472150646352), (2028, 0.0), (2029, 0.0), (2030, 0.05140151006435151), (2031, 0.007576888299148149), (2032, 0.037012513983038155), (2033, 0.0030091743321740486), (2034, 0.0), (2035, 0.0), (2036, 0.003011484102264396), (2037, 0.0), (2038, 0.0), (2039, 0.0), (2040, 0.0), (2041, 0.0033550464123985875), (2042, 0.0034520813740850213), (2043, 0.026278269897244265), (2044, 0.0), (2045, 0.0), (2046, 0.012720736263353996), (2047, 0.0), (2048, 0.0), (2049, 0.0036471151931127517), (2050, 0.0031544607600051604), (2051, 0.0), (2052, 0.003085223842026921), (2053, 0.0), (2054, 0.0), (2055, 0.008545211485461522), (2056, 0.011279143433508228), (2057, 0.008142886767103924), (2058, 0.0029853832120367934), (2059, 0.010208133527453627), (2060, 0.003274613451407917), (2061, 0.0), (2062, 0.044301258254573955), (2063, 0.002999190091806914), (2064, 0.0024366944036870253), (2065, 0.0), (2066, 0.0), (2067, 0.009485094277242836), (2068, 0.01210276296491746), (2069, 0.0), (2070, 0.0), (2071, 0.0030776493021774697), (2072, 0.0), (2073, 0.008557476810681678), (2074, 0.022055409216011113), (2075, 0.0), (2076, 0.0027901377835903153), (2077, 0.004034554847904334), (2078, 0.013191379015044635), (2079, 0.0037765154845043787), (2080, 0.0), (2081, 0.044812324466338496), (2082, 0.0035889254448729143), (2083, 0.0), (2084, 0.0), (2085, 0.0), (2086, 0.003523423320923432), (2087, 0.0032356579491165088), (2088, 0.009878205021666567), (2089, 0.0), (2090, 0.003452675295356611), (2091, 0.0), (2092, 0.020437239929039463), (2093, 0.003059606393596826), (2094, 0.04329519902138995), (2095, 0.0), (2096, 0.0), (2097, 0.0), (2098, 0.0028297953190845725), (2099, 0.003092109652029545), (2100, 0.0), (2101, 0.03231476971953311), (2102, 0.0), (2103, 0.009180694500779935), (2104, 0.0), (2105, 0.0), (2106, 0.006839811050726283), (2107, 0.003151167829956634), (2108, 0.0036718564218644863), (2109, 0.021242224876699287), (2110, 0.007703937848799178), (2111, 0.015716562497521097), (2112, 0.0), (2113, 0.002588782220645916), (2114, 0.017740995004286796), (2115, 0.0093815316809617), (2116, 0.0035704891662836995), (2117, 0.0), (2118, 0.0058638454971493455), (2119, 0.0), (2120, 0.0), (2121, 0.03946748236887729), (2122, 0.012857932490174563), (2123, 0.0), (2124, 0.0136497048652049), (2125, 0.003025641274899081), (2126, 0.0), (2127, 0.0), (2128, 0.0032531551306596647), (2129, 0.0), (2130, 0.0), (2131, 0.0031779939613962777), (2132, 0.0), (2133, 0.0), (2134, 0.0), (2135, 0.0), (2136, 0.0), (2137, 0.0046888017972643616), (2138, 0.0037494937326731544), (2139, 0.02344749545904675), (2140, 0.00314559690333148), (2141, 0.0), (2142, 0.0), (2143, 0.012177395421421619), (2144, 0.009510345590012117), (2145, 0.005876182409989416), (2146, 0.002827173301438109), (2147, 0.0035114416316748523), (2148, 0.006857870675580248), (2149, 0.0), (2150, 0.025572367744520923), (2151, 0.007054333814102961), (2152, 0.007140190082546177), (2153, 0.003326287673161566), (2154, 0.0), (2155, 0.0), (2156, 0.0029457882916039944), (2157, 0.02953247200769759), (2158, 0.0038572112886181465), (2159, 0.0), (2160, 0.003112980253503964), (2161, 0.030104742292048823), (2162, 0.049611245076988456), (2163, 0.0), (2164, 0.003702857913720024), (2165, 0.0), (2166, 0.0031156107219602555), (2167, 0.003178940493677647), (2168, 0.0028309258792500263), (2169, 0.0), (2170, 0.020728021313450456), (2171, 0.0), (2172, 0.009655386950487895), (2173, 0.0), (2174, 0.009345586412737429), (2175, 0.0), (2176, 0.0), (2177, 0.0), (2178, 0.008167138868897278), (2179, 0.0031077990794340345), (2180, 0.009598050781247125), (2181, 0.0), (2182, 0.0), (2183, 0.011810875219269297), (2184, 0.0), (2185, 0.03028843658897217), (2186, 0.0499584830670513), (2187, 0.0037967962827521635), (2188, 0.0), (2189, 0.0), (2190, 0.0), (2191, 0.014875158468450531), (2192, 0.003331541717344162), (2193, 0.01285247410414638), (2194, 0.012139591642073523), (2195, 0.04607637623745854), (2196, 0.0), (2197, 0.017823212968305344), (2198, 0.016618127663364426), (2199, 0.004306355130591546), (2200, 0.0033806495541719578), (2201, 0.09159188547067136), (2202, 0.025436370743323233), (2203, 0.0030271448415678122), (2204, 0.0028043871002738892), (2205, 0.0), (2206, 0.0), (2207, 0.0030286934626128858), (2208, 0.003506295641752812), (2209, 0.003683003679355135), (2210, 0.00958613457557713), (2211, 0.0027719934634213347), (2212, 0.0), (2213, 0.0), (2214, 0.0), (2215, 0.003105180444055886), (2216, 0.0), (2217, 0.0034632905814200167), (2218, 0.0036778311895008346), (2219, 0.0024414355436603494), (2220, 0.0), (2221, 0.015676416900497595), (2222, 0.02920737759637774), (2223, 0.0037614553968692626), (2224, 0.0), (2225, 0.018222195020189725), (2226, 0.0), (2227, 0.0027489485293139553), (2228, 0.004281679182851276), (2229, 0.009176018925484043), (2230, 0.0), (2231, 0.0), (2232, 0.04132318564094755), (2233, 0.0), (2234, 0.0067954824237395585), (2235, 0.0), (2236, 0.01155757825128489), (2237, 0.0), (2238, 0.0), (2239, 0.0), (2240, 0.0029031155409770283), (2241, 0.00344011544344185), (2242, 0.0031444395438159963), (2243, 0.0), (2244, 0.0), (2245, 0.008109949768856642), (2246, 0.008380767179860697), (2247, 0.0), (2248, 0.0), (2249, 0.003459658765822394), (2250, 0.0), (2251, 0.0), (2252, 0.0), (2253, 0.0), (2254, 0.0), (2255, 0.056306209155686834), (2256, 0.0), (2257, 0.0), (2258, 0.003587300338213651), (2259, 0.0), (2260, 0.003538929815924639), (2261, 0.0038346383249816913), (2262, 0.011474541118406994), (2263, 0.022290738717424454), (2264, 0.0029390445186554806), (2265, 0.0030032564656777686), (2266, 0.0), (2267, 0.0), (2268, 0.0), (2269, 0.0), (2270, 0.011004661690538339), (2271, 0.0031308054645856932), (2272, 0.003072824998419234), (2273, 0.009910409920466583), (2274, 0.0030439476651421397), (2275, 0.0), (2276, 0.009684736269841215), (2277, 0.0), (2278, 0.008518288280389934), (2279, 0.009186535892887895), (2280, 0.0032771098877764303), (2281, 0.004388957979007555), (2282, 0.004250403170672345), (2283, 0.0), (2284, 0.011767902887117574), (2285, 0.0), (2286, 0.0), (2287, 0.1214025824681236), (2288, 0.0), (2289, 0.0), (2290, 0.0033758946407095856), (2291, 0.00807765361439727), (2292, 0.0033693837877239057), (2293, 0.0), (2294, 0.0), (2295, 0.008530041000769914), (2296, 0.0027790010808394095), (2297, 0.003242676643044493), (2298, 0.003264525992368588), (2299, 0.04794805390000345), (2300, 0.0), (2301, 0.0), (2302, 0.0037575400272802473), (2303, 0.003120082249331674), (2304, 0.007392594489238394), (2305, 0.0037836462584016893), (2306, 0.0), (2307, 0.003393330698769739), (2308, 0.004140115808008028), (2309, 0.012166707319903056), (2310, 0.0), (2311, 0.0031119734084866656), (2312, 0.004762825372504435), (2313, 0.0), (2314, 0.009236771773180068), (2315, 0.0030492456245299064), (2316, 0.04948382523544973), (2317, 0.0), (2318, 0.0), (2319, 0.04799269955208652), (2320, 0.003845864149918087), (2321, 0.0), (2322, 0.012406745622008572), (2323, 0.0), (2324, 0.0), (2325, 0.024995334934339867), (2326, 0.0), (2327, 0.003084386833098776), (2328, 0.0), (2329, 0.01249277899855886), (2330, 0.0), (2331, 0.002714336990968845), (2332, 0.0), (2333, 0.003938143779071945), (2334, 0.0), (2335, 0.006674871740679073), (2336, 0.0032896371141867362), (2337, 0.0), (2338, 0.019039130055469398), (2339, 0.0037573738359154107), (2340, 0.012768165839259887), (2341, 0.0), (2342, 0.01977213150585999), (2343, 0.0), (2344, 0.0), (2345, 0.0), (2346, 0.01885873057855593), (2347, 0.0), (2348, 0.0031160592165063385), (2349, 0.0), (2350, 0.0), (2351, 0.003948736986729562), (2352, 0.0), (2353, 0.003406075780012308), (2354, 0.03528113207025518), (2355, 0.0), (2356, 0.0), (2357, 0.01328786980686706), (2358, 0.0), (2359, 0.0), (2360, 0.002923710095804712), (2361, 0.0), (2362, 0.0), (2363, 0.004088259648102506), (2364, 0.0026598623824570515), (2365, 0.0), (2366, 0.00293382662329153), (2367, 0.0031667044530154865), (2368, 0.003942951612606596), (2369, 0.008063055369986676), (2370, 0.0), (2371, 0.0035836735035378324), (2372, 0.010484076560919944), (2373, 0.009761345240652296), (2374, 0.0), (2375, 0.003634386706388715), (2376, 0.0), (2377, 0.05246575742953459), (2378, 0.0), (2379, 0.0047743629319053635), (2380, 0.0034603519160094887), (2381, 0.0036884268059549207), (2382, 0.0), (2383, 0.0), (2384, 0.003684471375805472), (2385, 0.003484371847118017), (2386, 0.0), (2387, 0.003301011598666372), (2388, 0.0), (2389, 0.0029509130614622904), (2390, 0.0), (2391, 0.003533340891368013), (2392, 0.0), (2393, 0.0), (2394, 0.0034858668167162808), (2395, 0.004576110275726055), (2396, 0.0033382727367700315), (2397, 0.05034953303354255), (2398, 0.012522788920175673), (2399, 0.011756888843660888), (2400, 0.009496937179586096), (2401, 0.0), (2402, 0.002995984481940576), (2403, 0.003812891697788613), (2404, 0.004499627281360614), (2405, 0.0), (2406, 0.0), (2407, 0.04872084815929573), (2408, 0.0), (2409, 0.04416738233784822), (2410, 0.003629200710143075), (2411, 0.014422143660722385), (2412, 0.0), (2413, 0.0), (2414, 0.0), (2415, 0.0), (2416, 0.00929241070074569), (2417, 0.0), (2418, 0.0), (2419, 0.0), (2420, 0.08425267521583156), (2421, 0.0), (2422, 0.0032112811118665333), (2423, 0.004169157898302727), (2424, 0.0029985667810653355), (2425, 0.09704589888903953), (2426, 0.002981819967647108), (2427, 0.02447782599844953), (2428, 0.0), (2429, 0.0), (2430, 0.0), (2431, 0.024383767318698114), (2432, 0.008093402152340301), (2433, 0.0028970243046879335), (2434, 0.003954898728583068), (2435, 0.003266757761610344), (2436, 0.05533165191714545), (2437, 0.0), (2438, 0.0), (2439, 0.009609760154043016), (2440, 0.003359701974623676), (2441, 0.002678902795992349), (2442, 0.0), (2443, 0.011706424927019532), (2444, 0.003374493439672861), (2445, 0.0030448561977490245), (2446, 0.0030726467156096528), (2447, 0.0), (2448, 0.0), (2449, 0.003329630462276713), (2450, 0.003075355489190075), (2451, 0.0), (2452, 0.0036293391122516087), (2453, 0.0), (2454, 0.0), (2455, 0.00419898359383183), (2456, 0.0034144484469294835), (2457, 0.018956086025866008), (2458, 0.003605188307916933), (2459, 0.0), (2460, 0.0028830573135653404), (2461, 0.0032075865834733), (2462, 0.0), (2463, 0.020415148419618674), (2464, 0.003628218590143995), (2465, 0.0031883910362892594), (2466, 0.0), (2467, 0.0031917624492630798), (2468, 0.003865331211399546), (2469, 0.0), (2470, 0.0), (2471, 0.0), (2472, 0.00331870319857689), (2473, 0.0), (2474, 0.007233634809928668), (2475, 0.0), (2476, 0.0), (2477, 0.0), (2478, 0.003797722319015609), (2479, 0.026886455363783535), (2480, 0.008324377758295627), (2481, 0.0), (2482, 0.04642677978829734), (2483, 0.004362843610117169), (2484, 0.0), (2485, 0.010551783711628892), (2486, 0.003777095607890681), (2487, 0.0033527136494574446), (2488, 0.004042991097829041), (2489, 0.035919113055427644), (2490, 0.0047681634202256665), (2491, 0.0030501139412995354), (2492, 0.0033289106508495258), (2493, 0.01291805344841655), (2494, 0.00356670817994016), (2495, 0.0033079131771084364), (2496, 0.007852237985939457), (2497, 0.010810188852263248), (2498, 0.008270726701042374), (2499, 0.02870731109237587), (2500, 0.0046156679968782964), (2501, 0.0), (2502, 0.008318596276313308), (2503, 0.016652420391957502), (2504, 0.003229979690598622), (2505, 0.0), (2506, 0.0), (2507, 0.0035937000336507654), (2508, 0.010542523194384985), (2509, 0.002718606567019532), (2510, 0.003792258930514102), (2511, 0.00342904706259569), (2512, 0.0032844670408226644), (2513, 0.024127706864240595), (2514, 0.0029721522908839762), (2515, 0.004107187690628609), (2516, 0.0035052510364049923), (2517, 0.0), (2518, 0.003734642537444329), (2519, 0.0034123988814135967), (2520, 0.008173316364522005), (2521, 0.0), (2522, 0.0), (2523, 0.00571783227913308), (2524, 0.0), (2525, 0.0), (2526, 0.0), (2527, 0.02147498355302668), (2528, 0.0), (2529, 0.0048022253695454604), (2530, 0.021081339353398464), (2531, 0.0034477450662274687), (2532, 0.02301189175321868), (2533, 0.021194725342029146), (2534, 0.008411835578180076), (2535, 0.003666642898133234), (2536, 0.0043215076421960225), (2537, 0.004538212556059374), (2538, 0.0), (2539, 0.002871834843512694), (2540, 0.0), (2541, 0.015126302254052334), (2542, 0.0029943159904613405), (2543, 0.004151027864342542), (2544, 0.0), (2545, 0.0), (2546, 0.003443895028330502), (2547, 0.0), (2548, 0.0030568000276162076), (2549, 0.0), (2550, 0.014100741865920731), (2551, 0.06540110455743908), (2552, 0.008814962411312514), (2553, 0.0032251986899951416), (2554, 0.0033373437474331948), (2555, 0.010721638712425261), (2556, 0.00874257838891002), (2557, 0.0), (2558, 0.0), (2559, 0.0), (2560, 0.0), (2561, 0.003451375306855178), (2562, 0.0), (2563, 0.013717835613867968), (2564, 0.014541208375536473), (2565, 0.0), (2566, 0.006994965162938354), (2567, 0.0), (2568, 0.0), (2569, 0.012585296285619664), (2570, 0.0038936551855409908), (2571, 0.0), (2572, 0.0), (2573, 0.020478868045458093), (2574, 0.0), (2575, 0.0036158163813859697), (2576, 0.0), (2577, 0.0), (2578, 0.0), (2579, 0.0), (2580, 0.0), (2581, 0.015915931376890048), (2582, 0.00337496128162117), (2583, 0.0), (2584, 0.006100727003955804), (2585, 0.0), (2586, 0.0033518744055912324), (2587, 0.03293943122273033), (2588, 0.0035434895865405014), (2589, 0.0), (2590, 0.0030796130128083214), (2591, 0.05661450666843242), (2592, 0.02202474897763215), (2593, 0.0), (2594, 0.003098636891826784), (2595, 0.0), (2596, 0.007629808900118613), (2597, 0.005462863931420677), (2598, 0.0), (2599, 0.009075094791652192), (2600, 0.004173731912666329), (2601, 0.003450119891262277), (2602, 0.0), (2603, 0.0027784904825734606), (2604, 0.0036002200444035584), (2605, 0.0034534109122597305), (2606, 0.0), (2607, 0.0), (2608, 0.020503536277722827), (2609, 0.0), (2610, 0.006992351419685363), (2611, 0.0), (2612, 0.0), (2613, 0.0), (2614, 0.0), (2615, 0.0030730954424640355), (2616, 0.003234606891825238), (2617, 0.0074028702475201266), (2618, 0.007996848257461872), (2619, 0.007967809950284599), (2620, 0.003156787233596564), (2621, 0.0), (2622, 0.0), (2623, 0.023075873401789983), (2624, 0.0), (2625, 0.0), (2626, 0.003630766998765616), (2627, 0.0), (2628, 0.0), (2629, 0.02834357838499062), (2630, 0.008942840103565856), (2631, 0.0031416411143475086), (2632, 0.0), (2633, 0.0034730755640254344), (2634, 0.0), (2635, 0.0038763053746450663), (2636, 0.007078503085761751), (2637, 0.02135987267509976), (2638, 0.0), (2639, 0.0032458281905095084), (2640, 0.009865043646026627), (2641, 0.0), (2642, 0.003187313611187561), (2643, 0.0), (2644, 0.011137287803191868), (2645, 0.0), (2646, 0.023561209951309427), (2647, 0.0), (2648, 0.013133272078373243), (2649, 0.0), (2650, 0.0), (2651, 0.0), (2652, 0.04201086478054057), (2653, 0.003192373931091508), (2654, 0.008592624494299074), (2655, 0.0), (2656, 0.004176920497991128), (2657, 0.004845832521700621), (2658, 0.0), (2659, 0.004765289876690122), (2660, 0.011639303684653896), (2661, 0.057621497045135306), (2662, 0.007292288535672706), (2663, 0.01568608521408872), (2664, 0.0), (2665, 0.059784723977725746), (2666, 0.0030411361835019825), (2667, 0.004507896523053216), (2668, 0.0), (2669, 0.0048923958244544005), (2670, 0.0), (2671, 0.002429820718378908), (2672, 0.0037079709744527864), (2673, 0.0), (2674, 0.0), (2675, 0.0034679686441784845), (2676, 0.0037934828015287877), (2677, 0.0032232632401307964), (2678, 0.005387770392143151), (2679, 0.008921799981110942), (2680, 0.008048570238627787), (2681, 0.003180497623485695), (2682, 0.007833886664512615), (2683, 0.009405052055099795), (2684, 0.00479083200976432), (2685, 0.01187873700215055), (2686, 0.015403126373822153), (2687, 0.0032547513795942048), (2688, 0.0028382114328452867), (2689, 0.0), (2690, 0.028041261363351774), (2691, 0.0), (2692, 0.0), (2693, 0.0031980092349222014), (2694, 0.0), (2695, 0.0), (2696, 0.0038456602015946935), (2697, 0.0), (2698, 0.0), (2699, 0.0030863431650782224), (2700, 0.0), (2701, 0.005354172178388755), (2702, 0.014557045653034579), (2703, 0.005121174966212906), (2704, 0.0), (2705, 0.0), (2706, 0.0031451003274011566), (2707, 0.023923507258014808), (2708, 0.0), (2709, 0.003309644162757677), (2710, 0.0), (2711, 0.0), (2712, 0.0035346520881401767), (2713, 0.019968822723574618), (2714, 0.0), (2715, 0.004355145168897856), (2716, 0.0), (2717, 0.0), (2718, 0.01645580674689755), (2719, 0.010005700944010073), (2720, 0.003877294409329582), (2721, 0.0028745486918654983), (2722, 0.004644154364521319), (2723, 0.0), (2724, 0.0), (2725, 0.0), (2726, 0.00683197934422865), (2727, 0.0039790012308421755), (2728, 0.0030112176115087127), (2729, 0.017117573323072847), (2730, 0.004064687422564057), (2731, 0.004440634324870053), (2732, 0.00674778256151551), (2733, 0.009327159744877328), (2734, 0.03055819690648432), (2735, 0.0), (2736, 0.007995037232217592), (2737, 0.005531245991348823), (2738, 0.003904031188046084), (2739, 0.0), (2740, 0.0), (2741, 0.0029786708553145675), (2742, 0.0), (2743, 0.0), (2744, 0.013200143176208328), (2745, 0.0), (2746, 0.039200662213804686), (2747, 0.013902686866743664), (2748, 0.003597396142309522), (2749, 0.0), (2750, 0.0), (2751, 0.008940928535166806), (2752, 0.0), (2753, 0.0), (2754, 0.003468321606812149), (2755, 0.003498138394374653), (2756, 0.0039825102254042975), (2757, 0.0), (2758, 0.0028096307576903528), (2759, 0.00818172198010933), (2760, 0.0), (2761, 0.018134227139573116), (2762, 0.007978846747685541), (2763, 0.023137500767901848), (2764, 0.004713169866758685), (2765, 0.0), (2766, 0.014962487277298127), (2767, 0.0), (2768, 0.0), (2769, 0.003904766875492907), (2770, 0.0027356692168445116), (2771, 0.0), (2772, 0.0), (2773, 0.00838275772548865), (2774, 0.002643522341176617), (2775, 0.0), (2776, 0.0071260274446488), (2777, 0.0), (2778, 0.02511347093635338), (2779, 0.0198265300045168), (2780, 0.0), (2781, 0.003986824264518495), (2782, 0.003682576769471083), (2783, 0.0), (2784, 0.0), (2785, 0.00961358202143468), (2786, 0.0035427184752172152), (2787, 0.0031457163778936858), (2788, 0.0), (2789, 0.0), (2790, 0.021837018756266015), (2791, 0.0), (2792, 0.0), (2793, 0.008421348023766876), (2794, 0.01318589319953638), (2795, 0.0), (2796, 0.02755422652630518), (2797, 0.029470366186393038), (2798, 0.0), (2799, 0.0037026854634483477), (2800, 0.0), (2801, 0.007202767048546187), (2802, 0.0), (2803, 0.0), (2804, 0.0033092174638223466), (2805, 0.002892877392697636), (2806, 0.0), (2807, 0.0032454686519239606), (2808, 0.0), (2809, 0.0), (2810, 0.003707649287286047), (2811, 0.0036227920967161586), (2812, 0.003117722758532429), (2813, 0.035912131534203494), (2814, 0.0023667724264931876), (2815, 0.0), (2816, 0.0034229971926896256), (2817, 0.00352756242483717), (2818, 0.004632682603556095), (2819, 0.0), (2820, 0.017401255280455732), (2821, 0.0), (2822, 0.0028550675722576386), (2823, 0.006264288260506859), (2824, 0.008180301173654479), (2825, 0.0032681109134286962), (2826, 0.02584814473588912), (2827, 0.00781076472152793), (2828, 0.008116150359484832), (2829, 0.011214085537574728), (2830, 0.04320392713218605), (2831, 0.0), (2832, 0.004341524788830338), (2833, 0.0441280445559082), (2834, 0.004104261611574109), (2835, 0.04314874642265426), (2836, 0.026202009144114108), (2837, 0.131298182647758), (2838, 0.004227811339062344), (2839, 0.008329886450044248), (2840, 0.0), (2841, 0.005266301195865441), (2842, 0.0), (2843, 0.0036736470538743537), (2844, 0.007787015502054521), (2845, 0.01876140606984783), (2846, 0.0038709430520019513), (2847, 0.04967162715217972), (2848, 0.0), (2849, 0.0), (2850, 0.0), (2851, 0.0255530964375422), (2852, 0.007388757774604046), (2853, 0.009381169009180007), (2854, 0.0), (2855, 0.0028054320585289227), (2856, 0.0033979475847176425), (2857, 0.029244996978536022), (2858, 0.004689063550412779), (2859, 0.01572521184007399), (2860, 0.0), (2861, 0.0), (2862, 0.0), (2863, 0.0217279391222599), (2864, 0.0), (2865, 0.008008503133704138), (2866, 0.0030784117934161085), (2867, 0.012935178307890548), (2868, 0.0), (2869, 0.0), (2870, 0.0), (2871, 0.007465928758204561), (2872, 0.003808058418741134), (2873, 0.0037573860987195873), (2874, 0.0030703828480983016), (2875, 0.004204643878894125), (2876, 0.03738699676198839), (2877, 0.002777382822535813), (2878, 0.021487142885497187), (2879, 0.0), (2880, 0.003565524725850518), (2881, 0.0), (2882, 0.0035949015834372405), (2883, 0.0), (2884, 0.06196284189592592), (2885, 0.0), (2886, 0.0), (2887, 0.0), (2888, 0.0), (2889, 0.0), (2890, 0.0), (2891, 0.004686031075767457), (2892, 0.008949841803560388), (2893, 0.007503149310279395), (2894, 0.0), (2895, 0.02439870407552522), (2896, 0.028715051619169284), (2897, 0.0031598952087654583), (2898, 0.0), (2899, 0.007893091308846552), (2900, 0.0), (2901, 0.0), (2902, 0.022052604453974313), (2903, 0.0), (2904, 0.0), (2905, 0.0), (2906, 0.007392228625149851), (2907, 0.008744246445075725), (2908, 0.032087848905659064), (2909, 0.020255749561392866), (2910, 0.009224924525186516), (2911, 0.009812599237308015), (2912, 0.003203310585566847), (2913, 0.010446878601234286), (2914, 0.04360223350599342), (2915, 0.0), (2916, 0.0), (2917, 0.0), (2918, 0.02030224960239067), (2919, 0.0), (2920, 0.0), (2921, 0.009395316952444225), (2922, 0.03223639491565949), (2923, 0.0), (2924, 0.0038366623735626884), (2925, 0.04731852128960796), (2926, 0.0034597707410900648), (2927, 0.0), (2928, 0.004271881802683311), (2929, 0.007488685306462127), (2930, 0.0036373048049342252), (2931, 0.0), (2932, 0.0), (2933, 0.002809439505341526), (2934, 0.0), (2935, 0.0), (2936, 0.0), (2937, 0.0), (2938, 0.0), (2939, 0.004120283654897313), (2940, 0.0035359429521448806), (2941, 0.004251401860697749), (2942, 0.008158611641510577), (2943, 0.0), (2944, 0.0), (2945, 0.0032383132815492766), (2946, 0.0), (2947, 0.049200156828105454), (2948, 0.004308133212371564), (2949, 0.008971517581608883), (2950, 0.0), (2951, 0.007289179755792488), (2952, 0.009609475151830174), (2953, 0.0), (2954, 0.02198462799284765), (2955, 0.00962806774511039), (2956, 0.0), (2957, 0.0), (2958, 0.0), (2959, 0.0), (2960, 0.0), (2961, 0.0), (2962, 0.0031481000810728607), (2963, 0.0), (2964, 0.0), (2965, 0.00895629986822707), (2966, 0.01020726422588439), (2967, 0.0), (2968, 0.0036109786882258916), (2969, 0.00781981397863137), (2970, 0.003526189410013797), (2971, 0.0028785018033356353), (2972, 0.0031183078896327788), (2973, 0.006489359943687732), (2974, 0.0), (2975, 0.0), (2976, 0.0029635079206122503), (2977, 0.0), (2978, 0.003597167895116884), (2979, 0.012716507975456271), (2980, 0.009246866509937456), (2981, 0.0), (2982, 0.013320436229991225), (2983, 0.004175205729199265), (2984, 0.007708808352792841), (2985, 0.02869102598869476), (2986, 0.00391309220154777), (2987, 0.0), (2988, 0.0), (2989, 0.0), (2990, 0.004453423727597564), (2991, 0.008508359963015313), (2992, 0.0030845962905917588), (2993, 0.0), (2994, 0.003329653337355574), (2995, 0.01571988793349077), (2996, 0.0), (2997, 0.0), (2998, 0.0), (2999, 0.0032894465710642824), (3000, 0.0), (3001, 0.00930484348771752), (3002, 0.008485348291960118), (3003, 0.0036749945975514784), (3004, 0.0), (3005, 0.03447301357778183), (3006, 0.0), (3007, 0.022187841441576504), (3008, 0.0), (3009, 0.04661773036130525), (3010, 0.0), (3011, 0.0), (3012, 0.0), (3013, 0.028166701034924344), (3014, 0.008900680630812676), (3015, 0.0), (3016, 0.006792353652405386), (3017, 0.0039305469166033636), (3018, 0.013301185963933893), (3019, 0.0), (3020, 0.004016129201624558), (3021, 0.05152528114759458), (3022, 0.0), (3023, 0.01686453252188059), (3024, 0.0), (3025, 0.0), (3026, 0.059303384974708134), (3027, 0.0), (3028, 0.0), (3029, 0.0), (3030, 0.0), (3031, 0.0), (3032, 0.0), (3033, 0.0033063308114138668), (3034, 0.0033297325420943683), (3035, 0.0), (3036, 0.008963984341436717), (3037, 0.003491995772554729), (3038, 0.003460628330924661), (3039, 0.027589668037836725), (3040, 0.004619970231982556), (3041, 0.003491908693668942), (3042, 0.004482410528538776), (3043, 0.0), (3044, 0.0036060930561600825), (3045, 0.0), (3046, 0.0), (3047, 0.0), (3048, 0.008894410961656371), (3049, 0.0), (3050, 0.0030309372255018785), (3051, 0.0), (3052, 0.0), (3053, 0.024673217802671576), (3054, 0.03397743533944521), (3055, 0.0), (3056, 0.01745744166746935), (3057, 0.00884481358282178), (3058, 0.0), (3059, 0.0), (3060, 0.003362771249527405), (3061, 0.0303406092471223), (3062, 0.003667679067978454), (3063, 0.05371380996109766), (3064, 0.0), (3065, 0.0), (3066, 0.00323217513507643), (3067, 0.0), (3068, 0.029660930653235204), (3069, 0.0), (3070, 0.0029551407271258675), (3071, 0.0030986447067090556), (3072, 0.0), (3073, 0.0032639889404814048), (3074, 0.004058810209402381), (3075, 0.0), (3076, 0.027180960506236716), (3077, 0.006248302749194997), (3078, 0.004251049007286639), (3079, 0.0), (3080, 0.003687430995440658), (3081, 0.0), (3082, 0.00294232986990823), (3083, 0.0223822784678966), (3084, 0.003508717162441053), (3085, 0.0), (3086, 0.009070511976167699), (3087, 0.004173646950813739), (3088, 0.004919371126810854), (3089, 0.004019445118331426), (3090, 0.012524589627888808), (3091, 0.0), (3092, 0.009070967845382307), (3093, 0.0), (3094, 0.0), (3095, 0.010122306267173456), (3096, 0.0), (3097, 0.021937444114981018), (3098, 0.006010636713743879), (3099, 0.0), (3100, 0.0), (3101, 0.02758543938197082), (3102, 0.0033716881645877734), (3103, 0.0), (3104, 0.03846390569695315), (3105, 0.008017820548610933), (3106, 0.003297730075901441), (3107, 0.0), (3108, 0.04495893073434686), (3109, 0.02118828968751956), (3110, 0.0), (3111, 0.008438602067129744), (3112, 0.0), (3113, 0.0033741999377029574), (3114, 0.01647837271079244), (3115, 0.0051500559580503315), (3116, 0.0), (3117, 0.0), (3118, 0.007791912957846048), (3119, 0.0), (3120, 0.0), (3121, 0.0), (3122, 0.008010049758304442), (3123, 0.0), (3124, 0.0), (3125, 0.0), (3126, 0.008041098000145174), (3127, 0.03245506838999261), (3128, 0.0), (3129, 0.0), (3130, 0.04307449167857771), (3131, 0.008983195694956984), (3132, 0.0), (3133, 0.0), (3134, 0.0), (3135, 0.0), (3136, 0.0), (3137, 0.006140927944014608), (3138, 0.0), (3139, 0.004683796279008672), (3140, 0.0), (3141, 0.012270856455920933), (3142, 0.004573906298417776), (3143, 0.0), (3144, 0.0), (3145, 0.0), (3146, 0.003700390538649137), (3147, 0.006159526191464287), (3148, 0.0), (3149, 0.0031909820181687445), (3150, 0.0034612760696478106), (3151, 0.015799842488572514), (3152, 0.007357463606854022), (3153, 0.0), (3154, 0.0), (3155, 0.00333083579184653), (3156, 0.0), (3157, 0.0), (3158, 0.0), (3159, 0.0), (3160, 0.007375455530881273), (3161, 0.0), (3162, 0.024704959779626286), (3163, 0.0), (3164, 0.0028015227388678513), (3165, 0.0), (3166, 0.004588873254811772), (3167, 0.0), (3168, 0.0037251502340410665), (3169, 0.003391441521806195), (3170, 0.0), (3171, 0.0), (3172, 0.003852083407887656), (3173, 0.0), (3174, 0.0), (3175, 0.00354497016898049), (3176, 0.0), (3177, 0.0031425597499873253), (3178, 0.005230449564379046), (3179, 0.008621857729593745), (3180, 0.0), (3181, 0.0036049426377785304), (3182, 0.006740008057523864), (3183, 0.003622640874038671), (3184, 0.0), (3185, 0.0), (3186, 0.0), (3187, 0.003481321302999061), (3188, 0.003304435047891166), (3189, 0.025296443034196783), (3190, 0.003833413369896697), (3191, 0.00864424044273192), (3192, 0.007309357541786572), (3193, 0.01558096972388364), (3194, 0.02236209638297303), (3195, 0.008262997448900978), (3196, 0.0), (3197, 0.003006515205340906), (3198, 0.003417505898786194), (3199, 0.0), (3200, 0.0), (3201, 0.02058927973042926), (3202, 0.0), (3203, 0.003984192779556913), (3204, 0.004428472455337078), (3205, 0.007013225327085866), (3206, 0.027947554581577817), (3207, 0.0036354423569333176), (3208, 0.0), (3209, 0.0033833733175814766), (3210, 0.0), (3211, 0.0), (3212, 0.0027424876573491084), (3213, 0.0), (3214, 0.003158312965667383), (3215, 0.0), (3216, 0.0), (3217, 0.004263131227376286), (3218, 0.0035268841489710288), (3219, 0.0), (3220, 0.0032332255971179117), (3221, 0.003700090393776564), (3222, 0.0), (3223, 0.0), (3224, 0.0034442499511925695), (3225, 0.0), (3226, 0.0), (3227, 0.0), (3228, 0.0), (3229, 0.01322789950891632), (3230, 0.0), (3231, 0.002962468846779789), (3232, 0.0028924288052753484), (3233, 0.0), (3234, 0.0036160542233928685), (3235, 0.008951033967836296), (3236, 0.0035185241950421472), (3237, 0.009312510366032044), (3238, 0.010960909633151585), (3239, 0.008341760961528106), (3240, 0.009111041677642368), (3241, 0.0), (3242, 0.0), (3243, 0.0), (3244, 0.0293948281668483), (3245, 0.0033425075437850263), (3246, 0.027108054501131938), (3247, 0.0), (3248, 0.0), (3249, 0.004137614607782971), (3250, 0.01885242768001807), (3251, 0.0), (3252, 0.007856270780350375), (3253, 0.003762030287430721), (3254, 0.017230271513710094), (3255, 0.0), (3256, 0.003856372853843058), (3257, 0.0039862233394282335), (3258, 0.003597321026018946), (3259, 0.0034888939264543506), (3260, 0.0032457969143713395), (3261, 0.0), (3262, 0.0), (3263, 0.0), (3264, 0.0), (3265, 0.006818506494127377), (3266, 0.004576321611666813), (3267, 0.003001781861199103), (3268, 0.0), (3269, 0.0), (3270, 0.0032866949765003933), (3271, 0.029173609263385695), (3272, 0.0), (3273, 0.02346065438261848), (3274, 0.0), (3275, 0.0), (3276, 0.0), (3277, 0.003483365274844569), (3278, 0.007634843693372332), (3279, 0.007194892344903291), (3280, 0.00781730851940707), (3281, 0.018654988672162098), (3282, 0.004290265653640181), (3283, 0.003369652214609302), (3284, 0.0), (3285, 0.0), (3286, 0.003211870298005986), (3287, 0.0034199778264026913), (3288, 0.003236832294403065), (3289, 0.0033903377091735794), (3290, 0.0034044990004744734), (3291, 0.0), (3292, 0.0), (3293, 0.0), (3294, 0.0), (3295, 0.003010588286685194), (3296, 0.0), (3297, 0.007030417532243231), (3298, 0.0), (3299, 0.055119624574148054), (3300, 0.0), (3301, 0.016263945256499084), (3302, 0.0), (3303, 0.01296125913883663), (3304, 0.0029955376862675982), (3305, 0.0), (3306, 0.0), (3307, 0.0), (3308, 0.003916532711409678), (3309, 0.006318028753801526), (3310, 0.0034511592110573895), (3311, 0.0029925479614437644), (3312, 0.02412288129591999), (3313, 0.013541651130343883), (3314, 0.0), (3315, 0.003160268995950254), (3316, 0.0), (3317, 0.0), (3318, 0.0), (3319, 0.0061861825288304995), (3320, 0.010993340661194555), (3321, 0.0030609333723668293), (3322, 0.0), (3323, 0.019251464605780415), (3324, 0.0038879088677441433), (3325, 0.0), (3326, 0.01756732821105323), (3327, 0.0), (3328, 0.006197162638126117), (3329, 0.0030243817649833198), (3330, 0.008367949682878418), (3331, 0.0), (3332, 0.011844916809116719), (3333, 0.0), (3334, 0.03028082948878634), (3335, 0.0), (3336, 0.00848630760492097), (3337, 0.003817157522067864), (3338, 0.047229123367449596), (3339, 0.0), (3340, 0.0), (3341, 0.0), (3342, 0.0), (3343, 0.0033048595308615195), (3344, 0.0), (3345, 0.0), (3346, 0.020329526600353053), (3347, 0.00791339377063049), (3348, 0.0032015476144066106), (3349, 0.0034322004883532175), (3350, 0.003263699605914253), (3351, 0.025446283452850743), (3352, 0.006362716226720955), (3353, 0.0), (3354, 0.0), (3355, 0.0), (3356, 0.0), (3357, 0.004112132120751821), (3358, 0.0), (3359, 0.0), (3360, 0.014733364174910186), (3361, 0.0), (3362, 0.023912036652272515), (3363, 0.0), (3364, 0.032643144627380986), (3365, 0.0), (3366, 0.0031950029757428712), (3367, 0.0), (3368, 0.0), (3369, 0.0), (3370, 0.016100019682562812), (3371, 0.0036646794797642697), (3372, 0.0), (3373, 0.003723454323841683), (3374, 0.0), (3375, 0.019286408707717834), (3376, 0.0), (3377, 0.0), (3378, 0.00345209488932451), (3379, 0.0), (3380, 0.022823458457623284), (3381, 0.0), (3382, 0.0034519960027518705), (3383, 0.003745916729423833), (3384, 0.0), (3385, 0.0), (3386, 0.011859770844859539), (3387, 0.0), (3388, 0.00348555898408093), (3389, 0.0030425825241329136), (3390, 0.008983279177281369), (3391, 0.0), (3392, 0.012529415094003023), (3393, 0.01711054777603254), (3394, 0.00732262181242231), (3395, 0.02597643786582366), (3396, 0.02395608979268139), (3397, 0.002968914738458916), (3398, 0.05619852147128059), (3399, 0.0), (3400, 0.00323525616181229), (3401, 0.008899902098656608), (3402, 0.0032237775152671793), (3403, 0.01819606452980356), (3404, 0.04700314713674064), (3405, 0.0), (3406, 0.00995031181810378), (3407, 0.0), (3408, 0.0038256900273765295), (3409, 0.0), (3410, 0.0026621409708293135), (3411, 0.01026915744703615), (3412, 0.031723591958683996), (3413, 0.003973550482054786), (3414, 0.0), (3415, 0.003462261343448885), (3416, 0.0), (3417, 0.0), (3418, 0.01456088386750281), (3419, 0.0), (3420, 0.03696989877430213), (3421, 0.0022887283153306083), (3422, 0.03092928165345271), (3423, 0.0), (3424, 0.00362455387953551), (3425, 0.0), (3426, 0.019320260324732413), (3427, 0.020460706523009048), (3428, 0.0034177904936827175), (3429, 0.0), (3430, 0.0027536448808731084), (3431, 0.0), (3432, 0.0), (3433, 0.007906125483613765), (3434, 0.0), (3435, 0.0), (3436, 0.0), (3437, 0.017580153046650913), (3438, 0.0), (3439, 0.015181628770652152), (3440, 0.009755750279918088), (3441, 0.0), (3442, 0.0035090760476866253), (3443, 0.00326303209411315), (3444, 0.007293261726704903), (3445, 0.04835546392672762), (3446, 0.008623189620763394), (3447, 0.006465288825748438), (3448, 0.0), (3449, 0.013763128851328917), (3450, 0.0), (3451, 0.0), (3452, 0.0), (3453, 0.0), (3454, 0.0), (3455, 0.0), (3456, 0.05147117905998659), (3457, 0.0), (3458, 0.0064594481654406816), (3459, 0.0), (3460, 0.015252176208896582), (3461, 0.003526331439119427), (3462, 0.0033492837917790223), (3463, 0.0), (3464, 0.03510168076805549), (3465, 0.0), (3466, 0.015614686591254109), (3467, 0.0), (3468, 0.0), (3469, 0.0), (3470, 0.009424687037175302), (3471, 0.006676123671727619), (3472, 0.0), (3473, 0.0), (3474, 0.007629665593761859), (3475, 0.005377581129996014), (3476, 0.0), (3477, 0.012629582180622267), (3478, 0.0), (3479, 0.004418026625890651), (3480, 0.006884746592104353), (3481, 0.002784234341240186), (3482, 0.0), (3483, 0.009982682637208064), (3484, 0.006982800588716596), (3485, 0.011317932169501605), (3486, 0.0), (3487, 0.017138105448071546), (3488, 0.008753622537176807), (3489, 0.003410058093871244), (3490, 0.003176889463970512), (3491, 0.0), (3492, 0.0), (3493, 0.003462559959421926), (3494, 0.003329439279073779), (3495, 0.007466327369891754), (3496, 0.021355092433198976), (3497, 0.0), (3498, 0.0), (3499, 0.0), (3500, 0.0030692197890827915), (3501, 0.0), (3502, 0.0101630679460087), (3503, 0.0031722434912728067), (3504, 0.023915579329266978), (3505, 0.0), (3506, 0.010874202715355743), (3507, 0.0), (3508, 0.0032556758324340327), (3509, 0.002870200970495858), (3510, 0.0415637721887052), (3511, 0.02218227020304391), (3512, 0.005072845289732615), (3513, 0.0034660933620384404), (3514, 0.05900035980450142), (3515, 0.0), (3516, 0.009131828187076243), (3517, 0.0034253415185695117), (3518, 0.0032928550599820704), (3519, 0.02190337215320111), (3520, 0.0), (3521, 0.0), (3522, 0.008593510184719006), (3523, 0.0), (3524, 0.0), (3525, 0.0), (3526, 0.0033855857471381287), (3527, 0.0), (3528, 0.007734693578666471), (3529, 0.0036352134066694342), (3530, 0.00860757561414433), (3531, 0.0032087207041358225), (3532, 0.0), (3533, 0.0), (3534, 0.0), (3535, 0.009942616018056181), (3536, 0.0), (3537, 0.004103324938524061), (3538, 0.002637853366184055), (3539, 0.0035245062500840227), (3540, 0.0), (3541, 0.0033277723791521724), (3542, 0.0), (3543, 0.0030752807105031026), (3544, 0.0040269339341679556), (3545, 0.003283614266728844), (3546, 0.029563974624059665), (3547, 0.03657982201919677), (3548, 0.0), (3549, 0.0034213401241412274), (3550, 0.007799509554013209), (3551, 0.0), (3552, 0.0053804573312752), (3553, 0.0), (3554, 0.004004661380715503), (3555, 0.0), (3556, 0.0), (3557, 0.0), (3558, 0.0), (3559, 0.002772877677004447), (3560, 0.0), (3561, 0.0), (3562, 0.003186518500350794), (3563, 0.0030151299212230645), (3564, 0.0), (3565, 0.006548079719709837), (3566, 0.0), (3567, 0.0), (3568, 0.0), (3569, 0.0), (3570, 0.0032875079081531094), (3571, 0.010148502122942007), (3572, 0.0036626418380489626), (3573, 0.0), (3574, 0.009782039835579024), (3575, 0.010289631805428644), (3576, 0.008527890794665172), (3577, 0.0040883947772058764), (3578, 0.0), (3579, 0.010871716135248713), (3580, 0.011467635653855878), (3581, 0.0036366779599291185), (3582, 0.00318695981049103), (3583, 0.008152957102434561), (3584, 0.012570465128952314), (3585, 0.006448695829519891), (3586, 0.0), (3587, 0.0), (3588, 0.0), (3589, 0.003050703477633386), (3590, 0.0), (3591, 0.02076391514395101), (3592, 0.004113042604357647), (3593, 0.023184569094656486), (3594, 0.0), (3595, 0.003165182768719714), (3596, 0.0), (3597, 0.02086134999018501), (3598, 0.002928503690247038), (3599, 0.013298592722219268), (3600, 0.027503827471173005), (3601, 0.0035281485905618473), (3602, 0.022712430534102768), (3603, 0.003371342910146292), (3604, 0.0), (3605, 0.0), (3606, 0.003373053526415304), (3607, 0.0), (3608, 0.0), (3609, 0.007895189144684902), (3610, 0.003907242048222085), (3611, 0.0), (3612, 0.0), (3613, 0.0), (3614, 0.0), (3615, 0.0), (3616, 0.004113886613044276), (3617, 0.0), (3618, 0.0), (3619, 0.007366762669771341), (3620, 0.0), (3621, 0.0038927924543926146), (3622, 0.015039236551577254), (3623, 0.0), (3624, 0.0), (3625, 0.0), (3626, 0.0025380808599515864), (3627, 0.0), (3628, 0.0036176357082528024), (3629, 0.0), (3630, 0.005710635002128807), (3631, 0.0), (3632, 0.0033814438504258942), (3633, 0.01140699362080885), (3634, 0.0), (3635, 0.0), (3636, 0.0), (3637, 0.0), (3638, 0.0), (3639, 0.028575935660558924), (3640, 0.0), (3641, 0.0031949956480574757), (3642, 0.0), (3643, 0.0), (3644, 0.028511194956571378), (3645, 0.0), (3646, 0.003128125584249506), (3647, 0.00927634111971633), (3648, 0.00342293431376973), (3649, 0.00375297793085728), (3650, 0.0033520774966655214), (3651, 0.0), (3652, 0.0036553821561939653), (3653, 0.0), (3654, 0.0), (3655, 0.0), (3656, 0.0), (3657, 0.0), (3658, 0.002779909364909392), (3659, 0.0), (3660, 0.0), (3661, 0.023247533356522587), (3662, 0.003306549195484444), (3663, 0.0), (3664, 0.008070867476437182), (3665, 0.0033003327668304143), (3666, 0.008718236003902632), (3667, 0.0072084072135498055), (3668, 0.00798040149706286), (3669, 0.0), (3670, 0.0), (3671, 0.0041179757776385545), (3672, 0.0), (3673, 0.0032948075823839326), (3674, 0.0027925414664182564), (3675, 0.0), (3676, 0.0033431194016462183), (3677, 0.0), (3678, 0.03439107857210189), (3679, 0.0), (3680, 0.023485800199214202), (3681, 0.0036724861026693374), (3682, 0.0), (3683, 0.05067565157747103), (3684, 0.00287105598470744), (3685, 0.0032454775681216353), (3686, 0.003932845857726874), (3687, 0.0), (3688, 0.022273129404862795), (3689, 0.009752242980554294), (3690, 0.0), (3691, 0.0), (3692, 0.0), (3693, 0.0), (3694, 0.0), (3695, 0.0), (3696, 0.0), (3697, 0.023215506509966514), (3698, 0.01535408251915082), (3699, 0.0), (3700, 0.0), (3701, 0.009665873893774244), (3702, 0.01103000017899156), (3703, 0.0), (3704, 0.0), (3705, 0.01906866937839552), (3706, 0.0), (3707, 0.0), (3708, 0.0), (3709, 0.009189640275959034), (3710, 0.0), (3711, 0.0), (3712, 0.003133687243479245), (3713, 0.0), (3714, 0.0), (3715, 0.004268861759210672), (3716, 0.002973314086202692), (3717, 0.0), (3718, 0.023841108119974364), (3719, 0.0), (3720, 0.00810287470395981), (3721, 0.0), (3722, 0.0034013820098587975), (3723, 0.0), (3724, 0.008903091176369345), (3725, 0.0), (3726, 0.0), (3727, 0.0), (3728, 0.0035375893064204366), (3729, 0.0), (3730, 0.013923118199622692), (3731, 0.007160606964236203), (3732, 0.003082126144393701), (3733, 0.009452262907584438), (3734, 0.00791940314144597), (3735, 0.0036607728599000076), (3736, 0.015067933743424522), (3737, 0.0), (3738, 0.007680059589616255), (3739, 0.003344575693801425), (3740, 0.004186755973713929), (3741, 0.0), (3742, 0.008612117852888193), (3743, 0.0), (3744, 0.0), (3745, 0.0), (3746, 0.008265602957420525), (3747, 0.0), (3748, 0.0028623299505254733), (3749, 0.0), (3750, 0.011216349012448005), (3751, 0.00774943858081962), (3752, 0.014091066255105483), (3753, 0.0030475797357249483), (3754, 0.014770790950923728), (3755, 0.0029237713447597805), (3756, 0.0), (3757, 0.0), (3758, 0.013999053784301274), (3759, 0.003787575663884686), (3760, 0.0), (3761, 0.0), (3762, 0.0), (3763, 0.003898814731909756), (3764, 0.006537967200227437), (3765, 0.003213535874406807), (3766, 0.0), (3767, 0.003038925151340661), (3768, 0.009022533385887039), (3769, 0.008779233368896746), (3770, 0.0), (3771, 0.022495535500245037), (3772, 0.003764727844780628), (3773, 0.0), (3774, 0.0), (3775, 0.0), (3776, 0.0), (3777, 0.0), (3778, 0.0), (3779, 0.0), (3780, 0.0), (3781, 0.0), (3782, 0.0), (3783, 0.0), (3784, 0.0), (3785, 0.0), (3786, 0.0), (3787, 0.0), (3788, 0.007848765137556958), (3789, 0.033394600753755624), (3790, 0.0034384485453665043), (3791, 0.0037748413040293682), (3792, 0.003364282335698175), (3793, 0.00825454077015477), (3794, 0.0656354881054086), (3795, 0.0), (3796, 0.00457549769676273), (3797, 0.0), (3798, 0.0), (3799, 0.0), (3800, 0.004364593820389516), (3801, 0.0), (3802, 0.009194054007415657), (3803, 0.011143610714536688), (3804, 0.0), (3805, 0.003298584597589165), (3806, 0.0), (3807, 0.0), (3808, 0.003673088596009919), (3809, 0.0), (3810, 0.00855594378547749), (3811, 0.003118688348775548), (3812, 0.003367168595278664), (3813, 0.0), (3814, 0.0), (3815, 0.00856052500943658), (3816, 0.0), (3817, 0.0), (3818, 0.003280734995859626), (3819, 0.0), (3820, 0.003739997486851456), (3821, 0.013910206995338834), (3822, 0.05558697284837935), (3823, 0.016759495593834384), (3824, 0.011171480017370262), (3825, 0.0), (3826, 0.0), (3827, 0.0), (3828, 0.0), (3829, 0.01958865992977836), (3830, 0.0), (3831, 0.009207595002001457), (3832, 0.008077254267270207), (3833, 0.008527045782516656), (3834, 0.0), (3835, 0.0), (3836, 0.003226391706179878), (3837, 0.003631320932581875), (3838, 0.0), (3839, 0.00305138344819033), (3840, 0.0), (3841, 0.0), (3842, 0.0030110646726422097), (3843, 0.0), (3844, 0.014667450666900882), (3845, 0.0034506196974348796), (3846, 0.0), (3847, 0.0), (3848, 0.0), (3849, 0.033042869584995034), (3850, 0.0), (3851, 0.0037877067163899236), (3852, 0.0073161159230632836), (3853, 0.007928270464191329), (3854, 0.0), (3855, 0.0028070538138503026), (3856, 0.002863052587064088), (3857, 0.0), (3858, 0.003793607384041707), (3859, 0.011071044512312804), (3860, 0.0), (3861, 0.02503849399907997), (3862, 0.0), (3863, 0.0), (3864, 0.003121927205387991), (3865, 0.02521762763465952), (3866, 0.0038133415593579966), (3867, 0.0), (3868, 0.003165391180722183), (3869, 0.0), (3870, 0.003458534840177303), (3871, 0.0), (3872, 0.008091107354913113), (3873, 0.0), (3874, 0.0), (3875, 0.01801583376920795), (3876, 0.0), (3877, 0.0), (3878, 0.0), (3879, 0.003207305328797179), (3880, 0.0), (3881, 0.008007253000583723), (3882, 0.0034817490377724064), (3883, 0.0), (3884, 0.0), (3885, 0.0030094830786832312), (3886, 0.011240875532765131), (3887, 0.0), (3888, 0.04023476703602956), (3889, 0.0035878012046962828), (3890, 0.006401109880004034), (3891, 0.0089286291520773), (3892, 0.004300551422955252), (3893, 0.0), (3894, 0.0), (3895, 0.0), (3896, 0.019183826341463255), (3897, 0.0), (3898, 0.0), (3899, 0.0), (3900, 0.0), (3901, 0.01012623635638508), (3902, 0.0), (3903, 0.0), (3904, 0.0), (3905, 0.0034993588963215796), (3906, 0.009276383523757058), (3907, 0.0), (3908, 0.0), (3909, 0.011883168431295249), (3910, 0.0), (3911, 0.0), (3912, 0.003379813212420942), (3913, 0.008704297042807702), (3914, 0.005791646932599531), (3915, 0.0), (3916, 0.020516280435528614), (3917, 0.0), (3918, 0.0), (3919, 0.003458270842835273), (3920, 0.0), (3921, 0.0038120524998945735), (3922, 0.004083893231719646), (3923, 0.04539286093342777), (3924, 0.0), (3925, 0.0), (3926, 0.003313521450243405), (3927, 0.0), (3928, 0.0), (3929, 0.0), (3930, 0.0034249154068234674), (3931, 0.0038699418617613285), (3932, 0.0), (3933, 0.002948828178161027), (3934, 0.007026045437815176), (3935, 0.0), (3936, 0.004185044533895561), (3937, 0.0), (3938, 0.009103968479834254), (3939, 0.0), (3940, 0.006922707900734353), (3941, 0.003100132132737488), (3942, 0.010242385070085605), (3943, 0.0035559298004137424), (3944, 0.006768375579705374), (3945, 0.0), (3946, 0.0), (3947, 0.0), (3948, 0.0), (3949, 0.004547543671345891), (3950, 0.007354892171137622), (3951, 0.0), (3952, 0.0648111887438456), (3953, 0.0), (3954, 0.015654024119490968), (3955, 0.0), (3956, 0.0), (3957, 0.0), (3958, 0.008085402531695473), (3959, 0.0), (3960, 0.0), (3961, 0.0), (3962, 0.03259137647317859), (3963, 0.0), (3964, 0.014224664032925964), (3965, 0.0031594771280522766), (3966, 0.0), (3967, 0.053232961320227604), (3968, 0.0), (3969, 0.05986407890826321), (3970, 0.032911977856272624), (3971, 0.009439211067472463), (3972, 0.0), (3973, 0.007044456987079926), (3974, 0.0), (3975, 0.0109443858186864), (3976, 0.010223970684746545), (3977, 0.0), (3978, 0.0), (3979, 0.0), (3980, 0.0), (3981, 0.0), (3982, 0.0), (3983, 0.0), (3984, 0.0034791510699572798), (3985, 0.008026768817252604), (3986, 0.0), (3987, 0.0217100908630773), (3988, 0.004164049792131504), (3989, 0.02318549672293242), (3990, 0.0), (3991, 0.04193966830681283), (3992, 0.0037395198834059796), (3993, 0.0), (3994, 0.008159680413582204), (3995, 0.00870526378605352), (3996, 0.003944434881789911), (3997, 0.0), (3998, 0.0031871445303813303), (3999, 0.0), (4000, 0.0), (4001, 0.0033137748118445016), (4002, 0.0), (4003, 0.003654389199656884), (4004, 0.0), (4005, 0.0), (4006, 0.0333455893536066), (4007, 0.004704005577430672), (4008, 0.003433292102631361), (4009, 0.0), (4010, 0.003817205299608367), (4011, 0.0), (4012, 0.006244483644888963), (4013, 0.0), (4014, 0.0), (4015, 0.0), (4016, 0.009402450098204548), (4017, 0.0), (4018, 0.005639328425181889), (4019, 0.0), (4020, 0.0), (4021, 0.0), (4022, 0.04378955185617895), (4023, 0.003906813320718631), (4024, 0.0), (4025, 0.0034320817436748175), (4026, 0.007289750360899847), (4027, 0.0034932790926472885), (4028, 0.010205453384782601), (4029, 0.011470571926336721), (4030, 0.0), (4031, 0.003867237275686467), (4032, 0.0), (4033, 0.0), (4034, 0.0), (4035, 0.002878508233601449), (4036, 0.0032324147098671714), (4037, 0.003133925862765973), (4038, 0.0), (4039, 0.0), (4040, 0.015103698652896224), (4041, 0.0), (4042, 0.0), (4043, 0.0), (4044, 0.03648418252234586), (4045, 0.0), (4046, 0.0), (4047, 0.0), (4048, 0.0), (4049, 0.0033574712702709735), (4050, 0.0), (4051, 0.003690794611520754), (4052, 0.013461074929877435), (4053, 0.0), (4054, 0.0035078567300866554), (4055, 0.0), (4056, 0.0), (4057, 0.008380469085777645), (4058, 0.004114867167968254), (4059, 0.0), (4060, 0.02063446805026235), (4061, 0.003613535711297886), (4062, 0.011419749994493703), (4063, 0.007748911811887219), (4064, 0.037506376098772574), (4065, 0.0), (4066, 0.019465127154172306), (4067, 0.0), (4068, 0.0), (4069, 0.0), (4070, 0.0), (4071, 0.0031301459580506566), (4072, 0.0), (4073, 0.003224423687239331), (4074, 0.04157512625265269), (4075, 0.0), (4076, 0.0), (4077, 0.0), (4078, 0.018634028917675037), (4079, 0.0), (4080, 0.0), (4081, 0.03015020714432539), (4082, 0.03527266910554885), (4083, 0.04823144637425038), (4084, 0.004253890700944157), (4085, 0.007991617340704164), (4086, 0.02563727174357984), (4087, 0.0), (4088, 0.0), (4089, 0.0), (4090, 0.00904781625103222), (4091, 0.0), (4092, 0.0), (4093, 0.003384043733141942), (4094, 0.007090823848954325), (4095, 0.0), (4096, 0.03053515402714993), (4097, 0.003622827047672587), (4098, 0.0), (4099, 0.003307331851433621), (4100, 0.0), (4101, 0.0), (4102, 0.004200411783459277), (4103, 0.04471273256910527), (4104, 0.0029323564507892992), (4105, 0.032573254929861774), (4106, 0.007517320163317245), (4107, 0.0), (4108, 0.022492446689575084), (4109, 0.010590776950457402), (4110, 0.0), (4111, 0.003541498026810681), (4112, 0.0032291185908658723), (4113, 0.0036744533730570872), (4114, 0.0), (4115, 0.004463751211123263), (4116, 0.0), (4117, 0.0037763881770348107), (4118, 0.00356749310063296), (4119, 0.0), (4120, 0.009359351979624163), (4121, 0.00376264503778718), (4122, 0.0), (4123, 0.0), (4124, 0.0), (4125, 0.0034359754751558643), (4126, 0.0), (4127, 0.0040156310722141075), (4128, 0.0), (4129, 0.0), (4130, 0.0), (4131, 0.003540201789668367), (4132, 0.0035609129063223213), (4133, 0.009155498119076453), (4134, 0.01152298068633537), (4135, 0.0033551291188553345), (4136, 0.0), (4137, 0.0), (4138, 0.0), (4139, 0.0), (4140, 0.0036146009194102774), (4141, 0.0), (4142, 0.0), (4143, 0.0), (4144, 0.0), (4145, 0.0), (4146, 0.0), (4147, 0.004028169156281828), (4148, 0.0), (4149, 0.015178080785667807), (4150, 0.009531282602592086), (4151, 0.0), (4152, 0.0), (4153, 0.0), (4154, 0.0), (4155, 0.0), (4156, 0.0028999005447838655), (4157, 0.008228180240170207), (4158, 0.007209520106932209), (4159, 0.007869195590806859), (4160, 0.0), (4161, 0.0), (4162, 0.0), (4163, 0.0), (4164, 0.0), (4165, 0.007743152961532206), (4166, 0.004270934449693262), (4167, 0.009007203477803512), (4168, 0.0), (4169, 0.0), (4170, 0.0), (4171, 0.0), (4172, 0.0), (4173, 0.0035395240824876036), (4174, 0.00304493525420933), (4175, 0.0), (4176, 0.0), (4177, 0.0), (4178, 0.0), (4179, 0.0), (4180, 0.012369050768472783), (4181, 0.0), (4182, 0.002509880404767192), (4183, 0.04087764450032366), (4184, 0.003321705602695195), (4185, 0.0), (4186, 0.0030283153874253585), (4187, 0.0), (4188, 0.008342782304659428), (4189, 0.021244471882151165), (4190, 0.0039455048406359765), (4191, 0.002996605035023518), (4192, 0.003203527452960039), (4193, 0.007635955321396286), (4194, 0.0), (4195, 0.003306195323893542), (4196, 0.0), (4197, 0.003372533253560168), (4198, 0.004368242692992281), (4199, 0.0041040511695997995), (4200, 0.0027351877823243312), (4201, 0.0), (4202, 0.0), (4203, 0.0655098365106937), (4204, 0.003937489944743615), (4205, 0.0), (4206, 0.0031424132363624), (4207, 0.0035902818012557617), (4208, 0.0), (4209, 0.0), (4210, 0.012918812423256265), (4211, 0.0), (4212, 0.0), (4213, 0.0031457446582717264), (4214, 0.003350928273947924), (4215, 0.0), (4216, 0.0), (4217, 0.028700773277928728), (4218, 0.0032359580762372255), (4219, 0.0), (4220, 0.018590141884791033), (4221, 0.0), (4222, 0.004436778170796822), (4223, 0.005070845783301809), (4224, 0.0), (4225, 0.0), (4226, 0.01279609238024551), (4227, 0.009269129425954929), (4228, 0.0), (4229, 0.0), (4230, 0.0), (4231, 0.0), (4232, 0.008196684278857717), (4233, 0.007007823054358536), (4234, 0.003227260005881846), (4235, 0.0), (4236, 0.0), (4237, 0.002945226934812548), (4238, 0.0), (4239, 0.016170801917430797), (4240, 0.009166149488447682), (4241, 0.0), (4242, 0.0), (4243, 0.0), (4244, 0.0), (4245, 0.0), (4246, 0.012059412072891386), (4247, 0.014578289875131304), (4248, 0.0), (4249, 0.0), (4250, 0.0), (4251, 0.017216920491844687), (4252, 0.0031829318155196583), (4253, 0.0), (4254, 0.0031062507058305486), (4255, 0.0), (4256, 0.00351062624533434), (4257, 0.0031164244089217563), (4258, 0.003604522619405589), (4259, 0.003674653331354908), (4260, 0.0034965747091480624), (4261, 0.0), (4262, 0.0), (4263, 0.0036436896335993924), (4264, 0.0), (4265, 0.0), (4266, 0.0), (4267, 0.0), (4268, 0.0), (4269, 0.0), (4270, 0.0), (4271, 0.010389708579762418), (4272, 0.003138455291162559), (4273, 0.0), (4274, 0.0), (4275, 0.0), (4276, 0.0), (4277, 0.01930197599797331), (4278, 0.008324950091598777), (4279, 0.0), (4280, 0.0), (4281, 0.0), (4282, 0.0), (4283, 0.0), (4284, 0.0), (4285, 0.0038822437389172087), (4286, 0.0), (4287, 0.025188881986891693), (4288, 0.0), (4289, 0.0), (4290, 0.007578321079123406), (4291, 0.02365870454860763), (4292, 0.0), (4293, 0.03919149278758348), (4294, 0.0), (4295, 0.003777095055510133), (4296, 0.0), (4297, 0.0030315498154666544), (4298, 0.0), (4299, 0.0), (4300, 0.00333406440592687), (4301, 0.0), (4302, 0.010552894478910039), (4303, 0.0031767562090846764), (4304, 0.0029691411408246725), (4305, 0.003073297124227612), (4306, 0.0), (4307, 0.010585503799435634), (4308, 0.003627916194430641), (4309, 0.0), (4310, 0.0), (4311, 0.002687738510231196), (4312, 0.0), (4313, 0.0), (4314, 0.003189895154082455), (4315, 0.003522989690711389), (4316, 0.009714227315731887), (4317, 0.003751364613299392), (4318, 0.0), (4319, 0.0034002964389297672), (4320, 0.0), (4321, 0.0031495568612393467), (4322, 0.0), (4323, 0.003484602565508164), (4324, 0.03217001709277842), (4325, 0.03135960605704449), (4326, 0.0), (4327, 0.0032240385782429273), (4328, 0.0), (4329, 0.0033968259558293814), (4330, 0.0), (4331, 0.009671919880099949), (4332, 0.0035890837240276216), (4333, 0.0), (4334, 0.030812396815093974), (4335, 0.0037681451493966926), (4336, 0.0), (4337, 0.009323080148767518), (4338, 0.0), (4339, 0.0), (4340, 0.0), (4341, 0.003924244723459442), (4342, 0.023972584581795867), (4343, 0.0), (4344, 0.008059544584425002), (4345, 0.0), (4346, 0.0038380660486820894), (4347, 0.007080203828739477), (4348, 0.0), (4349, 0.045427207161102955), (4350, 0.0379881149794522), (4351, 0.003547709331953414), (4352, 0.008204521793934995), (4353, 0.0028729383154959837), (4354, 0.0), (4355, 0.0), (4356, 0.0185022763889803), (4357, 0.0035264150447041824), (4358, 0.021242949226339954), (4359, 0.0), (4360, 0.029321243374230907), (4361, 0.0), (4362, 0.016240763718680443), (4363, 0.0), (4364, 0.0), (4365, 0.0), (4366, 0.026224231585267974), (4367, 0.003205862698126548), (4368, 0.0), (4369, 0.0), (4370, 0.0035331980607805876), (4371, 0.0035475652570032177), (4372, 0.0), (4373, 0.023948801888657875), (4374, 0.0), (4375, 0.01684130773500034), (4376, 0.0), (4377, 0.008616964098636331), (4378, 0.0), (4379, 0.0), (4380, 0.0), (4381, 0.0), (4382, 0.0031989181655675807), (4383, 0.0), (4384, 0.0), (4385, 0.00730816730007106), (4386, 0.0), (4387, 0.0), (4388, 0.013097842764704572), (4389, 0.00951342125258164), (4390, 0.0), (4391, 0.0), (4392, 0.03513353675443717), (4393, 0.0), (4394, 0.0032827749230677494), (4395, 0.00321836961418962), (4396, 0.0), (4397, 0.0), (4398, 0.0), (4399, 0.0), (4400, 0.0), (4401, 0.022774085037336106), (4402, 0.0), (4403, 0.0), (4404, 0.01195830935249682), (4405, 0.0), (4406, 0.0), (4407, 0.0), (4408, 0.003971899558365905), (4409, 0.0), (4410, 0.0), (4411, 0.0), (4412, 0.009835850804842108), (4413, 0.0035870513288166453), (4414, 0.0063635520909078504), (4415, 0.0), (4416, 0.0), (4417, 0.0), (4418, 0.0), (4419, 0.0), (4420, 0.003488343194717186), (4421, 0.0034533777164810816), (4422, 0.0034186914878333277), (4423, 0.0), (4424, 0.0), (4425, 0.0), (4426, 0.010099361057642952), (4427, 0.0), (4428, 0.0), (4429, 0.0), (4430, 0.0), (4431, 0.0), (4432, 0.014517743659564715), (4433, 0.003451485561308288), (4434, 0.011212504717461335), (4435, 0.009473388033360742), (4436, 0.0), (4437, 0.008927327021651043), (4438, 0.0), (4439, 0.0), (4440, 0.036162210549367996), (4441, 0.007976151044574224), (4442, 0.0032088235903719696), (4443, 0.0), (4444, 0.0), (4445, 0.0), (4446, 0.0036290482496641845), (4447, 0.003001369831919797), (4448, 0.0034548764486864694), (4449, 0.03914893596029892), (4450, 0.0), (4451, 0.02347303158647113), (4452, 0.0037418387925647876), (4453, 0.0036937450410569096), (4454, 0.013503561257670505), (4455, 0.0), (4456, 0.0), (4457, 0.0032960118308512196), (4458, 0.0), (4459, 0.017148282630993102), (4460, 0.0037499472586330442), (4461, 0.0), (4462, 0.0), (4463, 0.0036720833064994023), (4464, 0.0), (4465, 0.0), (4466, 0.0), (4467, 0.0), (4468, 0.01448199812730094), (4469, 0.0), (4470, 0.0), (4471, 0.0), (4472, 0.0), (4473, 0.002881231080719216), (4474, 0.0), (4475, 0.0), (4476, 0.0), (4477, 0.0), (4478, 0.0), (4479, 0.0), (4480, 0.004657979362788519), (4481, 0.0), (4482, 0.0), (4483, 0.003946367830151341), (4484, 0.004410774644754514), (4485, 0.0), (4486, 0.013201695203789322), (4487, 0.07011443543649161), (4488, 0.007279495076447484), (4489, 0.0035086610477012762), (4490, 0.0), (4491, 0.0), (4492, 0.003553776557572926), (4493, 0.0), (4494, 0.0), (4495, 0.0), (4496, 0.003786589131861177), (4497, 0.0), (4498, 0.005422308080531179), (4499, 0.0), (4500, 0.0), (4501, 0.0), (4502, 0.0), (4503, 0.0), (4504, 0.0), (4505, 0.0), (4506, 0.003949693599528873), (4507, 0.003799845329441126), (4508, 0.0), (4509, 0.0), (4510, 0.0), (4511, 0.0), (4512, 0.0), (4513, 0.006945736509260188), (4514, 0.004001506859101629), (4515, 0.0), (4516, 0.0), (4517, 0.008447333889265938), (4518, 0.010192914882664621), (4519, 0.0026540479062691796), (4520, 0.0), (4521, 0.0), (4522, 0.003605199420670049), (4523, 0.0), (4524, 0.0), (4525, 0.00768897826062245), (4526, 0.0), (4527, 0.00965455788385625), (4528, 0.0), (4529, 0.0), (4530, 0.003235402122721252), (4531, 0.0), (4532, 0.007349978218370574), (4533, 0.0), (4534, 0.08416065617340868), (4535, 0.05637533731798333), (4536, 0.0), (4537, 0.015236198634046266), (4538, 0.009654181443235215), (4539, 0.010071248755225512), (4540, 0.0), (4541, 0.0), (4542, 0.011572231359507752), (4543, 0.0), (4544, 0.0), (4545, 0.0), (4546, 0.04112220552692199), (4547, 0.029660309284430537), (4548, 0.00787095727366453), (4549, 0.009314574975804046), (4550, 0.0), (4551, 0.0), (4552, 0.061888358612609155), (4553, 0.0), (4554, 0.06874054383039574), (4555, 0.004985945712449369), (4556, 0.010351778192798982), (4557, 0.0035091994350212726), (4558, 0.00289862113128983), (4559, 0.0), (4560, 0.0035181429230517263), (4561, 0.0), (4562, 0.004109753071541574), (4563, 0.0), (4564, 0.003185342176366796), (4565, 0.046064268846591774), (4566, 0.0), (4567, 0.0), (4568, 0.0), (4569, 0.0), (4570, 0.003954601513917168), (4571, 0.0052568142745196295), (4572, 0.0), (4573, 0.0), (4574, 0.0), (4575, 0.04888088919097019), (4576, 0.0), (4577, 0.00303752794872056), (4578, 0.0), (4579, 0.0), (4580, 0.0036916206380179636), (4581, 0.0), (4582, 0.007489618400768329), (4583, 0.00848354026843163), (4584, 0.023964020566779147), (4585, 0.007856784980740066), (4586, 0.0), (4587, 0.0), (4588, 0.0), (4589, 0.0), (4590, 0.0), (4591, 0.0), (4592, 0.0032979613717958414), (4593, 0.009336694164611145), (4594, 0.0), (4595, 0.009085562571882668), (4596, 0.0029157574261603997), (4597, 0.0), (4598, 0.0), (4599, 0.007589495378636365), (4600, 0.03518485489811041), (4601, 0.0), (4602, 0.0), (4603, 0.003085892034886746), (4604, 0.0), (4605, 0.010472909602279314), (4606, 0.0), (4607, 0.012192724910717205), (4608, 0.0), (4609, 0.0033309467806968483), (4610, 0.002776469278074465), (4611, 0.0), (4612, 0.0), (4613, 0.02157842638084084), (4614, 0.008020192665472915), (4615, 0.008179277232594229), (4616, 0.0), (4617, 0.0), (4618, 0.011729832192272386), (4619, 0.0), (4620, 0.0), (4621, 0.008774124382621892), (4622, 0.0035116008942164263), (4623, 0.008366225072283946), (4624, 0.0), (4625, 0.0), (4626, 0.006788537345981203), (4627, 0.0028386562434161693), (4628, 0.0068291609140551995), (4629, 0.0), (4630, 0.03270723893515598), (4631, 0.00401735423752777), (4632, 0.0), (4633, 0.00388786973412978), (4634, 0.0), (4635, 0.0), (4636, 0.0027898073291216462), (4637, 0.029627866207877572), (4638, 0.008600608241333577), (4639, 0.008786038831100676), (4640, 0.05046111243001816), (4641, 0.0), (4642, 0.0), (4643, 0.0), (4644, 0.0), (4645, 0.009948228336785235), (4646, 0.010705595207951057), (4647, 0.0029914784994441177), (4648, 0.0034213323987913862), (4649, 0.0), (4650, 0.0038125027291995815), (4651, 0.0), (4652, 0.002528636753795475), (4653, 0.0), (4654, 0.01273330751277875), (4655, 0.0035016668660207435), (4656, 0.0), (4657, 0.04968627002240905), (4658, 0.0), (4659, 0.0), (4660, 0.0), (4661, 0.018679469716706917), (4662, 0.0), (4663, 0.0), (4664, 0.0), (4665, 0.008327774422291418), (4666, 0.0), (4667, 0.0030937248942732977), (4668, 0.008273415853848654), (4669, 0.0), (4670, 0.0), (4671, 0.0), (4672, 0.008629948392055142), (4673, 0.0), (4674, 0.006743843391871648), (4675, 0.012688727280418125), (4676, 0.0), (4677, 0.0), (4678, 0.0), (4679, 0.0), (4680, 0.0), (4681, 0.0), (4682, 0.0), (4683, 0.008424822028142652), (4684, 0.0), (4685, 0.0), (4686, 0.0), (4687, 0.0), (4688, 0.0032848361724633437), (4689, 0.0), (4690, 0.0031024417753910635), (4691, 0.0), (4692, 0.0), (4693, 0.0), (4694, 0.0), (4695, 0.008848996149628115), (4696, 0.0), (4697, 0.0078049046331019264), (4698, 0.010130430512714644), (4699, 0.00947367016415534), (4700, 0.03260115173326682), (4701, 0.01000730001315853), (4702, 0.003359309614044427), (4703, 0.0), (4704, 0.0), (4705, 0.0), (4706, 0.00367538199296202), (4707, 0.0), (4708, 0.008332411051156586), (4709, 0.0), (4710, 0.03249912249528939), (4711, 0.0039045211728934), (4712, 0.02701096636011055), (4713, 0.0), (4714, 0.0), (4715, 0.0), (4716, 0.008702313471388034), (4717, 0.003906273963997956), (4718, 0.0), (4719, 0.006407260336111059), (4720, 0.01420656263426737), (4721, 0.004117372570404889), (4722, 0.0), (4723, 0.0), (4724, 0.0), (4725, 0.004038435632706154), (4726, 0.03759376796613657), (4727, 0.0), (4728, 0.02524029327574837), (4729, 0.0), (4730, 0.0), (4731, 0.0), (4732, 0.0), (4733, 0.0), (4734, 0.003575149925326683), (4735, 0.0), (4736, 0.0), (4737, 0.0037510310020811306), (4738, 0.003306704312198281), (4739, 0.0), (4740, 0.0), (4741, 0.0), (4742, 0.0), (4743, 0.0), (4744, 0.0026818108786982814), (4745, 0.0), (4746, 0.013275727949274709), (4747, 0.0), (4748, 0.0), (4749, 0.0), (4750, 0.009693259135840203), (4751, 0.016315232110169987), (4752, 0.0), (4753, 0.0), (4754, 0.0), (4755, 0.008447485058108654), (4756, 0.024991344713830296), (4757, 0.0), (4758, 0.0), (4759, 0.02570380028294398)]\n"
          ]
        }
      ]
    },
    {
      "cell_type": "code",
      "source": [
        "len(Recommendation_Score)"
      ],
      "metadata": {
        "colab": {
          "base_uri": "https://localhost:8080/"
        },
        "id": "DqK-F9IPWtGd",
        "outputId": "da253b0d-eb46-4fc4-c76d-120ad7eb6308"
      },
      "execution_count": 30,
      "outputs": [
        {
          "output_type": "execute_result",
          "data": {
            "text/plain": [
              "4760"
            ]
          },
          "metadata": {},
          "execution_count": 30
        }
      ]
    },
    {
      "cell_type": "markdown",
      "source": [
        "**Get All Movies Sort Based on Recommendation Score wrt Favourite Movie**"
      ],
      "metadata": {
        "id": "4jmY6pO8XAYs"
      }
    },
    {
      "cell_type": "code",
      "source": [
        "Sorted_Similar_Movies = sorted(Recommendation_Score, key = lambda x:x[1], reverse = True)\n",
        "print(Sorted_Similar_Movies)"
      ],
      "metadata": {
        "colab": {
          "base_uri": "https://localhost:8080/"
        },
        "id": "ba61JWXtXM1V",
        "outputId": "f380fe0d-f89c-4095-9787-52601cbdef88"
      },
      "execution_count": 31,
      "outputs": [
        {
          "output_type": "stream",
          "name": "stdout",
          "text": [
            "[(964, 1.0000000000000004), (2837, 0.131298182647758), (2287, 0.1214025824681236), (2425, 0.09704589888903953), (1909, 0.09569195799717886), (1926, 0.09200346459321043), (2201, 0.09159188547067136), (2420, 0.08425267521583156), (4534, 0.08416065617340868), (1732, 0.0835657696406053), (192, 0.0809868270308429), (873, 0.08054574657317606), (1205, 0.07054378718014573), (4487, 0.07011443543649161), (1524, 0.06888802388681282), (4554, 0.06874054383039574), (3794, 0.0656354881054086), (4203, 0.0655098365106937), (2551, 0.06540110455743908), (3952, 0.0648111887438456), (739, 0.062297529706518785), (2884, 0.06196284189592592), (4552, 0.061888358612609155), (1889, 0.06022777246900804), (3969, 0.05986407890826321), (2665, 0.059784723977725746), (3026, 0.059303384974708134), (3514, 0.05900035980450142), (1748, 0.058970524545541116), (1803, 0.058318224956714806), (414, 0.05764256134525171), (2661, 0.057621497045135306), (2591, 0.05661450666843242), (4535, 0.05637533731798333), (2255, 0.056306209155686834), (3398, 0.05619852147128059), (3822, 0.05558697284837935), (1765, 0.05551530968372977), (2436, 0.05533165191714545), (1568, 0.05529533813819266), (950, 0.05516477994664111), (3299, 0.055119624574148054), (1525, 0.05497459915838119), (1105, 0.0544731623207716), (3063, 0.05371380996109766), (1773, 0.05348977172999144), (3967, 0.053232961320227604), (2377, 0.05246575742953459), (1206, 0.05226393120913498), (910, 0.052235062888930095), (1274, 0.05184774201704613), (790, 0.051570307659112635), (3021, 0.05152528114759458), (3456, 0.05147117905998659), (2030, 0.05140151006435151), (869, 0.050758631577804816), (3683, 0.05067565157747103), (1099, 0.050665007942455605), (4640, 0.05046111243001816), (2397, 0.05034953303354255), (2186, 0.0499584830670513), (4657, 0.04968627002240905), (2847, 0.04967162715217972), (352, 0.04962008802386532), (2162, 0.049611245076988456), (372, 0.04957568092462357), (1170, 0.049562017512186855), (1414, 0.049532851152663815), (1477, 0.04950870036565695), (1684, 0.04950515151887698), (2316, 0.04948382523544973), (539, 0.04928759212219401), (2947, 0.049200156828105454), (230, 0.04899416376533885), (4575, 0.04888088919097019), (483, 0.048777611936357795), (1380, 0.04872213453787299), (2407, 0.04872084815929573), (932, 0.048392127828512294), (3445, 0.04835546392672762), (4083, 0.04823144637425038), (798, 0.04806617345216045), (2319, 0.04799269955208652), (1532, 0.04795911612101844), (2299, 0.04794805390000345), (1857, 0.0478512573228491), (1669, 0.047764493425526806), (1900, 0.04766303053665049), (71, 0.0473285021085475), (2925, 0.04731852128960796), (3338, 0.047229123367449596), (3404, 0.04700314713674064), (506, 0.04692333640971848), (649, 0.04691874111886164), (196, 0.04672304098252034), (3009, 0.04661773036130525), (1758, 0.04657621509469959), (775, 0.04655245717294843), (2482, 0.04642677978829734), (952, 0.04625943750662343), (2195, 0.04607637623745854), (4565, 0.046064268846591774), (1360, 0.04584087481025803), (105, 0.04581778922318776), (530, 0.04547647904782941), (4349, 0.045427207161102955), (3923, 0.04539286093342777), (1807, 0.045314773697520204), (870, 0.04517344411307051), (3108, 0.04495893073434686), (358, 0.04493099674816934), (1645, 0.04490240075423459), (2081, 0.044812324466338496), (4103, 0.04471273256910527), (1172, 0.04452612595324701), (125, 0.04444120445885904), (1723, 0.04432456231467999), (2062, 0.044301258254573955), (1001, 0.044298974998649696), (18, 0.04429888537062918), (2409, 0.04416738233784822), (2833, 0.0441280445559082), (4022, 0.04378955185617895), (2914, 0.04360223350599342), (1213, 0.0434883207667827), (2094, 0.04329519902138995), (2830, 0.04320392713218605), (2835, 0.04314874642265426), (3130, 0.04307449167857771), (881, 0.04228231206903865), (2652, 0.04201086478054057), (3991, 0.04193966830681283), (4074, 0.04157512625265269), (3510, 0.0415637721887052), (600, 0.041471600777957814), (2232, 0.04132318564094755), (1683, 0.04125649402441581), (4546, 0.04112220552692199), (4183, 0.04087764450032366), (723, 0.04063640581551345), (3888, 0.04023476703602956), (1276, 0.03968631608260363), (2121, 0.03946748236887729), (1721, 0.039421054186930066), (788, 0.03942055758318664), (725, 0.0392112267285202), (2746, 0.039200662213804686), (4293, 0.03919149278758348), (4449, 0.03914893596029892), (1129, 0.038834330183618294), (3104, 0.03846390569695315), (1519, 0.03813759734584533), (4350, 0.0379881149794522), (4726, 0.03759376796613657), (4064, 0.037506376098772574), (746, 0.03747989666390208), (2876, 0.03738699676198839), (2032, 0.037012513983038155), (3420, 0.03696989877430213), (3547, 0.03657982201919677), (4044, 0.03648418252234586), (1871, 0.03629820496945189), (691, 0.036245815703651735), (150, 0.036190095416098134), (647, 0.03618565625643687), (4440, 0.036162210549367996), (159, 0.03615701884704192), (2489, 0.035919113055427644), (2813, 0.035912131534203494), (114, 0.035869791449362504), (1135, 0.035616211530610155), (865, 0.03531889957631838), (2354, 0.03528113207025518), (4082, 0.03527266910554885), (1270, 0.03518607741661695), (4600, 0.03518485489811041), (1845, 0.03514101251601901), (4392, 0.03513353675443717), (1209, 0.03512141332430187), (3464, 0.03510168076805549), (635, 0.03473322893233328), (784, 0.03451993710937643), (3005, 0.03447301357778183), (3678, 0.03439107857210189), (3054, 0.03397743533944521), (1935, 0.033691995110377806), (1685, 0.03365912918944619), (1966, 0.033437270265428184), (1465, 0.033425710363017745), (3789, 0.033394600753755624), (4006, 0.0333455893536066), (3849, 0.033042869584995034), (409, 0.03299258194206148), (774, 0.032963404760453424), (2587, 0.03293943122273033), (3970, 0.032911977856272624), (1287, 0.03286099707882868), (1982, 0.032823586971646106), (4630, 0.03270723893515598), (3364, 0.032643144627380986), (4700, 0.03260115173326682), (3962, 0.03259137647317859), (4105, 0.032573254929861774), (4710, 0.03249912249528939), (3127, 0.03245506838999261), (1261, 0.03244021671373396), (1813, 0.03240649289899386), (237, 0.03239424600010931), (2101, 0.03231476971953311), (1089, 0.03223877482519493), (2922, 0.03223639491565949), (4324, 0.03217001709277842), (2908, 0.032087848905659064), (1278, 0.03204957101479843), (895, 0.03204637380042827), (1314, 0.0319978682815068), (315, 0.03191130301070767), (3412, 0.031723591958683996), (279, 0.0316512172376485), (599, 0.03154466697558008), (4325, 0.03135960605704449), (1002, 0.031091004315642615), (3422, 0.03092928165345271), (4334, 0.030812396815093974), (1588, 0.03079176567343507), (710, 0.030768853114684427), (1222, 0.030582406569353685), (326, 0.030577959499468146), (2734, 0.03055819690648432), (4096, 0.03053515402714993), (1452, 0.030420379889794173), (3061, 0.0303406092471223), (625, 0.030331235950031638), (1466, 0.03032732062178179), (405, 0.030314181708792718), (2185, 0.03028843658897217), (3334, 0.03028082948878634), (4081, 0.03015020714432539), (2161, 0.030104742292048823), (1691, 0.030073939254050202), (1759, 0.029843488730798083), (1794, 0.029714608715461832), (3068, 0.029660930653235204), (4547, 0.029660309284430537), (4637, 0.029627866207877572), (3546, 0.029563974624059665), (1322, 0.02954057071639031), (2157, 0.02953247200769759), (2797, 0.029470366186393038), (3244, 0.0293948281668483), (616, 0.029372034936652375), (4360, 0.029321243374230907), (961, 0.02925631755729658), (2857, 0.029244996978536022), (2222, 0.02920737759637774), (3271, 0.029173609263385695), (846, 0.028954313744602535), (795, 0.028817149387853843), (582, 0.028723108089341722), (2896, 0.028715051619169284), (2499, 0.02870731109237587), (4217, 0.028700773277928728), (2985, 0.02869102598869476), (1710, 0.028604862789198084), (867, 0.028599597161018557), (3639, 0.028575935660558924), (3644, 0.028511194956571378), (2629, 0.02834357838499062), (273, 0.028302607277501786), (3013, 0.028166701034924344), (1112, 0.02816384055756108), (1576, 0.02814563318872904), (1993, 0.0281368640938083), (49, 0.028127877152592913), (2690, 0.028041261363351774), (3206, 0.027947554581577817), (921, 0.027905853503105104), (187, 0.027905101784443852), (531, 0.027858384013257503), (711, 0.027828974971220832), (1915, 0.02759740489284962), (3039, 0.027589668037836725), (3101, 0.02758543938197082), (2796, 0.02755422652630518), (1878, 0.027553347408171325), (3600, 0.027503827471173005), (451, 0.02737108224937268), (1928, 0.027220315880623104), (3076, 0.027180960506236716), (1829, 0.027178522189765044), (3246, 0.027108054501131938), (4712, 0.02701096636011055), (2479, 0.026886455363783535), (57, 0.02682637951431191), (1487, 0.026809762178013268), (365, 0.026737600216706396), (1489, 0.026621766026295048), (311, 0.026554477514654416), (1486, 0.026516031152017373), (1422, 0.02628878125875074), (2043, 0.026278269897244265), (678, 0.026248303943272988), (4366, 0.026224231585267974), (2836, 0.026202009144114108), (515, 0.02615741624191092), (1766, 0.02614416645231992), (592, 0.02611371329286687), (1149, 0.026067780787047728), (684, 0.026007833306823547), (3395, 0.02597643786582366), (2826, 0.02584814473588912), (703, 0.025776954771549294), (1509, 0.025727103273608852), (4759, 0.02570380028294398), (176, 0.025656371916297337), (4086, 0.02563727174357984), (118, 0.025619500170226867), (2150, 0.025572367744520923), (2851, 0.0255530964375422), (3351, 0.025446283452850743), (2202, 0.025436370743323233), (994, 0.025374224621063722), (1482, 0.02536509357819918), (1409, 0.025346150239915967), (793, 0.025320811610778288), (3189, 0.025296443034196783), (4728, 0.02524029327574837), (3865, 0.02521762763465952), (1563, 0.02520838131083595), (4287, 0.025188881986891693), (82, 0.02513346991437656), (2778, 0.02511347093635338), (19, 0.025099856117708097), (1590, 0.025092780506801325), (1513, 0.02508140016792453), (796, 0.025070623827210637), (1613, 0.02504416048332173), (3861, 0.02503849399907997), (2325, 0.024995334934339867), (4756, 0.024991344713830296), (167, 0.02483819924365853), (1193, 0.024826104605471102), (3162, 0.024704959779626286), (3053, 0.024673217802671576), (926, 0.02464141840277634), (115, 0.02461957006052153), (659, 0.02459817795703218), (1220, 0.024597953095276757), (2427, 0.02447782599844953), (708, 0.024443712295150945), (154, 0.024419158581463755), (2895, 0.02439870407552522), (2431, 0.024383767318698114), (518, 0.02434823458839572), (1611, 0.024332368501690096), (63, 0.024275098166626964), (1008, 0.0242301285789102), (1074, 0.024151266664301695), (2513, 0.024127706864240595), (3312, 0.02412288129591999), (228, 0.024094040718080068), (785, 0.024091577232683258), (751, 0.02400721079765305), (4342, 0.023972584581795867), (4584, 0.023964020566779147), (3396, 0.02395608979268139), (4373, 0.023948801888657875), (2707, 0.023923507258014808), (3504, 0.023915579329266978), (3362, 0.023912036652272515), (3718, 0.023841108119974364), (1514, 0.023794569186644035), (1235, 0.02367909474705425), (4291, 0.02365870454860763), (382, 0.02364798657714558), (1638, 0.023600028659009616), (1182, 0.023567337665556565), (2646, 0.023561209951309427), (3680, 0.023485800199214202), (4451, 0.02347303158647113), (3273, 0.02346065438261848), (1198, 0.023451838422895246), (2139, 0.02344749545904675), (50, 0.02339702012864552), (88, 0.02332942978746944), (3661, 0.023247533356522587), (1368, 0.023230740926055524), (1605, 0.023227847581950005), (3697, 0.023215506509966514), (3989, 0.02318549672293242), (3593, 0.023184569094656486), (1842, 0.0231807293659373), (2763, 0.023137500767901848), (1202, 0.0231169166051801), (772, 0.023098329553419474), (2623, 0.023075873401789983), (2532, 0.02301189175321868), (1267, 0.022902965929491113), (1693, 0.0228919277837044), (3380, 0.022823458457623284), (32, 0.022813539032087885), (436, 0.02280587573793529), (1055, 0.02279903090051334), (4401, 0.022774085037336106), (1600, 0.022738973633202278), (3602, 0.022712430534102768), (967, 0.022504757881578685), (3771, 0.022495535500245037), (1607, 0.022494664943266292), (4108, 0.022492446689575084), (3083, 0.0223822784678966), (3194, 0.02236209638297303), (1921, 0.022314541174156474), (776, 0.022307851379085766), (2263, 0.022290738717424454), (3688, 0.022273129404862795), (957, 0.022262983794889744), (1260, 0.022192429511940823), (3007, 0.022187841441576504), (3511, 0.02218227020304391), (1603, 0.02211455433291633), (1919, 0.022081896436788186), (2074, 0.022055409216011113), (2902, 0.022052604453974313), (206, 0.02203150881484231), (2592, 0.02202474897763215), (1078, 0.021991545431979908), (2954, 0.02198462799284765), (1291, 0.02194579413143592), (3097, 0.021937444114981018), (3519, 0.02190337215320111), (819, 0.021893784950542516), (1708, 0.02189311964714499), (641, 0.02184204104358463), (2790, 0.021837018756266015), (1868, 0.021730576545999202), (2863, 0.0217279391222599), (3987, 0.0217100908630773), (74, 0.021678820898932794), (4613, 0.02157842638084084), (1932, 0.021566207041664853), (2878, 0.021487142885497187), (2527, 0.02147498355302668), (1616, 0.021426024452822493), (545, 0.021418062200590175), (2637, 0.02135987267509976), (3496, 0.021355092433198976), (4189, 0.021244471882151165), (4358, 0.021242949226339954), (2109, 0.021242224876699287), (2533, 0.021194725342029146), (3109, 0.02118828968751956), (1191, 0.021156164287091987), (1379, 0.021132570841317973), (1385, 0.021099557954725977), (2530, 0.021081339353398464), (151, 0.02105635184057825), (1269, 0.021039071919910685), (1237, 0.020968402603967307), (113, 0.02094736614283394), (894, 0.020875096847292673), (3597, 0.02086134999018501), (1142, 0.020842143294662413), (3591, 0.02076391514395101), (850, 0.020751352122757676), (2170, 0.020728021313450456), (1539, 0.020689782252842896), (1639, 0.020640299722332462), (4060, 0.02063446805026235), (3201, 0.02058927973042926), (258, 0.020522792873130438), (3916, 0.020516280435528614), (2608, 0.020503536277722827), (2573, 0.020478868045458093), (3427, 0.020460706523009048), (2092, 0.020437239929039463), (1886, 0.02043554561582773), (643, 0.020420355135948205), (824, 0.020419675480027953), (2463, 0.020415148419618674), (1937, 0.02040061859310279), (272, 0.020377618857180355), (3346, 0.020329526600353053), (1164, 0.020302668236466998), (2918, 0.02030224960239067), (2909, 0.020255749561392866), (1102, 0.020230427535262416), (522, 0.020160569829134233), (133, 0.020116690186847933), (1351, 0.02009859195268753), (1232, 0.020048200442761576), (1969, 0.020043246482399454), (494, 0.01998605713313605), (2713, 0.019968822723574618), (1752, 0.01990674609826115), (567, 0.01987738676726128), (1824, 0.019864822529392857), (2779, 0.0198265300045168), (1021, 0.019816810580734683), (607, 0.01981186179886696), (2342, 0.01977213150585999), (1695, 0.01973418790445362), (126, 0.019595792333081605), (3829, 0.01958865992977836), (1571, 0.019587605281964012), (1100, 0.01956547375961258), (605, 0.01950340171678106), (4066, 0.019465127154172306), (590, 0.019422268394465293), (1408, 0.01937606495678958), (58, 0.01936830492812711), (520, 0.019366681475419693), (3426, 0.019320260324732413), (569, 0.0193085702080977), (1861, 0.019308478235655697), (4277, 0.01930197599797331), (3375, 0.019286408707717834), (1032, 0.019252552326926842), (3323, 0.019251464605780415), (202, 0.019241037560262388), (3896, 0.019183826341463255), (1117, 0.019111970875112932), (3705, 0.01906866937839552), (183, 0.01904766066561467), (2338, 0.019039130055469398), (2457, 0.018956086025866008), (1327, 0.018918418191376973), (505, 0.018899610817766352), (2346, 0.01885873057855593), (3250, 0.01885242768001807), (275, 0.018849766068400966), (76, 0.018847612593279512), (1869, 0.01880434381561705), (2845, 0.01876140606984783), (1009, 0.01869446052048705), (882, 0.018679891079373474), (4661, 0.018679469716706917), (3281, 0.018654988672162098), (4078, 0.018634028917675037), (702, 0.018613375595346364), (4220, 0.018590141884791033), (4356, 0.0185022763889803), (1780, 0.01845149802707308), (254, 0.018281754033978793), (509, 0.018279841492055672), (277, 0.01825641185650128), (2225, 0.018222195020189725), (875, 0.018204491612716242), (3403, 0.01819606452980356), (2761, 0.018134227139573116), (1626, 0.01802667893684165), (3875, 0.01801583376920795), (300, 0.01796493647546208), (265, 0.017866904050243215), (1971, 0.017861482566570858), (970, 0.017855159964485973), (1458, 0.01783567682024349), (2197, 0.017823212968305344), (395, 0.017795659939602786), (1426, 0.01779169304361188), (1870, 0.017781499562095175), (2114, 0.017740995004286796), (1978, 0.017731816904505125), (1975, 0.01768811696680425), (1239, 0.017663029260828963), (1830, 0.017628000383319076), (3437, 0.017580153046650913), (3326, 0.01756732821105323), (1082, 0.017506320762113177), (1635, 0.01748117130373961), (3056, 0.01745744166746935), (136, 0.01741345365496686), (313, 0.01740352077310361), (2820, 0.017401255280455732), (1933, 0.017375045193165725), (845, 0.017364559341209045), (1369, 0.017247669415829364), (3254, 0.017230271513710094), (4251, 0.017216920491844687), (1493, 0.017184866335878103), (1850, 0.017159771489306162), (4459, 0.017148282630993102), (3487, 0.017138105448071546), (2729, 0.017117573323072847), (3393, 0.01711054777603254), (246, 0.01706325266743739), (1930, 0.016976123335722796), (1950, 0.016964548019635223), (1625, 0.016956283227291726), (145, 0.016908785138059327), (3023, 0.01686453252188059), (4375, 0.01684130773500034), (1756, 0.01680903407386058), (3823, 0.016759495593834384), (1706, 0.016737592722204608), (848, 0.016727548406836386), (668, 0.01667170371800668), (963, 0.016661985494229762), (2503, 0.016652420391957502), (2198, 0.016618127663364426), (226, 0.016584252411929488), (1430, 0.016574361518564576), (477, 0.01656697881393502), (109, 0.01653627234325633), (3114, 0.01647837271079244), (2718, 0.01645580674689755), (247, 0.016399928328743003), (1081, 0.01639940688313074), (4751, 0.016315232110169987), (692, 0.016297849934241455), (853, 0.01629320196749921), (3301, 0.016263945256499084), (4362, 0.016240763718680443), (4239, 0.016170801917430797), (3370, 0.016100019682562812), (665, 0.016080634591525884), (334, 0.016039310098626053), (261, 0.01600282115262521), (1421, 0.015989977826492224), (562, 0.01598707271331275), (915, 0.01596047623255635), (2581, 0.015915931376890048), (1508, 0.015801134543675002), (3151, 0.015799842488572514), (979, 0.015761866295615733), (437, 0.015738334665442194), (2859, 0.01572521184007399), (2995, 0.01571988793349077), (2111, 0.015716562497521097), (2663, 0.01568608521408872), (2221, 0.015676416900497595), (3954, 0.015654024119490968), (1677, 0.01565195514495515), (3466, 0.015614686591254109), (142, 0.015601357945432038), (3193, 0.01558096972388364), (236, 0.015579984770658183), (1682, 0.015565053454246441), (307, 0.01555807620238743), (1749, 0.01555673789909068), (561, 0.015539352987800957), (2686, 0.015403126373822153), (1306, 0.015361945859018048), (3698, 0.01535408251915082), (1753, 0.015321765021468606), (511, 0.01529410387174959), (899, 0.015289706852945086), (324, 0.015287527659412594), (3460, 0.015252176208896582), (4537, 0.015236198634046266), (968, 0.015212048210521379), (3439, 0.015181628770652152), (4149, 0.015178080785667807), (407, 0.015130077827956051), (2541, 0.015126302254052334), (1675, 0.01511027593480191), (4040, 0.015103698652896224), (3736, 0.015067933743424522), (1651, 0.015051291546049566), (3622, 0.015039236551577254), (1095, 0.015007517149811111), (2766, 0.014962487277298127), (331, 0.014910774363333865), (501, 0.01489427436465189), (1634, 0.014879655333486962), (2191, 0.014875158468450531), (3754, 0.014770790950923728), (3360, 0.014733364174910186), (3844, 0.014667450666900882), (2012, 0.014647380424624476), (4247, 0.014578289875131304), (3418, 0.01456088386750281), (2702, 0.014557045653034579), (2564, 0.014541208375536473), (4432, 0.014517743659564715), (4468, 0.01448199812730094), (2411, 0.014422143660722385), (1715, 0.014370018055264406), (1565, 0.014354101255364569), (642, 0.014326841250498965), (364, 0.014269474927376126), (1392, 0.014265438654489478), (269, 0.014232361237780242), (3964, 0.014224664032925964), (251, 0.014216343537461592), (4720, 0.01420656263426737), (2020, 0.014148200471902486), (1371, 0.014148182068070551), (177, 0.01413971708059271), (2550, 0.014100741865920731), (3752, 0.014091066255105483), (626, 0.014056330099027738), (3758, 0.013999053784301274), (547, 0.013984255522340268), (3730, 0.013923118199622692), (3821, 0.013910206995338834), (1806, 0.01390495896154777), (2747, 0.013902686866743664), (350, 0.013865847047932107), (3449, 0.013763128851328917), (2563, 0.013717835613867968), (2124, 0.0136497048652049), (433, 0.013567677516940796), (536, 0.013554678928703377), (3313, 0.013541651130343883), (4454, 0.013503561257670505), (4052, 0.013461074929877435), (925, 0.013458500985060837), (2982, 0.013320436229991225), (1660, 0.01330761571989787), (3018, 0.013301185963933893), (3599, 0.013298592722219268), (2357, 0.01328786980686706), (890, 0.013283453968641865), (4746, 0.013275727949274709), (3229, 0.01322789950891632), (839, 0.013224199093619743), (4486, 0.013201695203789322), (2744, 0.013200143176208328), (309, 0.013192464557693207), (2078, 0.013191379015044635), (1560, 0.013189826525542351), (2794, 0.01318589319953638), (2648, 0.013133272078373243), (377, 0.01312306872048166), (4388, 0.013097842764704572), (1337, 0.012997791511900135), (3303, 0.01296125913883663), (1417, 0.012947357100914086), (2867, 0.012935178307890548), (4210, 0.012918812423256265), (2493, 0.01291805344841655), (1599, 0.012895549526866754), (2122, 0.012857932490174563), (2193, 0.01285247410414638), (1741, 0.012839664562043237), (4226, 0.01279609238024551), (2340, 0.012768165839259887), (1418, 0.012749443431309083), (807, 0.012739135483540841), (4654, 0.01273330751277875), (2046, 0.012720736263353996), (2979, 0.012716507975456271), (1133, 0.012709225171044468), (4675, 0.012688727280418125), (1517, 0.012680617385723486), (2019, 0.012649254087266923), (3477, 0.012629582180622267), (1837, 0.012611605144888793), (1907, 0.012598992572800213), (1411, 0.012585912382952013), (2569, 0.012585296285619664), (3584, 0.012570465128952314), (1913, 0.012569042591242667), (1549, 0.012563616919884222), (973, 0.012548298490965941), (3392, 0.012529415094003023), (3090, 0.012524589627888808), (2398, 0.012522788920175673), (1614, 0.012521521473264843), (169, 0.01251365082702211), (2329, 0.01249277899855886), (2322, 0.012406745622008572), (4180, 0.012369050768472783), (415, 0.01236293882880116), (546, 0.012288822303967398), (3141, 0.012270856455920933), (521, 0.01226281873853937), (1561, 0.012242290739917621), (4607, 0.012192724910717205), (2143, 0.012177395421421619), (2309, 0.012166707319903056), (1744, 0.012150476867386356), (2194, 0.012139591642073523), (1469, 0.012117253297919484), (2068, 0.01210276296491746), (1738, 0.012091203648288886), (1818, 0.012069521176697256), (53, 0.012069090509346611), (4246, 0.012059412072891386), (422, 0.012034013667574082), (4404, 0.01195830935249682), (471, 0.01189415845455448), (3909, 0.011883168431295249), (2685, 0.01187873700215055), (3386, 0.011859770844859539), (3332, 0.011844916809116719), (532, 0.01182700120266718), (630, 0.011826625607035983), (2183, 0.011810875219269297), (589, 0.011803925939596196), (553, 0.011795555579033796), (2284, 0.011767902887117574), (2399, 0.011756888843660888), (4618, 0.011729832192272386), (2443, 0.011706424927019532), (1157, 0.01168625223616108), (1420, 0.011657105835347997), (14, 0.011654726145148734), (2660, 0.011639303684653896), (4542, 0.011572231359507752), (2236, 0.01155757825128489), (4134, 0.01152298068633537), (1719, 0.011494727713868329), (2262, 0.011474541118406994), (4029, 0.011470571926336721), (3580, 0.011467635653855878), (4062, 0.011419749994493703), (3633, 0.01140699362080885), (383, 0.011351336084147168), (1025, 0.011349999391126103), (777, 0.011331893052135666), (339, 0.011326832696725788), (3485, 0.011317932169501605), (2056, 0.011279143433508228), (3886, 0.011240875532765131), (3750, 0.011216349012448005), (2829, 0.011214085537574728), (4434, 0.011212504717461335), (3824, 0.011171480017370262), (3803, 0.011143610714536688), (2644, 0.011137287803191868), (1348, 0.011094209120021547), (1211, 0.011090886970171451), (3859, 0.011071044512312804), (3702, 0.01103000017899156), (2270, 0.011004661690538339), (1698, 0.011001497455069708), (1914, 0.011000397092811628), (3320, 0.010993340661194555), (357, 0.010990902420213026), (1212, 0.01098773902988111), (3238, 0.010960909633151585), (3975, 0.0109443858186864), (1992, 0.01093497643207312), (1899, 0.010911696289087058), (443, 0.010905226132061314), (60, 0.010895245839340876), (3506, 0.010874202715355743), (3579, 0.010871716135248713), (1178, 0.010819705059579259), (770, 0.010810946695510823), (2497, 0.010810188852263248), (175, 0.010754852271674385), (2555, 0.010721638712425261), (4646, 0.010705595207951057), (1214, 0.010679888300088362), (338, 0.010678828390253161), (4109, 0.010590776950457402), (4307, 0.010585503799435634), (4302, 0.010552894478910039), (2485, 0.010551783711628892), (898, 0.010544106001099916), (2508, 0.010542523194384985), (2372, 0.010484076560919944), (4605, 0.010472909602279314), (2913, 0.010446878601234286), (715, 0.010404171784467979), (4271, 0.010389708579762418), (366, 0.010386784258577215), (4556, 0.010351778192798982), (1043, 0.01030330238519729), (3575, 0.010289631805428644), (1674, 0.010285057296197374), (3411, 0.01026915744703615), (1646, 0.010247982902406885), (3942, 0.010242385070085605), (8, 0.010239402349713229), (3976, 0.010223970684746545), (2059, 0.010208133527453627), (2966, 0.01020726422588439), (4028, 0.010205453384782601), (4518, 0.010192914882664621), (510, 0.010180866289058699), (1586, 0.010175483978088753), (3502, 0.0101630679460087), (3571, 0.010148502122942007), (4698, 0.010130430512714644), (3901, 0.01012623635638508), (3095, 0.010122306267173456), (609, 0.010105673592298284), (4426, 0.010099361057642952), (4539, 0.010071248755225512), (4701, 0.01000730001315853), (2719, 0.010005700944010073), (3483, 0.009982682637208064), (1343, 0.009981513106135492), (3406, 0.00995031181810378), (4645, 0.009948228336785235), (3535, 0.009942616018056181), (2273, 0.009910409920466583), (2088, 0.009878205021666567), (2640, 0.009865043646026627), (1968, 0.009860631192623733), (4412, 0.009835850804842108), (1940, 0.009813535171094661), (2911, 0.009812599237308015), (1083, 0.00980986626879395), (3574, 0.009782039835579024), (2373, 0.009761345240652296), (972, 0.009755786686882387), (3440, 0.009755750279918088), (3689, 0.009752242980554294), (369, 0.009747646920964935), (606, 0.009735995580221441), (4316, 0.009714227315731887), (4750, 0.009693259135840203), (2276, 0.009684736269841215), (1294, 0.009678922670337643), (4331, 0.009671919880099949), (3701, 0.009665873893774244), (1254, 0.009663030702150589), (2172, 0.009655386950487895), (4527, 0.00965455788385625), (4538, 0.009654181443235215), (2955, 0.00962806774511039), (2785, 0.00961358202143468), (2439, 0.009609760154043016), (2952, 0.009609475151830174), (1122, 0.009598967727998054), (2180, 0.009598050781247125), (855, 0.00958732026482467), (2210, 0.00958613457557713), (1386, 0.009585473251855554), (714, 0.009539935166434803), (4150, 0.009531282602592086), (1277, 0.00952450413910292), (1335, 0.00952228808631005), (4389, 0.00951342125258164), (2144, 0.009510345590012117), (343, 0.00949990801768012), (2400, 0.009496937179586096), (2067, 0.009485094277242836), (4699, 0.00947367016415534), (4435, 0.009473388033360742), (3733, 0.009452262907584438), (3971, 0.009439211067472463), (1566, 0.009435978433141904), (3470, 0.009424687037175302), (741, 0.009423783837059442), (241, 0.009405245964237122), (2683, 0.009405052055099795), (4016, 0.009402450098204548), (2921, 0.009395316952444225), (1612, 0.009388725946612364), (2115, 0.0093815316809617), (2853, 0.009381169009180007), (1158, 0.00938097725134681), (1391, 0.009367537962481368), (181, 0.009365647301617602), (4120, 0.009359351979624163), (1962, 0.00935392117101382), (2174, 0.009345586412737429), (4593, 0.009336694164611145), (1498, 0.009334858862570076), (1159, 0.009330804592248849), (2733, 0.009327159744877328), (4337, 0.009323080148767518), (1500, 0.009315750303828224), (4549, 0.009314574975804046), (3237, 0.009312510366032044), (3001, 0.00930484348771752), (1666, 0.009297738800401321), (1550, 0.009297036391100447), (2416, 0.00929241070074569), (3906, 0.009276383523757058), (3647, 0.00927634111971633), (4227, 0.009269129425954929), (1110, 0.009267520470795347), (1319, 0.009250206072613985), (2980, 0.009246866509937456), (1696, 0.00924548457732834), (2314, 0.009236771773180068), (2910, 0.009224924525186516), (450, 0.00921343069451104), (3831, 0.009207595002001457), (1167, 0.009198921855772929), (3802, 0.009194054007415657), (3709, 0.009189640275959034), (2279, 0.009186535892887895), (100, 0.009183249168737338), (2103, 0.009180694500779935), (2229, 0.009176018925484043), (4240, 0.009166149488447682), (4133, 0.009155498119076453), (0, 0.00915308814893568), (676, 0.009140621649439807), (1056, 0.009135543787349744), (336, 0.00913453503856812), (1044, 0.009133499029082778), (3516, 0.009131828187076243), (1265, 0.009125787304138655), (1511, 0.009117666783799714), (303, 0.009111414717779848), (3240, 0.009111041677642368), (3938, 0.009103968479834254), (2027, 0.00909472150646352), (1076, 0.009088437075288273), (4595, 0.009085562571882668), (2599, 0.009075094791652192), (3092, 0.009070967845382307), (3086, 0.009070511976167699), (310, 0.009058641355869862), (4090, 0.00904781625103222), (1661, 0.009041922928374321), (341, 0.009040846477973898), (1724, 0.009040787643426959), (430, 0.009037431662259838), (1033, 0.009037371319223346), (420, 0.00902882625268484), (1478, 0.009028609815356846), (3768, 0.009022533385887039), (1027, 0.009015748570712285), (991, 0.009013074006517163), (1057, 0.009009545655486555), (4167, 0.009007203477803512), (3390, 0.008983279177281369), (3131, 0.008983195694956984), (1273, 0.008973186644126548), (2949, 0.008971517581608883), (164, 0.008971509555168148), (1119, 0.008964709107887355), (3036, 0.008963984341436717), (1375, 0.008961185941184908), (2965, 0.00895629986822707), (3235, 0.008951033967836296), (2892, 0.008949841803560388), (2630, 0.008942840103565856), (2751, 0.008940928535166806), (3891, 0.0089286291520773), (1031, 0.00892739489435486), (4437, 0.008927327021651043), (1407, 0.008923041497167918), (2679, 0.008921799981110942), (960, 0.008911249426124649), (748, 0.008909769975689676), (818, 0.008907078293878852), (239, 0.008906192932063005), (3724, 0.008903091176369345), (763, 0.008901038660772175), (3014, 0.008900680630812676), (3401, 0.008899902098656608), (1116, 0.008895248417942425), (3048, 0.008894410961656371), (1904, 0.008879721662064056), (1181, 0.008876728908650645), (1531, 0.008871741864478928), (1859, 0.008853778273346652), (4695, 0.008848996149628115), (1916, 0.00884823678220098), (3057, 0.00884481358282178), (1449, 0.008839527068195723), (1104, 0.00883775565936173), (734, 0.008829979681892254), (1189, 0.008826467338557938), (1643, 0.008815169680219916), (2552, 0.008814962411312514), (1835, 0.00881000719673443), (1271, 0.00880966365829831), (1233, 0.008797638440941367), (1192, 0.008797279695167822), (229, 0.008790041940339147), (4639, 0.008786038831100676), (598, 0.00878465937606328), (944, 0.008784259433292836), (3769, 0.008779233368896746), (4621, 0.008774124382621892), (580, 0.008774050326952188), (1107, 0.008772263801462692), (46, 0.00876320184533534), (3488, 0.008753622537176807), (516, 0.008752247617730696), (2907, 0.008744246445075725), (1650, 0.008742787723028767), (2556, 0.00874257838891002), (1534, 0.008738488847947113), (1536, 0.008731387373143417), (517, 0.008725724412367906), (1506, 0.008722199056061192), (3666, 0.008718236003902632), (3995, 0.00870526378605352), (3913, 0.008704297042807702), (4716, 0.008702313471388034), (35, 0.008699843089096979), (355, 0.008693889338198901), (669, 0.008675196877207194), (121, 0.008665503189633168), (1636, 0.008651204899750542), (3191, 0.00864424044273192), (4672, 0.008629948392055142), (3446, 0.008623189620763394), (3179, 0.008621857729593745), (4377, 0.008616964098636331), (3742, 0.008612117852888193), (3530, 0.00860757561414433), (37, 0.008607044638805251), (4638, 0.008600608241333577), (1431, 0.008597928140401391), (199, 0.008596966931537811), (3522, 0.008593510184719006), (934, 0.008592855131509534), (2654, 0.008592624494299074), (1003, 0.008582490062850357), (2017, 0.008569094851431569), (1680, 0.008562846733798691), (3815, 0.00856052500943658), (1538, 0.008558072649270708), (1250, 0.008557996261177545), (2073, 0.008557476810681678), (3810, 0.00855594378547749), (1970, 0.008554959167255422), (1865, 0.008553383826924667), (1503, 0.008548432202563114), (2055, 0.008545211485461522), (740, 0.008544239952507787), (170, 0.008542690952615284), (2295, 0.008530041000769914), (3576, 0.008527890794665172), (3833, 0.008527045782516656), (1809, 0.008520907704823139), (2278, 0.008518288280389934), (811, 0.008512635859792474), (2991, 0.008508359963015313), (1366, 0.008504837878553148), (1998, 0.008497858558894669), (981, 0.008488178786298328), (3336, 0.00848630760492097), (3002, 0.008485348291960118), (1985, 0.008484468234785476), (1316, 0.00848389613773173), (4583, 0.00848354026843163), (936, 0.008483387737972024), (1510, 0.00847661756552482), (597, 0.008475402579749764), (158, 0.00845733062794565), (1515, 0.008451255580175902), (4755, 0.008447485058108654), (4517, 0.008447333889265938), (3111, 0.008438602067129744), (552, 0.008431115758690377), (1223, 0.008429021209688794), (4683, 0.008424822028142652), (815, 0.008423287146213982), (2793, 0.008421348023766876), (2534, 0.008411835578180076), (1873, 0.00840485506440143), (1977, 0.008394598839512235), (1384, 0.008391387888264365), (1378, 0.008389413457810503), (333, 0.008386385903598777), (2773, 0.00838275772548865), (1163, 0.00838174571907965), (2246, 0.008380767179860697), (4057, 0.008380469085777645), (47, 0.008368729982747404), (3330, 0.008367949682878418), (4623, 0.008366225072283946), (619, 0.008357629517207825), (439, 0.00834712997382555), (4188, 0.008342782304659428), (3239, 0.008341760961528106), (4708, 0.008332411051156586), (2839, 0.008329886450044248), (834, 0.00832818233509706), (4665, 0.008327774422291418), (4278, 0.008324950091598777), (2480, 0.008324377758295627), (1891, 0.008323690469633913), (81, 0.00831926889771411), (2502, 0.008318596276313308), (1295, 0.008314236988042208), (1776, 0.008303426172119169), (1283, 0.008291475980566811), (1852, 0.008280089639024593), (756, 0.008279219139626013), (4668, 0.008273415853848654), (1272, 0.008273102952954739), (1573, 0.008271909209971928), (1927, 0.008271820350615808), (1090, 0.008271614634877366), (2498, 0.008270726701042374), (3746, 0.008265602957420525), (3195, 0.008262997448900978), (3793, 0.00825454077015477), (1622, 0.008253809657213538), (1551, 0.008252456550423948), (634, 0.00824844336631363), (1097, 0.00823456043957945), (4157, 0.008228180240170207), (1882, 0.008226820306091133), (633, 0.008225786219950475), (924, 0.008212584700882892), (1153, 0.00820665828727896), (4352, 0.008204521793934995), (4232, 0.008196684278857717), (557, 0.008182223157540249), (2759, 0.00818172198010933), (2824, 0.008180301173654479), (4615, 0.008179277232594229), (2520, 0.008173316364522005), (1315, 0.008167210037732412), (2178, 0.008167138868897278), (3994, 0.008159680413582204), (2942, 0.008158611641510577), (1953, 0.008158379166367963), (3583, 0.008152957102434561), (2057, 0.008142886767103924), (1146, 0.008118630207342398), (556, 0.008116538412913704), (2828, 0.008116150359484832), (1347, 0.008110217969720952), (2245, 0.008109949768856642), (3720, 0.00810287470395981), (2432, 0.008093402152340301), (3872, 0.008091107354913113), (3958, 0.008085402531695473), (2291, 0.00807765361439727), (3832, 0.008077254267270207), (1864, 0.008075957802285469), (3664, 0.008070867476437182), (1996, 0.00806785043306972), (2369, 0.008063055369986676), (4344, 0.008059544584425002), (779, 0.008059483483560212), (1707, 0.008055475356354948), (1632, 0.008050497570697661), (496, 0.008049500931315203), (2680, 0.008048570238627787), (3126, 0.008041098000145174), (1825, 0.0080318971804549), (3985, 0.008026768817252604), (1743, 0.008025363957054932), (1633, 0.008023050784377607), (1207, 0.008021598383925643), (4614, 0.008020192665472915), (3105, 0.008017820548610933), (1218, 0.008010135028588111), (3122, 0.008010049758304442), (2865, 0.008008503133704138), (1046, 0.00800813587542066), (3881, 0.008007253000583723), (2618, 0.007996848257461872), (2736, 0.007995037232217592), (4085, 0.007991617340704164), (3668, 0.00798040149706286), (2762, 0.007978846747685541), (4441, 0.007976151044574224), (2619, 0.007967809950284599), (1630, 0.00796705833990773), (1631, 0.007966260253739641), (1910, 0.007965119281938418), (1428, 0.007959405357781082), (835, 0.007938923375066874), (1647, 0.007937081728022601), (3853, 0.007928270464191329), (13, 0.007926403342637067), (78, 0.00792537944812176), (3734, 0.00791940314144597), (3347, 0.00791339377063049), (1177, 0.007909569351164113), (3433, 0.007906125483613765), (3609, 0.007895189144684902), (2899, 0.007893091308846552), (1451, 0.00788698658132756), (1041, 0.007881624824171667), (4548, 0.00787095727366453), (4159, 0.007869195590806859), (1556, 0.007864374175601884), (833, 0.007858121046007143), (4585, 0.007856784980740066), (3252, 0.007856270780350375), (2496, 0.007852237985939457), (3788, 0.007848765137556958), (810, 0.007844808197217302), (2682, 0.007833886664512615), (1662, 0.00782572359300043), (1649, 0.007825266087496245), (1819, 0.007822553103384656), (2969, 0.00781981397863137), (3280, 0.00781730851940707), (1555, 0.007816568720676672), (2827, 0.00781076472152793), (4697, 0.0078049046331019264), (1480, 0.007804417820212497), (3550, 0.007799509554013209), (3118, 0.007791912957846048), (787, 0.0077906159843319596), (2844, 0.007787015502054521), (1562, 0.007777330725634406), (1623, 0.007775214683885456), (240, 0.007771858376636229), (248, 0.007767739707627765), (744, 0.007765004352785457), (3751, 0.00774943858081962), (1296, 0.007749221513322437), (4063, 0.007748911811887219), (4165, 0.007743152961532206), (558, 0.007742604457329483), (1667, 0.00773831774195225), (3528, 0.007734693578666471), (1464, 0.007723208868807657), (1197, 0.007720131512290795), (2984, 0.007708808352792841), (411, 0.007706918778617034), (359, 0.007705557230381667), (2110, 0.007703937848799178), (381, 0.007700698368758955), (160, 0.0076962325769295336), (4525, 0.00768897826062245), (1098, 0.007688313084400077), (354, 0.007683927319047229), (3738, 0.007680059589616255), (1624, 0.007672344556958168), (124, 0.007666993231990475), (291, 0.007653518046934207), (1990, 0.007649730594722439), (435, 0.007645233144593002), (1840, 0.007639630590321467), (4193, 0.007635955321396286), (3278, 0.007634843693372332), (2596, 0.007629808900118613), (3474, 0.007629665593761859), (337, 0.0076208636028278365), (148, 0.007619563679429105), (225, 0.007609343683337801), (1595, 0.007598622257562734), (1795, 0.007592219601201881), (4599, 0.007589495378636365), (4290, 0.007578321079123406), (2031, 0.007576888299148149), (893, 0.00757137853139035), (1817, 0.00753525388051008), (4106, 0.007517320163317245), (1144, 0.007516957109213175), (2000, 0.0075133880188960655), (294, 0.007507106117893111), (2893, 0.007503149310279395), (1201, 0.007493259180488323), (191, 0.007491599282333993), (4582, 0.007489618400768329), (2929, 0.007488685306462127), (559, 0.00748051391365803), (3495, 0.007466327369891754), (2871, 0.007465928758204561), (527, 0.0074641392386728175), (737, 0.007462607940959725), (1467, 0.007417256850375864), (2617, 0.0074028702475201266), (2304, 0.007392594489238394), (2906, 0.007392228625149851), (222, 0.00739030525400679), (2852, 0.007388757774604046), (3160, 0.007375455530881273), (3619, 0.007366762669771341), (3152, 0.007357463606854022), (3950, 0.007354892171137622), (4532, 0.007349978218370574), (1109, 0.007336631172777382), (1925, 0.007329861820463627), (3394, 0.00732262181242231), (3852, 0.0073161159230632836), (3192, 0.007309357541786572), (4385, 0.00730816730007106), (376, 0.007293797624238098), (3444, 0.007293261726704903), (2662, 0.007292288535672706), (4026, 0.007289750360899847), (2951, 0.007289179755792488), (4488, 0.007279495076447484), (1559, 0.007266871629880151), (1699, 0.007264635005093389), (99, 0.0072617311485721845), (1863, 0.007251615263837774), (1838, 0.0072360148884497025), (2474, 0.007233634809928668), (4158, 0.007209520106932209), (3667, 0.0072084072135498055), (2801, 0.007202767048546187), (3279, 0.007194892344903291), (1745, 0.007186788516049997), (1627, 0.007177432514246237), (3731, 0.007160606964236203), (2152, 0.007140190082546177), (2776, 0.0071260274446488), (1359, 0.0071096724078978345), (452, 0.007101179450150833), (4094, 0.007090823848954325), (617, 0.007089121044788707), (4347, 0.007080203828739477), (2636, 0.007078503085761751), (1279, 0.007069368846477152), (296, 0.007066390569309456), (413, 0.0070651737335463375), (1535, 0.007060497362839257), (2151, 0.007054333814102961), (3973, 0.007044456987079926), (1648, 0.007041024748203119), (155, 0.00703561644935276), (3297, 0.007030417532243231), (3934, 0.007026045437815176), (1951, 0.007019856005100945), (3205, 0.007013225327085866), (1342, 0.007011540281513067), (456, 0.0070099962877538495), (4233, 0.007007823054358536), (2566, 0.006994965162938354), (2610, 0.006992351419685363), (3484, 0.006982800588716596), (1893, 0.0069785112954783785), (344, 0.006958780352175503), (4513, 0.006945736509260188), (752, 0.006923797133840557), (3940, 0.006922707900734353), (211, 0.006915804239856339), (3480, 0.006884746592104353), (2148, 0.006857870675580248), (1210, 0.00685595100565365), (2106, 0.006839811050726283), (2726, 0.00683197934422865), (4628, 0.0068291609140551995), (3265, 0.006818506494127377), (163, 0.006815496235848924), (778, 0.00680908866214309), (2234, 0.0067954824237395585), (3016, 0.006792353652405386), (4626, 0.006788537345981203), (7, 0.006773012397846129), (1585, 0.006770600330054383), (3944, 0.006768375579705374), (953, 0.006760526481117393), (1395, 0.006758747417085146), (768, 0.006749720841374026), (2732, 0.00674778256151551), (4674, 0.006743843391871648), (3182, 0.006740008057523864), (108, 0.006708033780382841), (3471, 0.006676123671727619), (2335, 0.006674871740679073), (1488, 0.006633046608039041), (1297, 0.00662195222549364), (3565, 0.006548079719709837), (3764, 0.006537967200227437), (1329, 0.006529168265369993), (1888, 0.006499506613438709), (2973, 0.006489359943687732), (3447, 0.006465288825748438), (1948, 0.00646052353667669), (3458, 0.0064594481654406816), (3585, 0.006448695829519891), (453, 0.006420562586954229), (1592, 0.006416935941739243), (4719, 0.006407260336111059), (3890, 0.006401109880004034), (4414, 0.0063635520909078504), (3352, 0.006362716226720955), (77, 0.006328236540344152), (3309, 0.006318028753801526), (2823, 0.006264288260506859), (1106, 0.0062505531167627686), (3077, 0.006248302749194997), (4012, 0.006244483644888963), (3328, 0.006197162638126117), (3319, 0.0061861825288304995), (1180, 0.006162875253656648), (3147, 0.006159526191464287), (24, 0.006157947087164666), (3137, 0.006140927944014608), (978, 0.00611985679298825), (2584, 0.006100727003955804), (416, 0.006063101361360868), (3098, 0.006010636713743879), (583, 0.00599813952707731), (1816, 0.005964234229982509), (1690, 0.005961156830829339), (2145, 0.005876182409989416), (2118, 0.0058638454971493455), (3914, 0.005791646932599531), (2523, 0.00571783227913308), (3630, 0.005710635002128807), (1309, 0.005662670477414879), (4018, 0.005639328425181889), (2737, 0.005531245991348823), (2597, 0.005462863931420677), (4498, 0.005422308080531179), (2678, 0.005387770392143151), (3552, 0.0053804573312752), (3475, 0.005377581129996014), (2701, 0.005354172178388755), (2841, 0.005266301195865441), (4571, 0.0052568142745196295), (3178, 0.005230449564379046), (3115, 0.0051500559580503315), (2703, 0.005121174966212906), (3512, 0.005072845289732615), (4223, 0.005070845783301809), (4555, 0.004985945712449369), (3088, 0.004919371126810854), (2669, 0.0048923958244544005), (2657, 0.004845832521700621), (764, 0.004828136263401388), (2529, 0.0048022253695454604), (2684, 0.00479083200976432), (2379, 0.0047743629319053635), (2490, 0.0047681634202256665), (2659, 0.004765289876690122), (2312, 0.004762825372504435), (2764, 0.004713169866758685), (4007, 0.004704005577430672), (2858, 0.004689063550412779), (2137, 0.0046888017972643616), (2891, 0.004686031075767457), (3139, 0.004683796279008672), (996, 0.004668190332465131), (4480, 0.004657979362788519), (2722, 0.004644154364521319), (2818, 0.004632682603556095), (3040, 0.004619970231982556), (2500, 0.0046156679968782964), (3166, 0.004588873254811772), (3266, 0.004576321611666813), (2395, 0.004576110275726055), (3796, 0.00457549769676273), (3142, 0.004573906298417776), (3949, 0.004547543671345891), (2537, 0.004538212556059374), (735, 0.004517360128461946), (2667, 0.004507896523053216), (2404, 0.004499627281360614), (3042, 0.004482410528538776), (4115, 0.004463751211123263), (2990, 0.004453423727597564), (2731, 0.004440634324870053), (4222, 0.004436778170796822), (3204, 0.004428472455337078), (3479, 0.004418026625890651), (4484, 0.004410774644754514), (1939, 0.004390367378088501), (2281, 0.004388957979007555), (4198, 0.004368242692992281), (3800, 0.004364593820389516), (2483, 0.004362843610117169), (2715, 0.004355145168897856), (2832, 0.004341524788830338), (2536, 0.0043215076421960225), (2948, 0.004308133212371564), (2199, 0.004306355130591546), (3892, 0.004300551422955252), (3282, 0.004290265653640181), (2228, 0.004281679182851276), (2928, 0.004271881802683311), (4166, 0.004270934449693262), (3715, 0.004268861759210672), (3217, 0.004263131227376286), (4084, 0.004253890700944157), (2941, 0.004251401860697749), (3078, 0.004251049007286639), (2282, 0.004250403170672345), (391, 0.0042369479176641136), (2838, 0.004227811339062344), (1208, 0.004217664001648617), (2875, 0.004204643878894125), (4102, 0.004200411783459277), (2455, 0.00419898359383183), (3740, 0.004186755973713929), (3936, 0.004185044533895561), (2656, 0.004176920497991128), (2983, 0.004175205729199265), (2600, 0.004173731912666329), (3087, 0.004173646950813739), (2423, 0.004169157898302727), (948, 0.00416543445731642), (3988, 0.004164049792131504), (2543, 0.004151027864342542), (2308, 0.004140115808008028), (3249, 0.004137614607782971), (2939, 0.004120283654897313), (3671, 0.0041179757776385545), (4721, 0.004117372570404889), (4058, 0.004114867167968254), (3616, 0.004113886613044276), (3592, 0.004113042604357647), (3357, 0.004112132120751821), (4562, 0.004109753071541574), (2515, 0.004107187690628609), (2834, 0.004104261611574109), (4199, 0.0041040511695997995), (3537, 0.004103324938524061), (3577, 0.0040883947772058764), (2363, 0.004088259648102506), (3922, 0.004083893231719646), (2730, 0.004064687422564057), (3074, 0.004058810209402381), (842, 0.0040451083301036705), (2488, 0.004042991097829041), (4725, 0.004038435632706154), (2077, 0.004034554847904334), (4147, 0.004028169156281828), (3544, 0.0040269339341679556), (3089, 0.004019445118331426), (4631, 0.00401735423752777), (3020, 0.004016129201624558), (4127, 0.0040156310722141075), (3554, 0.004004661380715503), (4514, 0.004001506859101629), (2781, 0.003986824264518495), (3257, 0.0039862233394282335), (3203, 0.003984192779556913), (2756, 0.0039825102254042975), (2727, 0.0039790012308421755), (3413, 0.003973550482054786), (4408, 0.003971899558365905), (368, 0.003970969563590867), (1941, 0.003959521900568958), (2434, 0.003954898728583068), (4570, 0.003954601513917168), (4506, 0.003949693599528873), (2351, 0.003948736986729562), (4483, 0.003946367830151341), (4190, 0.0039455048406359765), (3996, 0.003944434881789911), (1790, 0.003943688000415034), (2368, 0.003942951612606596), (2333, 0.003938143779071945), (4204, 0.003937489944743615), (3686, 0.003932845857726874), (3017, 0.0039305469166033636), (4341, 0.003924244723459442), (1049, 0.003922772198183346), (2009, 0.003918196760840806), (461, 0.003917628720250105), (1615, 0.003917627897971189), (3308, 0.003916532711409678), (2986, 0.00391309220154777), (3610, 0.003907242048222085), (4023, 0.003906813320718631), (4717, 0.003906273963997956), (2769, 0.003904766875492907), (4711, 0.0039045211728934), (2738, 0.003904031188046084), (431, 0.0039014481793187405), (955, 0.0039006160016936235), (3763, 0.003898814731909756), (904, 0.0038942569790094326), (2570, 0.0038936551855409908), (3621, 0.0038927924543926146), (153, 0.0038881891337248166), (3324, 0.0038879088677441433), (4633, 0.00388786973412978), (1792, 0.0038877171847665265), (1187, 0.003886825539667278), (4285, 0.0038822437389172087), (2720, 0.003877294409329582), (2635, 0.0038763053746450663), (1169, 0.00387179591143411), (2846, 0.0038709430520019513), (3931, 0.0038699418617613285), (4031, 0.003867237275686467), (2468, 0.003865331211399546), (2158, 0.0038572112886181465), (3256, 0.003856372853843058), (3172, 0.003852083407887656), (2320, 0.003845864149918087), (2696, 0.0038456602015946935), (1947, 0.0038403856886183485), (4346, 0.0038380660486820894), (2924, 0.0038366623735626884), (2261, 0.0038346383249816913), (3190, 0.003833413369896697), (905, 0.0038268822951778945), (3408, 0.0038256900273765295), (4010, 0.003817205299608367), (3337, 0.003817157522067864), (3866, 0.0038133415593579966), (2403, 0.003812891697788613), (679, 0.0038126308665941233), (4650, 0.0038125027291995815), (3921, 0.0038120524998945735), (2872, 0.003808058418741134), (1321, 0.003807396971813227), (508, 0.0038038715514893064), (4507, 0.003799845329441126), (2478, 0.003797722319015609), (2187, 0.0037967962827521635), (760, 0.0037951080698293248), (847, 0.0037936269926488976), (3858, 0.003793607384041707), (2676, 0.0037934828015287877), (1656, 0.003792826657721042), (2510, 0.003792258930514102), (1507, 0.003788396191440805), (3851, 0.0037877067163899236), (3759, 0.003787575663884686), (4496, 0.003786589131861177), (985, 0.0037843420827749336), (2305, 0.0037836462584016893), (38, 0.0037806421021200115), (2486, 0.003777095607890681), (4295, 0.003777095055510133), (1424, 0.0037768978568915074), (2079, 0.0037765154845043787), (4117, 0.0037763881770348107), (3791, 0.0037748413040293682), (4335, 0.0037681451493966926), (3772, 0.003764727844780628), (4121, 0.00376264503778718), (3253, 0.003762030287430721), (2223, 0.0037614553968692626), (2302, 0.0037575400272802473), (2873, 0.0037573860987195873), (2339, 0.0037573738359154107), (3649, 0.00375297793085728), (4317, 0.003751364613299392), (4737, 0.0037510310020811306), (998, 0.0037502882237175823), (4460, 0.0037499472586330442), (2138, 0.0037494937326731544), (1437, 0.0037486461345452994), (999, 0.003747218874187129), (3383, 0.003745916729423833), (4452, 0.0037418387925647876), (3820, 0.003739997486851456), (3992, 0.0037395198834059796), (1999, 0.0037369506305953), (2518, 0.003734642537444329), (3168, 0.0037251502340410665), (3373, 0.003723454323841683), (139, 0.003711731518307791), (1311, 0.0037113232499933115), (40, 0.003710988272209917), (2672, 0.0037079709744527864), (2810, 0.003707649287286047), (1594, 0.0037039446633554086), (2164, 0.003702857913720024), (2799, 0.0037026854634483477), (3146, 0.003700390538649137), (3221, 0.003700090393776564), (4453, 0.0036937450410569096), (4580, 0.0036916206380179636), (4051, 0.003690794611520754), (2381, 0.0036884268059549207), (3080, 0.003687430995440658), (2384, 0.003684471375805472), (2209, 0.003683003679355135), (2782, 0.003682576769471083), (2218, 0.0036778311895008346), (4706, 0.00367538199296202), (3003, 0.0036749945975514784), (4259, 0.003674653331354908), (4113, 0.0036744533730570872), (1923, 0.0036740748348633345), (2843, 0.0036736470538743537), (1836, 0.0036731257438971736), (3808, 0.003673088596009919), (3681, 0.0036724861026693374), (4463, 0.0036720833064994023), (2108, 0.0036718564218644863), (687, 0.003670334467175594), (3062, 0.003667679067978454), (2535, 0.003666642898133234), (3371, 0.0036646794797642697), (3572, 0.0036626418380489626), (1658, 0.0036626297993772694), (385, 0.0036622052960904932), (3735, 0.0036607728599000076), (3652, 0.0036553821561939653), (4003, 0.003654389199656884), (362, 0.0036525414319690543), (2049, 0.0036471151931127517), (4263, 0.0036436896335993924), (982, 0.003639162899203855), (1786, 0.003638468813685908), (2930, 0.0036373048049342252), (3581, 0.0036366779599291185), (3207, 0.0036354423569333176), (3529, 0.0036352134066694342), (2375, 0.003634386706388715), (990, 0.0036341255053140217), (141, 0.0036336828129739933), (841, 0.0036325179203360253), (1844, 0.0036320406719674825), (3837, 0.003631320932581875), (2626, 0.003630766998765616), (2452, 0.0036293391122516087), (2410, 0.003629200710143075), (4446, 0.0036290482496641845), (1479, 0.0036283985015450365), (2464, 0.003628218590143995), (4308, 0.003627916194430641), (1733, 0.003627312996251509), (3424, 0.00362455387953551), (956, 0.0036245439728645455), (1583, 0.003624367253995322), (4097, 0.003622827047672587), (2811, 0.0036227920967161586), (3183, 0.003622640874038671), (3628, 0.0036176357082528024), (253, 0.0036169328407960745), (3234, 0.0036160542233928685), (2575, 0.0036158163813859697), (318, 0.0036153147189539898), (363, 0.003614956805760167), (4140, 0.0036146009194102774), (4061, 0.003613535711297886), (2968, 0.0036109786882258916), (1243, 0.003608338979092263), (1905, 0.003606707397705631), (3044, 0.0036060930561600825), (4522, 0.003605199420670049), (2458, 0.003605188307916933), (1491, 0.0036051462053692906), (3181, 0.0036049426377785304), (4258, 0.003604522619405589), (2604, 0.0036002200444035584), (2748, 0.003597396142309522), (3258, 0.003597321026018946), (2978, 0.003597167895116884), (2882, 0.0035949015834372405), (2507, 0.0035937000336507654), (4207, 0.0035902818012557617), (4332, 0.0035890837240276216), (2082, 0.0035889254448729143), (3889, 0.0035878012046962828), (2258, 0.003587300338213651), (4413, 0.0035870513288166453), (1679, 0.0035844632291473777), (2371, 0.0035836735035378324), (2021, 0.0035809174486582645), (4734, 0.003575149925326683), (1246, 0.0035738603535260976), (1640, 0.0035730788202315614), (2116, 0.0035704891662836995), (146, 0.0035684602852508983), (4118, 0.00356749310063296), (2494, 0.00356670817994016), (1441, 0.0035663038546848527), (2880, 0.003565524725850518), (1103, 0.0035648582278291186), (771, 0.003564097263582331), (1518, 0.0035629420489017875), (1848, 0.0035612520463527454), (4132, 0.0035609129063223213), (1390, 0.003559178184119412), (3943, 0.0035559298004137424), (4492, 0.003553776557572926), (1520, 0.0035512955648799743), (1637, 0.0035485843429892867), (4351, 0.003547709331953414), (4371, 0.0035475652570032177), (1731, 0.00354677957006369), (3175, 0.00354497016898049), (754, 0.003544241619593597), (2588, 0.0035434895865405014), (2786, 0.0035427184752172152), (1537, 0.00354186718482231), (872, 0.0035416244287950547), (4111, 0.003541498026810681), (4131, 0.003540201789668367), (4173, 0.0035395240824876036), (2260, 0.003538929815924639), (3728, 0.0035375893064204366), (1282, 0.0035367339827718385), (2940, 0.0035359429521448806), (2712, 0.0035346520881401767), (2391, 0.003533340891368013), (4370, 0.0035331980607805876), (1609, 0.0035302797046606266), (1737, 0.003528879166482301), (3601, 0.0035281485905618473), (1333, 0.003527841261167799), (2817, 0.00352756242483717), (3218, 0.0035268841489710288), (4357, 0.0035264150447041824), (3461, 0.003526331439119427), (2970, 0.003526189410013797), (3539, 0.0035245062500840227), (2086, 0.003523423320923432), (4315, 0.003522989690711389), (1791, 0.003521900076987775), (1572, 0.003520077786773687), (3236, 0.0035185241950421472), (1856, 0.0035181735312807463), (4560, 0.0035181429230517263), (1596, 0.0035141153319192655), (392, 0.003514103494878337), (361, 0.0035117147425793045), (4622, 0.0035116008942164263), (2147, 0.0035114416316748523), (4256, 0.00351062624533434), (4557, 0.0035091994350212726), (3442, 0.0035090760476866253), (3084, 0.003508717162441053), (4489, 0.0035086610477012762), (4054, 0.0035078567300866554), (2208, 0.003506295641752812), (2516, 0.0035052510364049923), (1234, 0.003503165461727288), (205, 0.0035030356997806256), (4655, 0.0035016668660207435), (3905, 0.0034993588963215796), (418, 0.0034992657012765977), (2755, 0.003498138394374653), (4260, 0.0034965747091480624), (1013, 0.0034955641024391284), (1401, 0.0034933024707338137), (4027, 0.0034932790926472885), (1822, 0.0034922122057097476), (3037, 0.003491995772554729), (3041, 0.003491908693668942), (3259, 0.0034888939264543506), (4420, 0.003488343194717186), (2394, 0.0034858668167162808), (3388, 0.00348555898408093), (4323, 0.003484602565508164), (2385, 0.003484371847118017), (1578, 0.0034842831126076224), (781, 0.0034839752366171498), (1389, 0.0034836413711776034), (3277, 0.003483365274844569), (1007, 0.0034827176336458907), (3882, 0.0034817490377724064), (3187, 0.003481321302999061), (3984, 0.0034791510699572798), (667, 0.0034780990740943675), (1902, 0.003477267312601824), (474, 0.003476095716407946), (1955, 0.003474939607387561), (1336, 0.0034736130768644267), (2633, 0.0034730755640254344), (1299, 0.003472772211363128), (1821, 0.003471522919294731), (1689, 0.0034708770699093494), (2754, 0.003468321606812149), (2675, 0.0034679686441784845), (1718, 0.003467614333021391), (1734, 0.0034663815820801065), (3513, 0.0034660933620384404), (2217, 0.0034632905814200167), (3493, 0.003462559959421926), (2002, 0.003462486862765928), (3415, 0.003462261343448885), (3150, 0.0034612760696478106), (3038, 0.003460628330924661), (2380, 0.0034603519160094887), (1881, 0.0034601798851484388), (2926, 0.0034597707410900648), (2249, 0.003459658765822394), (3870, 0.003458534840177303), (3919, 0.003458270842835273), (1445, 0.003456522482928092), (1006, 0.0034562302614814726), (204, 0.003456170132476565), (1965, 0.0034554833339682247), (4448, 0.0034548764486864694), (2605, 0.0034534109122597305), (4421, 0.0034533777164810816), (1224, 0.003453332570859364), (2090, 0.003452675295356611), (797, 0.003452583380885346), (3378, 0.00345209488932451), (2042, 0.0034520813740850213), (3382, 0.0034519960027518705), (4433, 0.003451485561308288), (879, 0.0034513983392353803), (2561, 0.003451375306855178), (3310, 0.0034511592110573895), (3845, 0.0034506196974348796), (2601, 0.003450119891262277), (2531, 0.0034477450662274687), (1047, 0.0034467697459515728), (586, 0.003446070640331733), (1432, 0.0034459957378199586), (1024, 0.003445602443080383), (3224, 0.0034442499511925695), (1851, 0.0034441220481720445), (2546, 0.003443895028330502), (884, 0.003441878644229572), (2241, 0.00344011544344185), (1727, 0.0034396288619950306), (3790, 0.0034384485453665043), (1702, 0.0034384176055543), (4125, 0.0034359754751558643), (1911, 0.0034354754849855976), (1364, 0.003435099602507103), (4008, 0.003433292102631361), (1602, 0.003432375514233177), (3349, 0.0034322004883532175), (4025, 0.0034320817436748175), (1155, 0.0034311345563512938), (1124, 0.0034297731274951166), (1949, 0.003429684571646226), (2511, 0.00342904706259569), (1165, 0.0034268093156036793), (3517, 0.0034253415185695117), (1542, 0.0034251501402163087), (3930, 0.0034249154068234674), (2816, 0.0034229971926896256), (3648, 0.00342293431376973), (3549, 0.0034213401241412274), (4648, 0.0034213323987913862), (3287, 0.0034199778264026913), (4422, 0.0034186914878333277), (3428, 0.0034177904936827175), (3198, 0.003417505898786194), (671, 0.0034160017250029623), (1847, 0.0034156122838635227), (1382, 0.0034146782471884273), (2456, 0.0034144484469294835), (2519, 0.0034123988814135967), (1244, 0.0034123527120862103), (1735, 0.003411640929884443), (3489, 0.003410058093871244), (59, 0.003408418837048627), (1494, 0.003408083065724509), (1961, 0.003408058179227687), (1516, 0.003406995507975611), (730, 0.003406368954216167), (2353, 0.003406075780012308), (1697, 0.003405244949864658), (971, 0.0034051634128990736), (3290, 0.0034044990004744734), (3722, 0.0034013820098587975), (4319, 0.0034002964389297672), (1557, 0.0033993803183631865), (1777, 0.0033987019520198727), (814, 0.0033983245687338333), (2856, 0.0033979475847176425), (4329, 0.0033968259558293814), (1917, 0.003395885589995579), (1726, 0.0033947642738384578), (245, 0.003393357493426133), (2307, 0.003393330698769739), (3169, 0.003391441521806195), (3289, 0.0033903377091735794), (1564, 0.003388156677435273), (3526, 0.0033855857471381287), (4093, 0.003384043733141942), (42, 0.0033838462699636706), (3209, 0.0033833733175814766), (3632, 0.0033814438504258942), (110, 0.0033810634443604145), (2200, 0.0033806495541719578), (3912, 0.003379813212420942), (908, 0.0033796298499477917), (134, 0.0033794691449688962), (933, 0.0033785927676853885), (969, 0.003376627589056622), (2290, 0.0033758946407095856), (1108, 0.003375488563300037), (2582, 0.00337496128162117), (2444, 0.003374493439672861), (3113, 0.0033741999377029574), (238, 0.0033741361095025813), (1688, 0.003373413043610517), (3606, 0.003373053526415304), (1085, 0.003372566832735709), (4197, 0.003372533253560168), (1166, 0.003372211450896068), (3102, 0.0033716881645877734), (3603, 0.003371342910146292), (3283, 0.003369652214609302), (2292, 0.0033693837877239057), (528, 0.0033684908258539157), (1587, 0.003367470625727269), (3812, 0.003367168595278664), (219, 0.0033659512113612313), (1495, 0.003365703948096403), (1425, 0.00336540763340698), (3792, 0.003364282335698175), (3060, 0.003362771249527405), (1361, 0.0033604593278807717), (2440, 0.003359701974623676), (4702, 0.003359309614044427), (28, 0.003358848543243635), (4049, 0.0033574712702709735), (1204, 0.00335650159191492), (1533, 0.0033557854485686696), (1302, 0.0033553134605301626), (4135, 0.0033551291188553345), (2041, 0.0033550464123985875), (579, 0.003353528655125854), (401, 0.003352914391897659), (2487, 0.0033527136494574446), (3650, 0.0033520774966655214), (2586, 0.0033518744055912324), (1476, 0.0033516570955488077), (4214, 0.003350928273947924), (1473, 0.003350828801187746), (945, 0.003349763722047949), (3462, 0.0033492837917790223), (1751, 0.00334708554027421), (1879, 0.003346841814277646), (1956, 0.0033462020733428157), (1461, 0.003345221695202508), (3739, 0.003344575693801425), (1410, 0.0033435603089792903), (3676, 0.0033431194016462183), (1769, 0.0033430667132564604), (3245, 0.0033425075437850263), (1722, 0.0033407032755235384), (2396, 0.0033382727367700315), (2554, 0.0033373437474331948), (1577, 0.0033370851033444676), (182, 0.00333458528988388), (4300, 0.00333406440592687), (758, 0.0033338678316564736), (2192, 0.003331541717344162), (398, 0.0033312101468905126), (312, 0.0033310962323659338), (4609, 0.0033309467806968483), (3155, 0.00333083579184653), (736, 0.003330387583479328), (3034, 0.0033297325420943683), (2994, 0.003329653337355574), (2449, 0.003329630462276713), (3494, 0.003329439279073779), (2492, 0.0033289106508495258), (529, 0.003328652679286699), (504, 0.0033281984082111924), (3541, 0.0033277723791521724), (2153, 0.003326287673161566), (1388, 0.003322610486499803), (822, 0.003322203112041699), (697, 0.0033220349598118877), (4184, 0.003321705602695195), (1906, 0.0033194286321253205), (2472, 0.00331870319857689), (1804, 0.0033182466079372057), (1505, 0.0033177816716726686), (943, 0.0033161361189359044), (938, 0.003316048149355339), (4001, 0.0033137748118445016), (3926, 0.003313521450243405), (264, 0.0033127588689914195), (2709, 0.003309644162757677), (1304, 0.0033093048737686905), (2804, 0.0033092174638223466), (2495, 0.0033079131771084364), (4099, 0.003307331851433621), (4738, 0.003306704312198281), (3662, 0.003306549195484444), (3033, 0.0033063308114138668), (4195, 0.003306195323893542), (849, 0.0033060234970299727), (931, 0.003305921691358763), (2026, 0.003305575815426206), (3343, 0.0033048595308615195), (1227, 0.0033048487839807796), (1644, 0.0033044658606036846), (3188, 0.003304435047891166), (479, 0.003304299298988751), (1501, 0.003304017791096918), (2387, 0.003301011598666372), (965, 0.0033009712776861846), (1345, 0.003300871972139444), (3665, 0.0033003327668304143), (3805, 0.003298584597589165), (4592, 0.0032979613717958414), (3106, 0.003297730075901441), (4457, 0.0032960118308512196), (3673, 0.0032948075823839326), (1022, 0.0032930748892709737), (3518, 0.0032928550599820704), (946, 0.003292084845534709), (1444, 0.0032918952369044574), (525, 0.0032904939455969395), (2014, 0.0032903312522934436), (1298, 0.0032898778391562324), (2336, 0.0032896371141867362), (2999, 0.0032894465710642824), (3570, 0.0032875079081531094), (346, 0.0032872483176096434), (3270, 0.0032866949765003933), (1196, 0.0032866113234171403), (188, 0.0032866101089767843), (1238, 0.003285654005036039), (4688, 0.0032848361724633437), (22, 0.0032847841716722075), (2512, 0.0032844670408226644), (3545, 0.003283614266728844), (4394, 0.0032827749230677494), (3818, 0.003280734995859626), (1834, 0.0032796480598943916), (2280, 0.0032771098877764303), (2060, 0.003274613451407917), (1986, 0.0032717297212606147), (2825, 0.0032681109134286962), (174, 0.0032676789827428008), (1867, 0.0032671577829083095), (2435, 0.003266757761610344), (1126, 0.003266714141559177), (1598, 0.0032656777889932516), (1028, 0.0032650231681270784), (2298, 0.003264525992368588), (535, 0.0032642222469201326), (3073, 0.0032639889404814048), (3350, 0.003263699605914253), (3443, 0.00326303209411315), (1447, 0.0032630232066786866), (1313, 0.0032599281746085234), (1757, 0.003258929703518469), (1849, 0.003256770259371021), (3508, 0.0032556758324340327), (2687, 0.0032547513795942048), (1292, 0.0032532025204578363), (2128, 0.0032531551306596647), (215, 0.0032500673149763975), (983, 0.0032491727206291478), (1330, 0.003247503408403916), (2639, 0.0032458281905095084), (3260, 0.0032457969143713395), (3685, 0.0032454775681216353), (2807, 0.0032454686519239606), (1286, 0.0032431982273350307), (2297, 0.003242676643044493), (1130, 0.003241687056091918), (1084, 0.0032416102175767507), (459, 0.0032410104753232585), (995, 0.003240839390009412), (1589, 0.0032405951391376734), (2945, 0.0032383132815492766), (1094, 0.003237528540726032), (3288, 0.003236832294403065), (4218, 0.0032359580762372255), (2087, 0.0032356579491165088), (4530, 0.003235402122721252), (3400, 0.00323525616181229), (2616, 0.003234606891825238), (3220, 0.0032332255971179117), (4036, 0.0032324147098671714), (3066, 0.00323217513507643), (2504, 0.003229979690598622), (4112, 0.0032291185908658723), (4234, 0.003227260005881846), (3836, 0.003226391706179878), (1880, 0.0032254307987059547), (1771, 0.0032252911373166554), (2553, 0.0032251986899951416), (217, 0.003224459419517116), (4073, 0.003224423687239331), (4327, 0.0032240385782429273), (3402, 0.0032237775152671793), (2677, 0.0032232632401307964), (1284, 0.003220377424574369), (4395, 0.00321836961418962), (503, 0.003218108225275595), (755, 0.003215006545274153), (3765, 0.003213535874406807), (3286, 0.003211870298005986), (2422, 0.0032112811118665333), (404, 0.003210450295749692), (4442, 0.0032088235903719696), (3531, 0.0032087207041358225), (2461, 0.0032075865834733), (662, 0.003207524905877517), (3879, 0.003207305328797179), (345, 0.0032062798594303422), (4367, 0.003205862698126548), (1373, 0.0032049845283270238), (4192, 0.003203527452960039), (2912, 0.003203310585566847), (1618, 0.0032032934357424368), (840, 0.0032028860027542177), (3348, 0.0032015476144066106), (773, 0.003200285640809723), (4382, 0.0031989181655675807), (2693, 0.0031980092349222014), (2003, 0.0031960439473381974), (3366, 0.0031950029757428712), (3641, 0.0031949956480574757), (1113, 0.0031936158371855313), (2653, 0.003192373931091508), (2467, 0.0031917624492630798), (3149, 0.0031909820181687445), (4314, 0.003189895154082455), (2465, 0.0031883910362892594), (2642, 0.003187313611187561), (3998, 0.0031871445303813303), (3582, 0.00318695981049103), (1597, 0.003186760476617031), (3562, 0.003186518500350794), (923, 0.00318587575960552), (4564, 0.003185342176366796), (1668, 0.0031852200915956103), (4252, 0.0031829318155196583), (585, 0.0031824556129565274), (720, 0.00318173873515228), (2681, 0.003180497623485695), (1293, 0.003179757529925307), (1125, 0.003179014704560492), (2167, 0.003178940493677647), (2131, 0.0031779939613962777), (1767, 0.0031779425081252355), (3490, 0.003176889463970512), (4303, 0.0031767562090846764), (1582, 0.0031760151777314952), (1544, 0.0031756907653649035), (427, 0.0031731733057164804), (1545, 0.0031723551061418115), (3503, 0.0031722434912728067), (1446, 0.0031702495380738147), (1231, 0.003170094936251187), (367, 0.003169184311497026), (1912, 0.0031673099983707455), (2367, 0.0031667044530154865), (3868, 0.003165391180722183), (3595, 0.003165182768719714), (1552, 0.0031629757824703), (1526, 0.0031613453137191174), (1490, 0.003160850365304232), (3315, 0.003160268995950254), (883, 0.003160165946342776), (2897, 0.0031598952087654583), (3965, 0.0031594771280522766), (1839, 0.0031592367518962126), (3214, 0.003158312965667383), (1654, 0.003157800225242534), (1877, 0.003156828506472787), (2620, 0.003156787233596564), (2050, 0.0031544607600051604), (498, 0.0031538656422434542), (1929, 0.0031537869288096), (1700, 0.0031528242461216676), (2107, 0.003151167829956634), (157, 0.00315070951948421), (4321, 0.0031495568612393467), (2962, 0.0031481000810728607), (780, 0.003147508455151579), (984, 0.0031467845739039362), (4213, 0.0031457446582717264), (2787, 0.0031457163778936858), (2140, 0.00314559690333148), (1190, 0.0031452296920377546), (1073, 0.0031451666646368642), (2706, 0.0031451003274011566), (2242, 0.0031444395438159963), (3177, 0.0031425597499873253), (4206, 0.0031424132363624), (2631, 0.0031416411143475086), (1376, 0.0031413239764847708), (45, 0.003139728869049187), (1363, 0.0031396262028785212), (4272, 0.003138455291162559), (4037, 0.003133925862765973), (3712, 0.003133687243479245), (1787, 0.0031333132579554127), (2271, 0.0031308054645856932), (263, 0.003130640228106903), (1029, 0.0031305703825608216), (1785, 0.0031303734799183686), (4071, 0.0031301459580506566), (3646, 0.003128125584249506), (185, 0.0031275774169960786), (859, 0.0031271178385452745), (325, 0.003126144523292364), (197, 0.003123641327966569), (1256, 0.003123554323731127), (3864, 0.003121927205387991), (939, 0.0031203433290091513), (2303, 0.003120082249331674), (3811, 0.003118688348775548), (2972, 0.0031183078896327788), (2812, 0.003117722758532429), (1663, 0.0031165705094273514), (4257, 0.0031164244089217563), (1895, 0.003116392470097714), (2348, 0.0031160592165063385), (2166, 0.0031156107219602555), (2160, 0.003112980253503964), (1783, 0.0031127390207020046), (1973, 0.003112077726027928), (2311, 0.0031119734084866656), (1139, 0.003111638242934208), (1788, 0.003110850372692027), (1496, 0.0031086985849803146), (2179, 0.0031077990794340345), (507, 0.003106312523084661), (4254, 0.0031062507058305486), (1203, 0.0031061260074585683), (2215, 0.003105180444055886), (1372, 0.0031032980759075567), (4690, 0.0031024417753910635), (886, 0.0031014634719660067), (1709, 0.003101320076144498), (903, 0.0031010062063381474), (3941, 0.003100132132737488), (3071, 0.0030986447067090556), (2594, 0.003098636891826784), (941, 0.003098463366553836), (212, 0.003095972133140846), (1903, 0.0030946598503740026), (1855, 0.0030943006935176026), (4667, 0.0030937248942732977), (1898, 0.0030933619350785773), (2099, 0.003092109652029545), (648, 0.003091706304214618), (1746, 0.0030875044206857888), (2699, 0.0030863431650782224), (4603, 0.003085892034886746), (2052, 0.003085223842026921), (2992, 0.0030845962905917588), (2327, 0.003084386833098776), (3732, 0.003082126144393701), (1778, 0.003081381807759697), (1457, 0.0030808508084106167), (1673, 0.003079801124548875), (2590, 0.0030796130128083214), (2866, 0.0030784117934161085), (690, 0.0030779757286340083), (2071, 0.0030776493021774697), (1353, 0.0030759672796104665), (2450, 0.003075355489190075), (3543, 0.0030752807105031026), (4305, 0.003073297124227612), (2615, 0.0030730954424640355), (417, 0.0030728943389683712), (2272, 0.003072824998419234), (2446, 0.0030726467156096528), (2874, 0.0030703828480983016), (454, 0.003070317079957836), (3500, 0.0030692197890827915), (1152, 0.0030670390330212486), (916, 0.0030653738678246127), (1610, 0.0030629254587232323), (1642, 0.0030617903147763833), (3321, 0.0030609333723668293), (2093, 0.003059606393596826), (745, 0.0030586967669964556), (2548, 0.0030568000276162076), (3839, 0.00305138344819033), (3589, 0.003050703477633386), (2491, 0.0030501139412995354), (2315, 0.0030492456245299064), (1543, 0.0030478979921859514), (3753, 0.0030475797357249483), (4174, 0.00304493525420933), (2445, 0.0030448561977490245), (2274, 0.0030439476651421397), (3389, 0.0030425825241329136), (907, 0.003042262805772609), (1079, 0.003042204581907881), (2666, 0.0030411361835019825), (1984, 0.003040600967247768), (3767, 0.003038925151340661), (4577, 0.00303752794872056), (920, 0.003036986616914001), (1987, 0.0030367068409775733), (1308, 0.00303514830875376), (1331, 0.0030322298218833747), (4297, 0.0030315498154666544), (3050, 0.0030309372255018785), (821, 0.0030297771089309515), (2207, 0.0030286934626128858), (4186, 0.0030283153874253585), (2203, 0.0030271448415678122), (1242, 0.0030263767973297355), (2125, 0.003025641274899081), (1714, 0.003024615249774954), (3329, 0.0030243817649833198), (958, 0.0030237602593423335), (1974, 0.0030232981603320196), (1038, 0.0030213764028036677), (2007, 0.003019630683602066), (3563, 0.0030151299212230645), (1729, 0.003013102680663987), (759, 0.00301202320012127), (2036, 0.003011484102264396), (2728, 0.0030112176115087127), (3842, 0.0030110646726422097), (3295, 0.003010588286685194), (1288, 0.0030100119138986), (3885, 0.0030094830786832312), (2033, 0.0030091743321740486), (1200, 0.0030069519096059365), (3197, 0.003006515205340906), (1528, 0.0030047839279512337), (1784, 0.0030040060412911463), (2265, 0.0030032564656777686), (3267, 0.003001781861199103), (4447, 0.003001369831919797), (1216, 0.0029998777081079045), (2063, 0.002999190091806914), (2424, 0.0029985667810653355), (1567, 0.002996738433398575), (4191, 0.002996605035023518), (2402, 0.002995984481940576), (3304, 0.0029955376862675982), (2542, 0.0029943159904613405), (1173, 0.002993807011033259), (473, 0.002992960614084239), (3311, 0.0029925479614437644), (1827, 0.002991550090737116), (4647, 0.0029914784994441177), (1093, 0.0029900419710100815), (632, 0.002989920142828796), (1310, 0.002985823423383728), (2058, 0.0029853832120367934), (1485, 0.002984699776253766), (214, 0.0029831226728112776), (2426, 0.002981819967647108), (2741, 0.0029786708553145675), (1061, 0.0029782710053342233), (2005, 0.002974701130792712), (161, 0.0029735899047127735), (3716, 0.002973314086202692), (2514, 0.0029721522908839762), (1569, 0.0029703306184925625), (4304, 0.0029691411408246725), (3397, 0.002968914738458916), (885, 0.002967305784806523), (1980, 0.002967225708777242), (664, 0.0029654449557149974), (2976, 0.0029635079206122503), (577, 0.002962891549212993), (3231, 0.002962468846779789), (594, 0.0029569308072153757), (1750, 0.002956516224964566), (3070, 0.0029551407271258675), (2389, 0.0029509130614622904), (1318, 0.002950392708120643), (672, 0.0029499304388611817), (3933, 0.002948828178161027), (2156, 0.0029457882916039944), (4237, 0.002945226934812548), (497, 0.00294393697479275), (1994, 0.002943505830728787), (3082, 0.00294232986990823), (2264, 0.0029390445186554806), (1694, 0.0029372331123549587), (1601, 0.0029364565701237295), (1652, 0.002934389248571289), (2366, 0.00293382662329153), (4104, 0.0029323564507892992), (1468, 0.0029323534160469247), (1394, 0.0029309991500024897), (1954, 0.002930497613276117), (393, 0.0029296267919153938), (91, 0.0029287434968168842), (3598, 0.002928503690247038), (1251, 0.0029274154511203278), (3755, 0.0029237713447597805), (2360, 0.002923710095804712), (712, 0.0029227778056000195), (820, 0.0029222658260619097), (1199, 0.00291831675430904), (836, 0.0029164356241869736), (4596, 0.0029157574261603997), (912, 0.002909020373975395), (1405, 0.002908405898508227), (3, 0.002908271341206503), (2240, 0.0029031155409770283), (1797, 0.002900288443464082), (4156, 0.0028999005447838655), (4558, 0.00289862113128983), (851, 0.002898108072461166), (2433, 0.0028970243046879335), (2805, 0.002892877392697636), (3232, 0.0028924288052753484), (1194, 0.0028903859771033154), (2460, 0.0028830573135653404), (862, 0.0028820418744497124), (4473, 0.002881231080719216), (1943, 0.002879480065734717), (4035, 0.002878508233601449), (2971, 0.0028785018033356353), (2721, 0.0028745486918654983), (4353, 0.0028729383154959837), (1217, 0.0028720608891245657), (2539, 0.002871834843512694), (3684, 0.00287105598470744), (3509, 0.002870200970495858), (1249, 0.0028680899921367992), (892, 0.002865965629623065), (103, 0.0028653807939086873), (73, 0.002864090341354666), (3856, 0.002863052587064088), (1492, 0.0028628895488131403), (3748, 0.0028623299505254733), (1397, 0.0028608197285818985), (1521, 0.002857183953463083), (629, 0.0028566827740993672), (2822, 0.0028550675722576386), (1370, 0.0028524888534949074), (278, 0.00284923661978218), (2001, 0.002848679047882027), (86, 0.0028450825026555457), (1323, 0.0028423799387746777), (4627, 0.0028386562434161693), (2688, 0.0028382114328452867), (1833, 0.0028327764169166093), (2168, 0.0028309258792500263), (2098, 0.0028297953190845725), (1088, 0.0028279854436529853), (1070, 0.0028275202023764264), (2146, 0.002827173301438109), (1523, 0.0028262887560383775), (2006, 0.0028213016375489967), (1781, 0.002814833834757554), (2758, 0.0028096307576903528), (1340, 0.002809471689206414), (2933, 0.002809439505341526), (3855, 0.0028070538138503026), (2855, 0.0028054320585289227), (2204, 0.0028043871002738892), (3164, 0.0028015227388678513), (1010, 0.0027980490282133166), (1300, 0.002797331335811477), (951, 0.0027927475134080005), (3674, 0.0027925414664182564), (1312, 0.002791787108592257), (2076, 0.0027901377835903153), (4636, 0.0027898073291216462), (3481, 0.002784234341240186), (707, 0.002782536843563419), (195, 0.002780653680988693), (3658, 0.002779909364909392), (1957, 0.002779271893302943), (2296, 0.0027790010808394095), (2603, 0.0027784904825734606), (2877, 0.002777382822535813), (4610, 0.002776469278074465), (3559, 0.002772877677004447), (2211, 0.0027719934634213347), (786, 0.002770800559725727), (709, 0.002770195908485287), (726, 0.002766172365832981), (1062, 0.0027661314134467285), (1981, 0.0027627176169584752), (1367, 0.0027626538613138353), (1938, 0.0027582166305745574), (3430, 0.0027536448808731084), (2227, 0.0027489485293139553), (1944, 0.0027476300897344465), (3212, 0.0027424876573491084), (25, 0.002736544366808116), (2770, 0.0027356692168445116), (4200, 0.0027351877823243312), (2025, 0.0027289857975686463), (538, 0.002728919415476863), (1883, 0.002727431571219624), (2509, 0.002718606567019532), (1289, 0.002717925925741569), (1156, 0.0027157620703449083), (1341, 0.0027151922379989664), (2331, 0.002714336990968845), (1427, 0.0027118644873907116), (319, 0.0027106379373999932), (1326, 0.0027005969238352774), (2018, 0.0026983654267545712), (4311, 0.002687738510231196), (156, 0.0026874438423192424), (4744, 0.0026818108786982814), (1317, 0.0026803944048832346), (2441, 0.002678902795992349), (1963, 0.0026765886094231865), (1344, 0.0026750845404646547), (3410, 0.0026621409708293135), (1453, 0.0026617834122009626), (2364, 0.0026598623824570515), (1115, 0.0026582090651977816), (4519, 0.0026540479062691796), (1268, 0.002648443895273738), (2774, 0.002643522341176617), (757, 0.002642545405875087), (1676, 0.0026414471475281797), (3538, 0.002637853366184055), (1320, 0.0025969469029586334), (2113, 0.002588782220645916), (1040, 0.0025838506290344074), (421, 0.0025585266679895046), (837, 0.0025430393380562358), (1403, 0.0025417416384844586), (3626, 0.0025380808599515864), (4652, 0.002528636753795475), (351, 0.002523956746816637), (4182, 0.002509880404767192), (1362, 0.0024584034455097515), (2219, 0.0024414355436603494), (2064, 0.0024366944036870253), (2671, 0.002429820718378908), (2814, 0.0023667724264931876), (940, 0.002315269685943822), (129, 0.0023101189411628854), (3421, 0.0022887283153306083), (1, 0.0), (2, 0.0), (4, 0.0), (5, 0.0), (6, 0.0), (9, 0.0), (10, 0.0), (11, 0.0), (12, 0.0), (15, 0.0), (16, 0.0), (17, 0.0), (20, 0.0), (21, 0.0), (23, 0.0), (26, 0.0), (27, 0.0), (29, 0.0), (30, 0.0), (31, 0.0), (33, 0.0), (34, 0.0), (36, 0.0), (39, 0.0), (41, 0.0), (43, 0.0), (44, 0.0), (48, 0.0), (51, 0.0), (52, 0.0), (54, 0.0), (55, 0.0), (56, 0.0), (61, 0.0), (62, 0.0), (64, 0.0), (65, 0.0), (66, 0.0), (67, 0.0), (68, 0.0), (69, 0.0), (70, 0.0), (72, 0.0), (75, 0.0), (79, 0.0), (80, 0.0), (83, 0.0), (84, 0.0), (85, 0.0), (87, 0.0), (89, 0.0), (90, 0.0), (92, 0.0), (93, 0.0), (94, 0.0), (95, 0.0), (96, 0.0), (97, 0.0), (98, 0.0), (101, 0.0), (102, 0.0), (104, 0.0), (106, 0.0), (107, 0.0), (111, 0.0), (112, 0.0), (116, 0.0), (117, 0.0), (119, 0.0), (120, 0.0), (122, 0.0), (123, 0.0), (127, 0.0), (128, 0.0), (130, 0.0), (131, 0.0), (132, 0.0), (135, 0.0), (137, 0.0), (138, 0.0), (140, 0.0), (143, 0.0), (144, 0.0), (147, 0.0), (149, 0.0), (152, 0.0), (162, 0.0), (165, 0.0), (166, 0.0), (168, 0.0), (171, 0.0), (172, 0.0), (173, 0.0), (178, 0.0), (179, 0.0), (180, 0.0), (184, 0.0), (186, 0.0), (189, 0.0), (190, 0.0), (193, 0.0), (194, 0.0), (198, 0.0), (200, 0.0), (201, 0.0), (203, 0.0), (207, 0.0), (208, 0.0), (209, 0.0), (210, 0.0), (213, 0.0), (216, 0.0), (218, 0.0), (220, 0.0), (221, 0.0), (223, 0.0), (224, 0.0), (227, 0.0), (231, 0.0), (232, 0.0), (233, 0.0), (234, 0.0), (235, 0.0), (242, 0.0), (243, 0.0), (244, 0.0), (249, 0.0), (250, 0.0), (252, 0.0), (255, 0.0), (256, 0.0), (257, 0.0), (259, 0.0), (260, 0.0), (262, 0.0), (266, 0.0), (267, 0.0), (268, 0.0), (270, 0.0), (271, 0.0), (274, 0.0), (276, 0.0), (280, 0.0), (281, 0.0), (282, 0.0), (283, 0.0), (284, 0.0), (285, 0.0), (286, 0.0), (287, 0.0), (288, 0.0), (289, 0.0), (290, 0.0), (292, 0.0), (293, 0.0), (295, 0.0), (297, 0.0), (298, 0.0), (299, 0.0), (301, 0.0), (302, 0.0), (304, 0.0), (305, 0.0), (306, 0.0), (308, 0.0), (314, 0.0), (316, 0.0), (317, 0.0), (320, 0.0), (321, 0.0), (322, 0.0), (323, 0.0), (327, 0.0), (328, 0.0), (329, 0.0), (330, 0.0), (332, 0.0), (335, 0.0), (340, 0.0), (342, 0.0), (347, 0.0), (348, 0.0), (349, 0.0), (353, 0.0), (356, 0.0), (360, 0.0), (370, 0.0), (371, 0.0), (373, 0.0), (374, 0.0), (375, 0.0), (378, 0.0), (379, 0.0), (380, 0.0), (384, 0.0), (386, 0.0), (387, 0.0), (388, 0.0), (389, 0.0), (390, 0.0), (394, 0.0), (396, 0.0), (397, 0.0), (399, 0.0), (400, 0.0), (402, 0.0), (403, 0.0), (406, 0.0), (408, 0.0), (410, 0.0), (412, 0.0), (419, 0.0), (423, 0.0), (424, 0.0), (425, 0.0), (426, 0.0), (428, 0.0), (429, 0.0), (432, 0.0), (434, 0.0), (438, 0.0), (440, 0.0), (441, 0.0), (442, 0.0), (444, 0.0), (445, 0.0), (446, 0.0), (447, 0.0), (448, 0.0), (449, 0.0), (455, 0.0), (457, 0.0), (458, 0.0), (460, 0.0), (462, 0.0), (463, 0.0), (464, 0.0), (465, 0.0), (466, 0.0), (467, 0.0), (468, 0.0), (469, 0.0), (470, 0.0), (472, 0.0), (475, 0.0), (476, 0.0), (478, 0.0), (480, 0.0), (481, 0.0), (482, 0.0), (484, 0.0), (485, 0.0), (486, 0.0), (487, 0.0), (488, 0.0), (489, 0.0), (490, 0.0), (491, 0.0), (492, 0.0), (493, 0.0), (495, 0.0), (499, 0.0), (500, 0.0), (502, 0.0), (512, 0.0), (513, 0.0), (514, 0.0), (519, 0.0), (523, 0.0), (524, 0.0), (526, 0.0), (533, 0.0), (534, 0.0), (537, 0.0), (540, 0.0), (541, 0.0), (542, 0.0), (543, 0.0), (544, 0.0), (548, 0.0), (549, 0.0), (550, 0.0), (551, 0.0), (554, 0.0), (555, 0.0), (560, 0.0), (563, 0.0), (564, 0.0), (565, 0.0), (566, 0.0), (568, 0.0), (570, 0.0), (571, 0.0), (572, 0.0), (573, 0.0), (574, 0.0), (575, 0.0), (576, 0.0), (578, 0.0), (581, 0.0), (584, 0.0), (587, 0.0), (588, 0.0), (591, 0.0), (593, 0.0), (595, 0.0), (596, 0.0), (601, 0.0), (602, 0.0), (603, 0.0), (604, 0.0), (608, 0.0), (610, 0.0), (611, 0.0), (612, 0.0), (613, 0.0), (614, 0.0), (615, 0.0), (618, 0.0), (620, 0.0), (621, 0.0), (622, 0.0), (623, 0.0), (624, 0.0), (627, 0.0), (628, 0.0), (631, 0.0), (636, 0.0), (637, 0.0), (638, 0.0), (639, 0.0), (640, 0.0), (644, 0.0), (645, 0.0), (646, 0.0), (650, 0.0), (651, 0.0), (652, 0.0), (653, 0.0), (654, 0.0), (655, 0.0), (656, 0.0), (657, 0.0), (658, 0.0), (660, 0.0), (661, 0.0), (663, 0.0), (666, 0.0), (670, 0.0), (673, 0.0), (674, 0.0), (675, 0.0), (677, 0.0), (680, 0.0), (681, 0.0), (682, 0.0), (683, 0.0), (685, 0.0), (686, 0.0), (688, 0.0), (689, 0.0), (693, 0.0), (694, 0.0), (695, 0.0), (696, 0.0), (698, 0.0), (699, 0.0), (700, 0.0), (701, 0.0), (704, 0.0), (705, 0.0), (706, 0.0), (713, 0.0), (716, 0.0), (717, 0.0), (718, 0.0), (719, 0.0), (721, 0.0), (722, 0.0), (724, 0.0), (727, 0.0), (728, 0.0), (729, 0.0), (731, 0.0), (732, 0.0), (733, 0.0), (738, 0.0), (742, 0.0), (743, 0.0), (747, 0.0), (749, 0.0), (750, 0.0), (753, 0.0), (761, 0.0), (762, 0.0), (765, 0.0), (766, 0.0), (767, 0.0), (769, 0.0), (782, 0.0), (783, 0.0), (789, 0.0), (791, 0.0), (792, 0.0), (794, 0.0), (799, 0.0), (800, 0.0), (801, 0.0), (802, 0.0), (803, 0.0), (804, 0.0), (805, 0.0), (806, 0.0), (808, 0.0), (809, 0.0), (812, 0.0), (813, 0.0), (816, 0.0), (817, 0.0), (823, 0.0), (825, 0.0), (826, 0.0), (827, 0.0), (828, 0.0), (829, 0.0), (830, 0.0), (831, 0.0), (832, 0.0), (838, 0.0), (843, 0.0), (844, 0.0), (852, 0.0), (854, 0.0), (856, 0.0), (857, 0.0), (858, 0.0), (860, 0.0), (861, 0.0), (863, 0.0), (864, 0.0), (866, 0.0), (868, 0.0), (871, 0.0), (874, 0.0), (876, 0.0), (877, 0.0), (878, 0.0), (880, 0.0), (887, 0.0), (888, 0.0), (889, 0.0), (891, 0.0), (896, 0.0), (897, 0.0), (900, 0.0), (901, 0.0), (902, 0.0), (906, 0.0), (909, 0.0), (911, 0.0), (913, 0.0), (914, 0.0), (917, 0.0), (918, 0.0), (919, 0.0), (922, 0.0), (927, 0.0), (928, 0.0), (929, 0.0), (930, 0.0), (935, 0.0), (937, 0.0), (942, 0.0), (947, 0.0), (949, 0.0), (954, 0.0), (959, 0.0), (962, 0.0), (966, 0.0), (974, 0.0), (975, 0.0), (976, 0.0), (977, 0.0), (980, 0.0), (986, 0.0), (987, 0.0), (988, 0.0), (989, 0.0), (992, 0.0), (993, 0.0), (997, 0.0), (1000, 0.0), (1004, 0.0), (1005, 0.0), (1011, 0.0), (1012, 0.0), (1014, 0.0), (1015, 0.0), (1016, 0.0), (1017, 0.0), (1018, 0.0), (1019, 0.0), (1020, 0.0), (1023, 0.0), (1026, 0.0), (1030, 0.0), (1034, 0.0), (1035, 0.0), (1036, 0.0), (1037, 0.0), (1039, 0.0), (1042, 0.0), (1045, 0.0), (1048, 0.0), (1050, 0.0), (1051, 0.0), (1052, 0.0), (1053, 0.0), (1054, 0.0), (1058, 0.0), (1059, 0.0), (1060, 0.0), (1063, 0.0), (1064, 0.0), (1065, 0.0), (1066, 0.0), (1067, 0.0), (1068, 0.0), (1069, 0.0), (1071, 0.0), (1072, 0.0), (1075, 0.0), (1077, 0.0), (1080, 0.0), (1086, 0.0), (1087, 0.0), (1091, 0.0), (1092, 0.0), (1096, 0.0), (1101, 0.0), (1111, 0.0), (1114, 0.0), (1118, 0.0), (1120, 0.0), (1121, 0.0), (1123, 0.0), (1127, 0.0), (1128, 0.0), (1131, 0.0), (1132, 0.0), (1134, 0.0), (1136, 0.0), (1137, 0.0), (1138, 0.0), (1140, 0.0), (1141, 0.0), (1143, 0.0), (1145, 0.0), (1147, 0.0), (1148, 0.0), (1150, 0.0), (1151, 0.0), (1154, 0.0), (1160, 0.0), (1161, 0.0), (1162, 0.0), (1168, 0.0), (1171, 0.0), (1174, 0.0), (1175, 0.0), (1176, 0.0), (1179, 0.0), (1183, 0.0), (1184, 0.0), (1185, 0.0), (1186, 0.0), (1188, 0.0), (1195, 0.0), (1215, 0.0), (1219, 0.0), (1221, 0.0), (1225, 0.0), (1226, 0.0), (1228, 0.0), (1229, 0.0), (1230, 0.0), (1236, 0.0), (1240, 0.0), (1241, 0.0), (1245, 0.0), (1247, 0.0), (1248, 0.0), (1252, 0.0), (1253, 0.0), (1255, 0.0), (1257, 0.0), (1258, 0.0), (1259, 0.0), (1262, 0.0), (1263, 0.0), (1264, 0.0), (1266, 0.0), (1275, 0.0), (1280, 0.0), (1281, 0.0), (1285, 0.0), (1290, 0.0), (1301, 0.0), (1303, 0.0), (1305, 0.0), (1307, 0.0), (1324, 0.0), (1325, 0.0), (1328, 0.0), (1332, 0.0), (1334, 0.0), (1338, 0.0), (1339, 0.0), (1346, 0.0), (1349, 0.0), (1350, 0.0), (1352, 0.0), (1354, 0.0), (1355, 0.0), (1356, 0.0), (1357, 0.0), (1358, 0.0), (1365, 0.0), (1374, 0.0), (1377, 0.0), (1381, 0.0), (1383, 0.0), (1387, 0.0), (1393, 0.0), (1396, 0.0), (1398, 0.0), (1399, 0.0), (1400, 0.0), (1402, 0.0), (1404, 0.0), (1406, 0.0), (1412, 0.0), (1413, 0.0), (1415, 0.0), (1416, 0.0), (1419, 0.0), (1423, 0.0), (1429, 0.0), (1433, 0.0), (1434, 0.0), (1435, 0.0), (1436, 0.0), (1438, 0.0), (1439, 0.0), (1440, 0.0), (1442, 0.0), (1443, 0.0), (1448, 0.0), (1450, 0.0), (1454, 0.0), (1455, 0.0), (1456, 0.0), (1459, 0.0), (1460, 0.0), (1462, 0.0), (1463, 0.0), (1470, 0.0), (1471, 0.0), (1472, 0.0), (1474, 0.0), (1475, 0.0), (1481, 0.0), (1483, 0.0), (1484, 0.0), (1497, 0.0), (1499, 0.0), (1502, 0.0), (1504, 0.0), (1512, 0.0), (1522, 0.0), (1527, 0.0), (1529, 0.0), (1530, 0.0), (1540, 0.0), (1541, 0.0), (1546, 0.0), (1547, 0.0), (1548, 0.0), (1553, 0.0), (1554, 0.0), (1558, 0.0), (1570, 0.0), (1574, 0.0), (1575, 0.0), (1579, 0.0), (1580, 0.0), (1581, 0.0), (1584, 0.0), (1591, 0.0), (1593, 0.0), (1604, 0.0), (1606, 0.0), (1608, 0.0), (1617, 0.0), (1619, 0.0), (1620, 0.0), (1621, 0.0), (1628, 0.0), (1629, 0.0), (1641, 0.0), (1653, 0.0), (1655, 0.0), (1657, 0.0), (1659, 0.0), (1664, 0.0), (1665, 0.0), (1670, 0.0), (1671, 0.0), (1672, 0.0), (1678, 0.0), (1681, 0.0), (1686, 0.0), (1687, 0.0), (1692, 0.0), (1701, 0.0), (1703, 0.0), (1704, 0.0), (1705, 0.0), (1711, 0.0), (1712, 0.0), (1713, 0.0), (1716, 0.0), (1717, 0.0), (1720, 0.0), (1725, 0.0), (1728, 0.0), (1730, 0.0), (1736, 0.0), (1739, 0.0), (1740, 0.0), (1742, 0.0), (1747, 0.0), (1754, 0.0), (1755, 0.0), (1760, 0.0), (1761, 0.0), (1762, 0.0), (1763, 0.0), (1764, 0.0), (1768, 0.0), (1770, 0.0), (1772, 0.0), (1774, 0.0), (1775, 0.0), (1779, 0.0), (1782, 0.0), (1789, 0.0), (1793, 0.0), (1796, 0.0), (1798, 0.0), (1799, 0.0), (1800, 0.0), (1801, 0.0), (1802, 0.0), (1805, 0.0), (1808, 0.0), (1810, 0.0), (1811, 0.0), (1812, 0.0), (1814, 0.0), (1815, 0.0), (1820, 0.0), (1823, 0.0), (1826, 0.0), (1828, 0.0), (1831, 0.0), (1832, 0.0), (1841, 0.0), (1843, 0.0), (1846, 0.0), (1853, 0.0), (1854, 0.0), (1858, 0.0), (1860, 0.0), (1862, 0.0), (1866, 0.0), (1872, 0.0), (1874, 0.0), (1875, 0.0), (1876, 0.0), (1884, 0.0), (1885, 0.0), (1887, 0.0), (1890, 0.0), (1892, 0.0), (1894, 0.0), (1896, 0.0), (1897, 0.0), (1901, 0.0), (1908, 0.0), (1918, 0.0), (1920, 0.0), (1922, 0.0), (1924, 0.0), (1931, 0.0), (1934, 0.0), (1936, 0.0), (1942, 0.0), (1945, 0.0), (1946, 0.0), (1952, 0.0), (1958, 0.0), (1959, 0.0), (1960, 0.0), (1964, 0.0), (1967, 0.0), (1972, 0.0), (1976, 0.0), (1979, 0.0), (1983, 0.0), (1988, 0.0), (1989, 0.0), (1991, 0.0), (1995, 0.0), (1997, 0.0), (2004, 0.0), (2008, 0.0), (2010, 0.0), (2011, 0.0), (2013, 0.0), (2015, 0.0), (2016, 0.0), (2022, 0.0), (2023, 0.0), (2024, 0.0), (2028, 0.0), (2029, 0.0), (2034, 0.0), (2035, 0.0), (2037, 0.0), (2038, 0.0), (2039, 0.0), (2040, 0.0), (2044, 0.0), (2045, 0.0), (2047, 0.0), (2048, 0.0), (2051, 0.0), (2053, 0.0), (2054, 0.0), (2061, 0.0), (2065, 0.0), (2066, 0.0), (2069, 0.0), (2070, 0.0), (2072, 0.0), (2075, 0.0), (2080, 0.0), (2083, 0.0), (2084, 0.0), (2085, 0.0), (2089, 0.0), (2091, 0.0), (2095, 0.0), (2096, 0.0), (2097, 0.0), (2100, 0.0), (2102, 0.0), (2104, 0.0), (2105, 0.0), (2112, 0.0), (2117, 0.0), (2119, 0.0), (2120, 0.0), (2123, 0.0), (2126, 0.0), (2127, 0.0), (2129, 0.0), (2130, 0.0), (2132, 0.0), (2133, 0.0), (2134, 0.0), (2135, 0.0), (2136, 0.0), (2141, 0.0), (2142, 0.0), (2149, 0.0), (2154, 0.0), (2155, 0.0), (2159, 0.0), (2163, 0.0), (2165, 0.0), (2169, 0.0), (2171, 0.0), (2173, 0.0), (2175, 0.0), (2176, 0.0), (2177, 0.0), (2181, 0.0), (2182, 0.0), (2184, 0.0), (2188, 0.0), (2189, 0.0), (2190, 0.0), (2196, 0.0), (2205, 0.0), (2206, 0.0), (2212, 0.0), (2213, 0.0), (2214, 0.0), (2216, 0.0), (2220, 0.0), (2224, 0.0), (2226, 0.0), (2230, 0.0), (2231, 0.0), (2233, 0.0), (2235, 0.0), (2237, 0.0), (2238, 0.0), (2239, 0.0), (2243, 0.0), (2244, 0.0), (2247, 0.0), (2248, 0.0), (2250, 0.0), (2251, 0.0), (2252, 0.0), (2253, 0.0), (2254, 0.0), (2256, 0.0), (2257, 0.0), (2259, 0.0), (2266, 0.0), (2267, 0.0), (2268, 0.0), (2269, 0.0), (2275, 0.0), (2277, 0.0), (2283, 0.0), (2285, 0.0), (2286, 0.0), (2288, 0.0), (2289, 0.0), (2293, 0.0), (2294, 0.0), (2300, 0.0), (2301, 0.0), (2306, 0.0), (2310, 0.0), (2313, 0.0), (2317, 0.0), (2318, 0.0), (2321, 0.0), (2323, 0.0), (2324, 0.0), (2326, 0.0), (2328, 0.0), (2330, 0.0), (2332, 0.0), (2334, 0.0), (2337, 0.0), (2341, 0.0), (2343, 0.0), (2344, 0.0), (2345, 0.0), (2347, 0.0), (2349, 0.0), (2350, 0.0), (2352, 0.0), (2355, 0.0), (2356, 0.0), (2358, 0.0), (2359, 0.0), (2361, 0.0), (2362, 0.0), (2365, 0.0), (2370, 0.0), (2374, 0.0), (2376, 0.0), (2378, 0.0), (2382, 0.0), (2383, 0.0), (2386, 0.0), (2388, 0.0), (2390, 0.0), (2392, 0.0), (2393, 0.0), (2401, 0.0), (2405, 0.0), (2406, 0.0), (2408, 0.0), (2412, 0.0), (2413, 0.0), (2414, 0.0), (2415, 0.0), (2417, 0.0), (2418, 0.0), (2419, 0.0), (2421, 0.0), (2428, 0.0), (2429, 0.0), (2430, 0.0), (2437, 0.0), (2438, 0.0), (2442, 0.0), (2447, 0.0), (2448, 0.0), (2451, 0.0), (2453, 0.0), (2454, 0.0), (2459, 0.0), (2462, 0.0), (2466, 0.0), (2469, 0.0), (2470, 0.0), (2471, 0.0), (2473, 0.0), (2475, 0.0), (2476, 0.0), (2477, 0.0), (2481, 0.0), (2484, 0.0), (2501, 0.0), (2505, 0.0), (2506, 0.0), (2517, 0.0), (2521, 0.0), (2522, 0.0), (2524, 0.0), (2525, 0.0), (2526, 0.0), (2528, 0.0), (2538, 0.0), (2540, 0.0), (2544, 0.0), (2545, 0.0), (2547, 0.0), (2549, 0.0), (2557, 0.0), (2558, 0.0), (2559, 0.0), (2560, 0.0), (2562, 0.0), (2565, 0.0), (2567, 0.0), (2568, 0.0), (2571, 0.0), (2572, 0.0), (2574, 0.0), (2576, 0.0), (2577, 0.0), (2578, 0.0), (2579, 0.0), (2580, 0.0), (2583, 0.0), (2585, 0.0), (2589, 0.0), (2593, 0.0), (2595, 0.0), (2598, 0.0), (2602, 0.0), (2606, 0.0), (2607, 0.0), (2609, 0.0), (2611, 0.0), (2612, 0.0), (2613, 0.0), (2614, 0.0), (2621, 0.0), (2622, 0.0), (2624, 0.0), (2625, 0.0), (2627, 0.0), (2628, 0.0), (2632, 0.0), (2634, 0.0), (2638, 0.0), (2641, 0.0), (2643, 0.0), (2645, 0.0), (2647, 0.0), (2649, 0.0), (2650, 0.0), (2651, 0.0), (2655, 0.0), (2658, 0.0), (2664, 0.0), (2668, 0.0), (2670, 0.0), (2673, 0.0), (2674, 0.0), (2689, 0.0), (2691, 0.0), (2692, 0.0), (2694, 0.0), (2695, 0.0), (2697, 0.0), (2698, 0.0), (2700, 0.0), (2704, 0.0), (2705, 0.0), (2708, 0.0), (2710, 0.0), (2711, 0.0), (2714, 0.0), (2716, 0.0), (2717, 0.0), (2723, 0.0), (2724, 0.0), (2725, 0.0), (2735, 0.0), (2739, 0.0), (2740, 0.0), (2742, 0.0), (2743, 0.0), (2745, 0.0), (2749, 0.0), (2750, 0.0), (2752, 0.0), (2753, 0.0), (2757, 0.0), (2760, 0.0), (2765, 0.0), (2767, 0.0), (2768, 0.0), (2771, 0.0), (2772, 0.0), (2775, 0.0), (2777, 0.0), (2780, 0.0), (2783, 0.0), (2784, 0.0), (2788, 0.0), (2789, 0.0), (2791, 0.0), (2792, 0.0), (2795, 0.0), (2798, 0.0), (2800, 0.0), (2802, 0.0), (2803, 0.0), (2806, 0.0), (2808, 0.0), (2809, 0.0), (2815, 0.0), (2819, 0.0), (2821, 0.0), (2831, 0.0), (2840, 0.0), (2842, 0.0), (2848, 0.0), (2849, 0.0), (2850, 0.0), (2854, 0.0), (2860, 0.0), (2861, 0.0), (2862, 0.0), (2864, 0.0), (2868, 0.0), (2869, 0.0), (2870, 0.0), (2879, 0.0), (2881, 0.0), (2883, 0.0), (2885, 0.0), (2886, 0.0), (2887, 0.0), (2888, 0.0), (2889, 0.0), (2890, 0.0), (2894, 0.0), (2898, 0.0), (2900, 0.0), (2901, 0.0), (2903, 0.0), (2904, 0.0), (2905, 0.0), (2915, 0.0), (2916, 0.0), (2917, 0.0), (2919, 0.0), (2920, 0.0), (2923, 0.0), (2927, 0.0), (2931, 0.0), (2932, 0.0), (2934, 0.0), (2935, 0.0), (2936, 0.0), (2937, 0.0), (2938, 0.0), (2943, 0.0), (2944, 0.0), (2946, 0.0), (2950, 0.0), (2953, 0.0), (2956, 0.0), (2957, 0.0), (2958, 0.0), (2959, 0.0), (2960, 0.0), (2961, 0.0), (2963, 0.0), (2964, 0.0), (2967, 0.0), (2974, 0.0), (2975, 0.0), (2977, 0.0), (2981, 0.0), (2987, 0.0), (2988, 0.0), (2989, 0.0), (2993, 0.0), (2996, 0.0), (2997, 0.0), (2998, 0.0), (3000, 0.0), (3004, 0.0), (3006, 0.0), (3008, 0.0), (3010, 0.0), (3011, 0.0), (3012, 0.0), (3015, 0.0), (3019, 0.0), (3022, 0.0), (3024, 0.0), (3025, 0.0), (3027, 0.0), (3028, 0.0), (3029, 0.0), (3030, 0.0), (3031, 0.0), (3032, 0.0), (3035, 0.0), (3043, 0.0), (3045, 0.0), (3046, 0.0), (3047, 0.0), (3049, 0.0), (3051, 0.0), (3052, 0.0), (3055, 0.0), (3058, 0.0), (3059, 0.0), (3064, 0.0), (3065, 0.0), (3067, 0.0), (3069, 0.0), (3072, 0.0), (3075, 0.0), (3079, 0.0), (3081, 0.0), (3085, 0.0), (3091, 0.0), (3093, 0.0), (3094, 0.0), (3096, 0.0), (3099, 0.0), (3100, 0.0), (3103, 0.0), (3107, 0.0), (3110, 0.0), (3112, 0.0), (3116, 0.0), (3117, 0.0), (3119, 0.0), (3120, 0.0), (3121, 0.0), (3123, 0.0), (3124, 0.0), (3125, 0.0), (3128, 0.0), (3129, 0.0), (3132, 0.0), (3133, 0.0), (3134, 0.0), (3135, 0.0), (3136, 0.0), (3138, 0.0), (3140, 0.0), (3143, 0.0), (3144, 0.0), (3145, 0.0), (3148, 0.0), (3153, 0.0), (3154, 0.0), (3156, 0.0), (3157, 0.0), (3158, 0.0), (3159, 0.0), (3161, 0.0), (3163, 0.0), (3165, 0.0), (3167, 0.0), (3170, 0.0), (3171, 0.0), (3173, 0.0), (3174, 0.0), (3176, 0.0), (3180, 0.0), (3184, 0.0), (3185, 0.0), (3186, 0.0), (3196, 0.0), (3199, 0.0), (3200, 0.0), (3202, 0.0), (3208, 0.0), (3210, 0.0), (3211, 0.0), (3213, 0.0), (3215, 0.0), (3216, 0.0), (3219, 0.0), (3222, 0.0), (3223, 0.0), (3225, 0.0), (3226, 0.0), (3227, 0.0), (3228, 0.0), (3230, 0.0), (3233, 0.0), (3241, 0.0), (3242, 0.0), (3243, 0.0), (3247, 0.0), (3248, 0.0), (3251, 0.0), (3255, 0.0), (3261, 0.0), (3262, 0.0), (3263, 0.0), (3264, 0.0), (3268, 0.0), (3269, 0.0), (3272, 0.0), (3274, 0.0), (3275, 0.0), (3276, 0.0), (3284, 0.0), (3285, 0.0), (3291, 0.0), (3292, 0.0), (3293, 0.0), (3294, 0.0), (3296, 0.0), (3298, 0.0), (3300, 0.0), (3302, 0.0), (3305, 0.0), (3306, 0.0), (3307, 0.0), (3314, 0.0), (3316, 0.0), (3317, 0.0), (3318, 0.0), (3322, 0.0), (3325, 0.0), (3327, 0.0), (3331, 0.0), (3333, 0.0), (3335, 0.0), (3339, 0.0), (3340, 0.0), (3341, 0.0), (3342, 0.0), (3344, 0.0), (3345, 0.0), (3353, 0.0), (3354, 0.0), (3355, 0.0), (3356, 0.0), (3358, 0.0), (3359, 0.0), (3361, 0.0), (3363, 0.0), (3365, 0.0), (3367, 0.0), (3368, 0.0), (3369, 0.0), (3372, 0.0), (3374, 0.0), (3376, 0.0), (3377, 0.0), (3379, 0.0), (3381, 0.0), (3384, 0.0), (3385, 0.0), (3387, 0.0), (3391, 0.0), (3399, 0.0), (3405, 0.0), (3407, 0.0), (3409, 0.0), (3414, 0.0), (3416, 0.0), (3417, 0.0), (3419, 0.0), (3423, 0.0), (3425, 0.0), (3429, 0.0), (3431, 0.0), (3432, 0.0), (3434, 0.0), (3435, 0.0), (3436, 0.0), (3438, 0.0), (3441, 0.0), (3448, 0.0), (3450, 0.0), (3451, 0.0), (3452, 0.0), (3453, 0.0), (3454, 0.0), (3455, 0.0), (3457, 0.0), (3459, 0.0), (3463, 0.0), (3465, 0.0), (3467, 0.0), (3468, 0.0), (3469, 0.0), (3472, 0.0), (3473, 0.0), (3476, 0.0), (3478, 0.0), (3482, 0.0), (3486, 0.0), (3491, 0.0), (3492, 0.0), (3497, 0.0), (3498, 0.0), (3499, 0.0), (3501, 0.0), (3505, 0.0), (3507, 0.0), (3515, 0.0), (3520, 0.0), (3521, 0.0), (3523, 0.0), (3524, 0.0), (3525, 0.0), (3527, 0.0), (3532, 0.0), (3533, 0.0), (3534, 0.0), (3536, 0.0), (3540, 0.0), (3542, 0.0), (3548, 0.0), (3551, 0.0), (3553, 0.0), (3555, 0.0), (3556, 0.0), (3557, 0.0), (3558, 0.0), (3560, 0.0), (3561, 0.0), (3564, 0.0), (3566, 0.0), (3567, 0.0), (3568, 0.0), (3569, 0.0), (3573, 0.0), (3578, 0.0), (3586, 0.0), (3587, 0.0), (3588, 0.0), (3590, 0.0), (3594, 0.0), (3596, 0.0), (3604, 0.0), (3605, 0.0), (3607, 0.0), (3608, 0.0), (3611, 0.0), (3612, 0.0), (3613, 0.0), (3614, 0.0), (3615, 0.0), (3617, 0.0), (3618, 0.0), (3620, 0.0), (3623, 0.0), (3624, 0.0), (3625, 0.0), (3627, 0.0), (3629, 0.0), (3631, 0.0), (3634, 0.0), (3635, 0.0), (3636, 0.0), (3637, 0.0), (3638, 0.0), (3640, 0.0), (3642, 0.0), (3643, 0.0), (3645, 0.0), (3651, 0.0), (3653, 0.0), (3654, 0.0), (3655, 0.0), (3656, 0.0), (3657, 0.0), (3659, 0.0), (3660, 0.0), (3663, 0.0), (3669, 0.0), (3670, 0.0), (3672, 0.0), (3675, 0.0), (3677, 0.0), (3679, 0.0), (3682, 0.0), (3687, 0.0), (3690, 0.0), (3691, 0.0), (3692, 0.0), (3693, 0.0), (3694, 0.0), (3695, 0.0), (3696, 0.0), (3699, 0.0), (3700, 0.0), (3703, 0.0), (3704, 0.0), (3706, 0.0), (3707, 0.0), (3708, 0.0), (3710, 0.0), (3711, 0.0), (3713, 0.0), (3714, 0.0), (3717, 0.0), (3719, 0.0), (3721, 0.0), (3723, 0.0), (3725, 0.0), (3726, 0.0), (3727, 0.0), (3729, 0.0), (3737, 0.0), (3741, 0.0), (3743, 0.0), (3744, 0.0), (3745, 0.0), (3747, 0.0), (3749, 0.0), (3756, 0.0), (3757, 0.0), (3760, 0.0), (3761, 0.0), (3762, 0.0), (3766, 0.0), (3770, 0.0), (3773, 0.0), (3774, 0.0), (3775, 0.0), (3776, 0.0), (3777, 0.0), (3778, 0.0), (3779, 0.0), (3780, 0.0), (3781, 0.0), (3782, 0.0), (3783, 0.0), (3784, 0.0), (3785, 0.0), (3786, 0.0), (3787, 0.0), (3795, 0.0), (3797, 0.0), (3798, 0.0), (3799, 0.0), (3801, 0.0), (3804, 0.0), (3806, 0.0), (3807, 0.0), (3809, 0.0), (3813, 0.0), (3814, 0.0), (3816, 0.0), (3817, 0.0), (3819, 0.0), (3825, 0.0), (3826, 0.0), (3827, 0.0), (3828, 0.0), (3830, 0.0), (3834, 0.0), (3835, 0.0), (3838, 0.0), (3840, 0.0), (3841, 0.0), (3843, 0.0), (3846, 0.0), (3847, 0.0), (3848, 0.0), (3850, 0.0), (3854, 0.0), (3857, 0.0), (3860, 0.0), (3862, 0.0), (3863, 0.0), (3867, 0.0), (3869, 0.0), (3871, 0.0), (3873, 0.0), (3874, 0.0), (3876, 0.0), (3877, 0.0), (3878, 0.0), (3880, 0.0), (3883, 0.0), (3884, 0.0), (3887, 0.0), (3893, 0.0), (3894, 0.0), (3895, 0.0), (3897, 0.0), (3898, 0.0), (3899, 0.0), (3900, 0.0), (3902, 0.0), (3903, 0.0), (3904, 0.0), (3907, 0.0), (3908, 0.0), (3910, 0.0), (3911, 0.0), (3915, 0.0), (3917, 0.0), (3918, 0.0), (3920, 0.0), (3924, 0.0), (3925, 0.0), (3927, 0.0), (3928, 0.0), (3929, 0.0), (3932, 0.0), (3935, 0.0), (3937, 0.0), (3939, 0.0), (3945, 0.0), (3946, 0.0), (3947, 0.0), (3948, 0.0), (3951, 0.0), (3953, 0.0), (3955, 0.0), (3956, 0.0), (3957, 0.0), (3959, 0.0), (3960, 0.0), (3961, 0.0), (3963, 0.0), (3966, 0.0), (3968, 0.0), (3972, 0.0), (3974, 0.0), (3977, 0.0), (3978, 0.0), (3979, 0.0), (3980, 0.0), (3981, 0.0), (3982, 0.0), (3983, 0.0), (3986, 0.0), (3990, 0.0), (3993, 0.0), (3997, 0.0), (3999, 0.0), (4000, 0.0), (4002, 0.0), (4004, 0.0), (4005, 0.0), (4009, 0.0), (4011, 0.0), (4013, 0.0), (4014, 0.0), (4015, 0.0), (4017, 0.0), (4019, 0.0), (4020, 0.0), (4021, 0.0), (4024, 0.0), (4030, 0.0), (4032, 0.0), (4033, 0.0), (4034, 0.0), (4038, 0.0), (4039, 0.0), (4041, 0.0), (4042, 0.0), (4043, 0.0), (4045, 0.0), (4046, 0.0), (4047, 0.0), (4048, 0.0), (4050, 0.0), (4053, 0.0), (4055, 0.0), (4056, 0.0), (4059, 0.0), (4065, 0.0), (4067, 0.0), (4068, 0.0), (4069, 0.0), (4070, 0.0), (4072, 0.0), (4075, 0.0), (4076, 0.0), (4077, 0.0), (4079, 0.0), (4080, 0.0), (4087, 0.0), (4088, 0.0), (4089, 0.0), (4091, 0.0), (4092, 0.0), (4095, 0.0), (4098, 0.0), (4100, 0.0), (4101, 0.0), (4107, 0.0), (4110, 0.0), (4114, 0.0), (4116, 0.0), (4119, 0.0), (4122, 0.0), (4123, 0.0), (4124, 0.0), (4126, 0.0), (4128, 0.0), (4129, 0.0), (4130, 0.0), (4136, 0.0), (4137, 0.0), (4138, 0.0), (4139, 0.0), (4141, 0.0), (4142, 0.0), (4143, 0.0), (4144, 0.0), (4145, 0.0), (4146, 0.0), (4148, 0.0), (4151, 0.0), (4152, 0.0), (4153, 0.0), (4154, 0.0), (4155, 0.0), (4160, 0.0), (4161, 0.0), (4162, 0.0), (4163, 0.0), (4164, 0.0), (4168, 0.0), (4169, 0.0), (4170, 0.0), (4171, 0.0), (4172, 0.0), (4175, 0.0), (4176, 0.0), (4177, 0.0), (4178, 0.0), (4179, 0.0), (4181, 0.0), (4185, 0.0), (4187, 0.0), (4194, 0.0), (4196, 0.0), (4201, 0.0), (4202, 0.0), (4205, 0.0), (4208, 0.0), (4209, 0.0), (4211, 0.0), (4212, 0.0), (4215, 0.0), (4216, 0.0), (4219, 0.0), (4221, 0.0), (4224, 0.0), (4225, 0.0), (4228, 0.0), (4229, 0.0), (4230, 0.0), (4231, 0.0), (4235, 0.0), (4236, 0.0), (4238, 0.0), (4241, 0.0), (4242, 0.0), (4243, 0.0), (4244, 0.0), (4245, 0.0), (4248, 0.0), (4249, 0.0), (4250, 0.0), (4253, 0.0), (4255, 0.0), (4261, 0.0), (4262, 0.0), (4264, 0.0), (4265, 0.0), (4266, 0.0), (4267, 0.0), (4268, 0.0), (4269, 0.0), (4270, 0.0), (4273, 0.0), (4274, 0.0), (4275, 0.0), (4276, 0.0), (4279, 0.0), (4280, 0.0), (4281, 0.0), (4282, 0.0), (4283, 0.0), (4284, 0.0), (4286, 0.0), (4288, 0.0), (4289, 0.0), (4292, 0.0), (4294, 0.0), (4296, 0.0), (4298, 0.0), (4299, 0.0), (4301, 0.0), (4306, 0.0), (4309, 0.0), (4310, 0.0), (4312, 0.0), (4313, 0.0), (4318, 0.0), (4320, 0.0), (4322, 0.0), (4326, 0.0), (4328, 0.0), (4330, 0.0), (4333, 0.0), (4336, 0.0), (4338, 0.0), (4339, 0.0), (4340, 0.0), (4343, 0.0), (4345, 0.0), (4348, 0.0), (4354, 0.0), (4355, 0.0), (4359, 0.0), (4361, 0.0), (4363, 0.0), (4364, 0.0), (4365, 0.0), (4368, 0.0), (4369, 0.0), (4372, 0.0), (4374, 0.0), (4376, 0.0), (4378, 0.0), (4379, 0.0), (4380, 0.0), (4381, 0.0), (4383, 0.0), (4384, 0.0), (4386, 0.0), (4387, 0.0), (4390, 0.0), (4391, 0.0), (4393, 0.0), (4396, 0.0), (4397, 0.0), (4398, 0.0), (4399, 0.0), (4400, 0.0), (4402, 0.0), (4403, 0.0), (4405, 0.0), (4406, 0.0), (4407, 0.0), (4409, 0.0), (4410, 0.0), (4411, 0.0), (4415, 0.0), (4416, 0.0), (4417, 0.0), (4418, 0.0), (4419, 0.0), (4423, 0.0), (4424, 0.0), (4425, 0.0), (4427, 0.0), (4428, 0.0), (4429, 0.0), (4430, 0.0), (4431, 0.0), (4436, 0.0), (4438, 0.0), (4439, 0.0), (4443, 0.0), (4444, 0.0), (4445, 0.0), (4450, 0.0), (4455, 0.0), (4456, 0.0), (4458, 0.0), (4461, 0.0), (4462, 0.0), (4464, 0.0), (4465, 0.0), (4466, 0.0), (4467, 0.0), (4469, 0.0), (4470, 0.0), (4471, 0.0), (4472, 0.0), (4474, 0.0), (4475, 0.0), (4476, 0.0), (4477, 0.0), (4478, 0.0), (4479, 0.0), (4481, 0.0), (4482, 0.0), (4485, 0.0), (4490, 0.0), (4491, 0.0), (4493, 0.0), (4494, 0.0), (4495, 0.0), (4497, 0.0), (4499, 0.0), (4500, 0.0), (4501, 0.0), (4502, 0.0), (4503, 0.0), (4504, 0.0), (4505, 0.0), (4508, 0.0), (4509, 0.0), (4510, 0.0), (4511, 0.0), (4512, 0.0), (4515, 0.0), (4516, 0.0), (4520, 0.0), (4521, 0.0), (4523, 0.0), (4524, 0.0), (4526, 0.0), (4528, 0.0), (4529, 0.0), (4531, 0.0), (4533, 0.0), (4536, 0.0), (4540, 0.0), (4541, 0.0), (4543, 0.0), (4544, 0.0), (4545, 0.0), (4550, 0.0), (4551, 0.0), (4553, 0.0), (4559, 0.0), (4561, 0.0), (4563, 0.0), (4566, 0.0), (4567, 0.0), (4568, 0.0), (4569, 0.0), (4572, 0.0), (4573, 0.0), (4574, 0.0), (4576, 0.0), (4578, 0.0), (4579, 0.0), (4581, 0.0), (4586, 0.0), (4587, 0.0), (4588, 0.0), (4589, 0.0), (4590, 0.0), (4591, 0.0), (4594, 0.0), (4597, 0.0), (4598, 0.0), (4601, 0.0), (4602, 0.0), (4604, 0.0), (4606, 0.0), (4608, 0.0), (4611, 0.0), (4612, 0.0), (4616, 0.0), (4617, 0.0), (4619, 0.0), (4620, 0.0), (4624, 0.0), (4625, 0.0), (4629, 0.0), (4632, 0.0), (4634, 0.0), (4635, 0.0), (4641, 0.0), (4642, 0.0), (4643, 0.0), (4644, 0.0), (4649, 0.0), (4651, 0.0), (4653, 0.0), (4656, 0.0), (4658, 0.0), (4659, 0.0), (4660, 0.0), (4662, 0.0), (4663, 0.0), (4664, 0.0), (4666, 0.0), (4669, 0.0), (4670, 0.0), (4671, 0.0), (4673, 0.0), (4676, 0.0), (4677, 0.0), (4678, 0.0), (4679, 0.0), (4680, 0.0), (4681, 0.0), (4682, 0.0), (4684, 0.0), (4685, 0.0), (4686, 0.0), (4687, 0.0), (4689, 0.0), (4691, 0.0), (4692, 0.0), (4693, 0.0), (4694, 0.0), (4696, 0.0), (4703, 0.0), (4704, 0.0), (4705, 0.0), (4707, 0.0), (4709, 0.0), (4713, 0.0), (4714, 0.0), (4715, 0.0), (4718, 0.0), (4722, 0.0), (4723, 0.0), (4724, 0.0), (4727, 0.0), (4729, 0.0), (4730, 0.0), (4731, 0.0), (4732, 0.0), (4733, 0.0), (4735, 0.0), (4736, 0.0), (4739, 0.0), (4740, 0.0), (4741, 0.0), (4742, 0.0), (4743, 0.0), (4745, 0.0), (4747, 0.0), (4748, 0.0), (4749, 0.0), (4752, 0.0), (4753, 0.0), (4754, 0.0), (4757, 0.0), (4758, 0.0)]\n"
          ]
        }
      ]
    },
    {
      "cell_type": "code",
      "source": [
        "print('Top 30 Movies Suggested for You : \\n')\n",
        "\n",
        "i = 1\n",
        "for movie in Sorted_Similar_Movies:\n",
        "  index = movie[0]\n",
        "  title_from_index = df[df.index==index]['Movie_Title'].values[0]\n",
        "  if (i<31):\n",
        "    print(i, '.',title_from_index)\n",
        "    i+=1"
      ],
      "metadata": {
        "colab": {
          "base_uri": "https://localhost:8080/"
        },
        "id": "PZ1tgR-nXyNc",
        "outputId": "b39f40bd-4510-4885-9ac6-5ecbeeb6331e"
      },
      "execution_count": 32,
      "outputs": [
        {
          "output_type": "stream",
          "name": "stdout",
          "text": [
            "Top 30 Movies Suggested for You : \n",
            "\n",
            "1 . Arachnophobia\n",
            "2 . Warlock: The Armageddon\n",
            "3 . Return to the Blue Lagoon\n",
            "4 . The Loss of Sexual Innocence\n",
            "5 . A Room with a View\n",
            "6 . Warlock\n",
            "7 . Georgia Rule\n",
            "8 . Blonde Ambition\n",
            "9 . Grindhouse\n",
            "10 . The Medallion\n",
            "11 . Leaving Las Vegas\n",
            "12 . Runaway Bride\n",
            "13 . Slither\n",
            "14 . Bang Bang Baby\n",
            "15 . Chicken Little\n",
            "16 . Red Riding: In the Year of Our Lord 1974\n",
            "17 . The Last Stand\n",
            "18 . Cheap Thrills\n",
            "19 . Agent Cody Banks 2: Destination London\n",
            "20 . My Last Day Without You\n",
            "21 . The Mothman Prophecies\n",
            "22 . Imaginary Heroes\n",
            "23 . Yoga Hosers\n",
            "24 . The Muppet Movie\n",
            "25 . Dumb and Dumber To\n",
            "26 . Josie and the Pussycats\n",
            "27 . Radio Days\n",
            "28 . Salvation Boulevard\n",
            "29 . Gettysburg\n",
            "30 . In & Out\n"
          ]
        }
      ]
    },
    {
      "cell_type": "markdown",
      "source": [
        "**Top 10 Movie Recommendation System**"
      ],
      "metadata": {
        "id": "YFkSEGb1an2r"
      }
    },
    {
      "cell_type": "code",
      "source": [
        "Movie_Name = input('Enter Your Favourite Movie Name: ')\n",
        "\n",
        "list_of_all_titles = df['Movie_Title'].tolist()\n",
        "\n",
        "Find_Close_Match = difflib.get_close_matches(Movie_Name, list_of_all_titles)\n",
        "\n",
        "Close_Match = Find_Close_Match[0]\n",
        "\n",
        "Index_of_Movie = df[df.Movie_Title == Close_Match]['Movie_ID'].values[0]\n",
        "\n",
        "Recommendation_Score = list(enumerate(Similarity_Score[Index_of_Movie]))\n",
        "\n",
        "sorted_similar_movies = sorted(Recommendation_Score, key = lambda x:x[1], reverse = True)\n",
        "\n",
        "print('Top 10 Movies Suggested For You : \\n')\n",
        "\n",
        "i = 1\n",
        "for movie in Sorted_Similar_Movies:\n",
        "  index = movie[0]\n",
        "  title_from_index = df[df.Movie_ID==index]['Movie_Title'].values\n",
        "  if (i<11):\n",
        "    print(i, '.',title_from_index)\n",
        "    i+=1"
      ],
      "metadata": {
        "colab": {
          "base_uri": "https://localhost:8080/"
        },
        "id": "u4hFEo4haw7N",
        "outputId": "a3d712af-595b-4f88-d181-2d066e5b07d3"
      },
      "execution_count": 33,
      "outputs": [
        {
          "output_type": "stream",
          "name": "stdout",
          "text": [
            "Enter Your Favourite Movie Name: I am Legend\n",
            "Top 10 Movies Suggested For You : \n",
            "\n",
            "1 . ['I Am Legend']\n",
            "2 . ['Town & Country']\n",
            "3 . ['Special']\n",
            "4 . ['Bon Cop Bad Cop']\n",
            "5 . ['Hellboy II: The Golden Army']\n",
            "6 . ['The Dead Zone']\n",
            "7 . ['Aqua Teen Hunger Force Colon Movie Film for Theaters']\n",
            "8 . ['Wah-Wah']\n",
            "9 . []\n",
            "10 . ['George of the Jungle']\n"
          ]
        }
      ]
    }
  ]
}